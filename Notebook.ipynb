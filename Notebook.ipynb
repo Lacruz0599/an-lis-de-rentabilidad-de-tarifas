{
 "cells": [
  {
   "cell_type": "markdown",
   "metadata": {
    "id": "3rYiDeEH0q0f"
   },
   "source": [
    "# ¿Cuál es la mejor tarifa?\n",
    "\n",
    "Trabajas como analista para el operador de telecomunicaciones Megaline. La empresa ofrece a sus clientes dos tarifas de prepago, Surf y Ultimate. El departamento comercial quiere saber cuál de las tarifas genera más ingresos para poder ajustar el presupuesto de publicidad.\n",
    "\n",
    "Vas a realizar un análisis preliminar de las tarifas basado en una selección de clientes relativamente pequeña. Tendrás los datos de 500 clientes de Megaline: quiénes son los clientes, de dónde son, qué tarifa usan, así como la cantidad de llamadas que hicieron y los mensajes de texto que enviaron en 2018. Tu trabajo es analizar el comportamiento de los clientes y determinar qué tarifa de prepago genera más ingresos."
   ]
  },
  {
   "cell_type": "markdown",
   "metadata": {
    "id": "VNddPNRQ0q0w"
   },
   "source": [
    "Este proyecto tiene como objetivo comprender en profundidad el comportamiento de los usuarios en relación con los consumos asociados a los planes de telefonía \"Surf\" y \"Ultimate\". El propósito final es identificar cuál de estos planes contribuye de manera más significativa a los ingresos de la compañía.\n",
    "\n",
    "Para llevar a cabo este análisis, se implementará un enfoque metodológico estructurado que comenzará con una exhaustiva exploración de los datos disponibles. En esta fase inicial, se verificará la integridad de los datos, asegurando que no existan valores faltantes y que los tipos de datos sean correctos. Además, se considerará la posibilidad de integrar datos adicionales que puedan enriquecer el análisis y facilitar su manipulación en etapas posteriores.\n",
    "\n",
    "Una vez garantizada la calidad de los datos, se procederá a una recopilación sistemática de la información mensual por usuario, organizándola en distintos DataFrames específicos para cada plan de telefonía. Posteriormente, se consolidarán los datos más relevantes en un único DataFrame central, sobre el cual se realizarán análisis descriptivos y se generarán diversas visualizaciones gráficas. Estas visualizaciones permitirán identificar patrones de consumo y, finalmente, determinar cuál de los dos planes genera mayores ingresos para la empresa.\n",
    "\n",
    "El análisis resultante no solo proporcionará una visión clara y cuantitativa del rendimiento de cada plan, sino que también ofrecerá insights valiosos para la toma de decisiones estratégicas en la gestión de productos y la optimización de las ofertas comerciales."
   ]
  },
  {
   "cell_type": "markdown",
   "metadata": {
    "id": "MQi4IPy70q0y"
   },
   "source": [
    "## Inicialización"
   ]
  },
  {
   "cell_type": "code",
   "execution_count": 1,
   "metadata": {
    "id": "MtYIuBxu0q0z"
   },
   "outputs": [],
   "source": [
    "# Cargar todas las librerías\n",
    "\n",
    "import pandas as pd\n",
    "from matplotlib import pyplot as plt\n",
    "from scipy import stats"
   ]
  },
  {
   "cell_type": "markdown",
   "metadata": {
    "id": "4ysWWC5i0q00"
   },
   "source": [
    "## Cargar datos"
   ]
  },
  {
   "cell_type": "code",
   "execution_count": 2,
   "metadata": {
    "id": "CCqPW7rS0q01"
   },
   "outputs": [],
   "source": [
    "# Carga los archivos de datos en diferentes DataFrames\n",
    "\n",
    "df_megaline_calls = pd.read_csv( '/datasets/megaline_calls.csv' )\n",
    "\n",
    "df_megaline_internet = pd.read_csv( '/datasets/megaline_internet.csv' )\n",
    "\n",
    "df_megaline_messages = pd.read_csv( '/datasets/megaline_messages.csv' )\n",
    "\n",
    "df_megaline_plans = pd.read_csv( '/datasets/megaline_plans.csv' )\n",
    "\n",
    "df_megaline_users = pd.read_csv( '/datasets/megaline_users.csv' )\n"
   ]
  },
  {
   "cell_type": "markdown",
   "metadata": {
    "id": "69qqoJ3r0q01"
   },
   "source": [
    "## Preparar los datos"
   ]
  },
  {
   "cell_type": "markdown",
   "metadata": {
    "id": "vUuZw80S0q01"
   },
   "source": [
    "Este es un paso crucial, ya que de su correcta ejecución depende la calidad de los datos con los que se trabajará, y, por lo tanto, la fiabilidad y precisión de los resultados que se obtendrán. Un análisis riguroso en esta fase garantiza que las conclusiones derivadas sean sólidas y basadas en datos de alta calidad, lo que es fundamental para tomar decisiones bien informadas."
   ]
  },
  {
   "cell_type": "markdown",
   "metadata": {
    "id": "ohBhimvH0q01"
   },
   "source": [
    "## Tarifas"
   ]
  },
  {
   "cell_type": "code",
   "execution_count": 3,
   "metadata": {
    "id": "GptqP3Q40q02",
    "scrolled": true
   },
   "outputs": [
    {
     "name": "stdout",
     "output_type": "stream",
     "text": [
      "<class 'pandas.core.frame.DataFrame'>\n",
      "RangeIndex: 2 entries, 0 to 1\n",
      "Data columns (total 8 columns):\n",
      " #   Column                 Non-Null Count  Dtype  \n",
      "---  ------                 --------------  -----  \n",
      " 0   messages_included      2 non-null      int64  \n",
      " 1   mb_per_month_included  2 non-null      int64  \n",
      " 2   minutes_included       2 non-null      int64  \n",
      " 3   usd_monthly_pay        2 non-null      int64  \n",
      " 4   usd_per_gb             2 non-null      int64  \n",
      " 5   usd_per_message        2 non-null      float64\n",
      " 6   usd_per_minute         2 non-null      float64\n",
      " 7   plan_name              2 non-null      object \n",
      "dtypes: float64(2), int64(5), object(1)\n",
      "memory usage: 256.0+ bytes\n"
     ]
    }
   ],
   "source": [
    "# Imprime la información general/resumida sobre el DataFrame de las tarifas\n",
    "\n",
    "df_megaline_plans.info()"
   ]
  },
  {
   "cell_type": "code",
   "execution_count": 4,
   "metadata": {
    "id": "64xzjwL70q02"
   },
   "outputs": [
    {
     "data": {
      "text/html": [
       "<div>\n",
       "<style scoped>\n",
       "    .dataframe tbody tr th:only-of-type {\n",
       "        vertical-align: middle;\n",
       "    }\n",
       "\n",
       "    .dataframe tbody tr th {\n",
       "        vertical-align: top;\n",
       "    }\n",
       "\n",
       "    .dataframe thead th {\n",
       "        text-align: right;\n",
       "    }\n",
       "</style>\n",
       "<table border=\"1\" class=\"dataframe\">\n",
       "  <thead>\n",
       "    <tr style=\"text-align: right;\">\n",
       "      <th></th>\n",
       "      <th>messages_included</th>\n",
       "      <th>mb_per_month_included</th>\n",
       "      <th>minutes_included</th>\n",
       "      <th>usd_monthly_pay</th>\n",
       "      <th>usd_per_gb</th>\n",
       "      <th>usd_per_message</th>\n",
       "      <th>usd_per_minute</th>\n",
       "      <th>plan_name</th>\n",
       "    </tr>\n",
       "  </thead>\n",
       "  <tbody>\n",
       "    <tr>\n",
       "      <th>0</th>\n",
       "      <td>50</td>\n",
       "      <td>15360</td>\n",
       "      <td>500</td>\n",
       "      <td>20</td>\n",
       "      <td>10</td>\n",
       "      <td>0.03</td>\n",
       "      <td>0.03</td>\n",
       "      <td>surf</td>\n",
       "    </tr>\n",
       "    <tr>\n",
       "      <th>1</th>\n",
       "      <td>1000</td>\n",
       "      <td>30720</td>\n",
       "      <td>3000</td>\n",
       "      <td>70</td>\n",
       "      <td>7</td>\n",
       "      <td>0.01</td>\n",
       "      <td>0.01</td>\n",
       "      <td>ultimate</td>\n",
       "    </tr>\n",
       "  </tbody>\n",
       "</table>\n",
       "</div>"
      ],
      "text/plain": [
       "   messages_included  mb_per_month_included  minutes_included  \\\n",
       "0                 50                  15360               500   \n",
       "1               1000                  30720              3000   \n",
       "\n",
       "   usd_monthly_pay  usd_per_gb  usd_per_message  usd_per_minute plan_name  \n",
       "0               20          10             0.03            0.03      surf  \n",
       "1               70           7             0.01            0.01  ultimate  "
      ]
     },
     "execution_count": 4,
     "metadata": {},
     "output_type": "execute_result"
    }
   ],
   "source": [
    "# Imprime una muestra de los datos para las tarifas\n",
    "\n",
    "df_megaline_plans.head()"
   ]
  },
  {
   "cell_type": "markdown",
   "metadata": {
    "id": "mEc_3_hs0q02"
   },
   "source": [
    "En este caso los datos proporcionados están correctos y listos para ser analizados, no hay nada que corregir "
   ]
  },
  {
   "cell_type": "markdown",
   "metadata": {
    "id": "R3C05i1l0q03"
   },
   "source": [
    "## Corregir datos"
   ]
  },
  {
   "cell_type": "code",
   "execution_count": 5,
   "metadata": {
    "id": "Y7SVmjGn0q03"
   },
   "outputs": [],
   "source": [
    "#Nada que corregir"
   ]
  },
  {
   "cell_type": "markdown",
   "metadata": {
    "id": "LJir7bml0q03"
   },
   "source": [
    "## Enriquecer los datos"
   ]
  },
  {
   "cell_type": "code",
   "execution_count": 6,
   "metadata": {
    "id": "gfcIEuXV0q04"
   },
   "outputs": [],
   "source": [
    "#Nada que agregar par enriquecer los datos"
   ]
  },
  {
   "cell_type": "markdown",
   "metadata": {
    "id": "1n2X6WXf0q04"
   },
   "source": [
    "## Usuarios/as"
   ]
  },
  {
   "cell_type": "code",
   "execution_count": 7,
   "metadata": {
    "id": "2NgjWFqx0q05"
   },
   "outputs": [
    {
     "name": "stdout",
     "output_type": "stream",
     "text": [
      "<class 'pandas.core.frame.DataFrame'>\n",
      "RangeIndex: 500 entries, 0 to 499\n",
      "Data columns (total 8 columns):\n",
      " #   Column      Non-Null Count  Dtype \n",
      "---  ------      --------------  ----- \n",
      " 0   user_id     500 non-null    int64 \n",
      " 1   first_name  500 non-null    object\n",
      " 2   last_name   500 non-null    object\n",
      " 3   age         500 non-null    int64 \n",
      " 4   city        500 non-null    object\n",
      " 5   reg_date    500 non-null    object\n",
      " 6   plan        500 non-null    object\n",
      " 7   churn_date  34 non-null     object\n",
      "dtypes: int64(2), object(6)\n",
      "memory usage: 31.4+ KB\n"
     ]
    }
   ],
   "source": [
    "# Imprime la información general/resumida sobre el DataFrame de usuarios\n",
    "df_megaline_users.info()\n"
   ]
  },
  {
   "cell_type": "code",
   "execution_count": 8,
   "metadata": {
    "id": "1IN1L9uh0q05"
   },
   "outputs": [
    {
     "data": {
      "text/html": [
       "<div>\n",
       "<style scoped>\n",
       "    .dataframe tbody tr th:only-of-type {\n",
       "        vertical-align: middle;\n",
       "    }\n",
       "\n",
       "    .dataframe tbody tr th {\n",
       "        vertical-align: top;\n",
       "    }\n",
       "\n",
       "    .dataframe thead th {\n",
       "        text-align: right;\n",
       "    }\n",
       "</style>\n",
       "<table border=\"1\" class=\"dataframe\">\n",
       "  <thead>\n",
       "    <tr style=\"text-align: right;\">\n",
       "      <th></th>\n",
       "      <th>user_id</th>\n",
       "      <th>first_name</th>\n",
       "      <th>last_name</th>\n",
       "      <th>age</th>\n",
       "      <th>city</th>\n",
       "      <th>reg_date</th>\n",
       "      <th>plan</th>\n",
       "      <th>churn_date</th>\n",
       "    </tr>\n",
       "  </thead>\n",
       "  <tbody>\n",
       "    <tr>\n",
       "      <th>49</th>\n",
       "      <td>1049</td>\n",
       "      <td>Loise</td>\n",
       "      <td>Avery</td>\n",
       "      <td>25</td>\n",
       "      <td>New York-Newark-Jersey City, NY-NJ-PA MSA</td>\n",
       "      <td>2018-02-21</td>\n",
       "      <td>surf</td>\n",
       "      <td>NaN</td>\n",
       "    </tr>\n",
       "    <tr>\n",
       "      <th>351</th>\n",
       "      <td>1351</td>\n",
       "      <td>Kyle</td>\n",
       "      <td>Grimes</td>\n",
       "      <td>47</td>\n",
       "      <td>San Antonio-New Braunfels, TX MSA</td>\n",
       "      <td>2018-09-05</td>\n",
       "      <td>ultimate</td>\n",
       "      <td>NaN</td>\n",
       "    </tr>\n",
       "    <tr>\n",
       "      <th>307</th>\n",
       "      <td>1307</td>\n",
       "      <td>Kristopher</td>\n",
       "      <td>Lang</td>\n",
       "      <td>28</td>\n",
       "      <td>Boston-Cambridge-Newton, MA-NH MSA</td>\n",
       "      <td>2018-12-31</td>\n",
       "      <td>surf</td>\n",
       "      <td>NaN</td>\n",
       "    </tr>\n",
       "    <tr>\n",
       "      <th>47</th>\n",
       "      <td>1047</td>\n",
       "      <td>Yuk</td>\n",
       "      <td>French</td>\n",
       "      <td>22</td>\n",
       "      <td>Indianapolis-Carmel-Anderson, IN MSA</td>\n",
       "      <td>2018-06-16</td>\n",
       "      <td>ultimate</td>\n",
       "      <td>NaN</td>\n",
       "    </tr>\n",
       "    <tr>\n",
       "      <th>261</th>\n",
       "      <td>1261</td>\n",
       "      <td>Dusti</td>\n",
       "      <td>Forbes</td>\n",
       "      <td>31</td>\n",
       "      <td>Kansas City, MO-KS MSA</td>\n",
       "      <td>2018-02-22</td>\n",
       "      <td>surf</td>\n",
       "      <td>NaN</td>\n",
       "    </tr>\n",
       "    <tr>\n",
       "      <th>394</th>\n",
       "      <td>1394</td>\n",
       "      <td>Alejandro</td>\n",
       "      <td>Carver</td>\n",
       "      <td>28</td>\n",
       "      <td>Stockton, CA MSA</td>\n",
       "      <td>2018-01-16</td>\n",
       "      <td>surf</td>\n",
       "      <td>NaN</td>\n",
       "    </tr>\n",
       "    <tr>\n",
       "      <th>130</th>\n",
       "      <td>1130</td>\n",
       "      <td>Clarence</td>\n",
       "      <td>Cunningham</td>\n",
       "      <td>27</td>\n",
       "      <td>Philadelphia-Camden-Wilmington, PA-NJ-DE-MD MSA</td>\n",
       "      <td>2018-05-17</td>\n",
       "      <td>surf</td>\n",
       "      <td>NaN</td>\n",
       "    </tr>\n",
       "    <tr>\n",
       "      <th>205</th>\n",
       "      <td>1205</td>\n",
       "      <td>Rafael</td>\n",
       "      <td>Wade</td>\n",
       "      <td>43</td>\n",
       "      <td>New York-Newark-Jersey City, NY-NJ-PA MSA</td>\n",
       "      <td>2018-04-05</td>\n",
       "      <td>surf</td>\n",
       "      <td>NaN</td>\n",
       "    </tr>\n",
       "    <tr>\n",
       "      <th>255</th>\n",
       "      <td>1255</td>\n",
       "      <td>Kennith</td>\n",
       "      <td>Rowland</td>\n",
       "      <td>22</td>\n",
       "      <td>Oklahoma City, OK MSA</td>\n",
       "      <td>2018-08-01</td>\n",
       "      <td>ultimate</td>\n",
       "      <td>NaN</td>\n",
       "    </tr>\n",
       "    <tr>\n",
       "      <th>155</th>\n",
       "      <td>1155</td>\n",
       "      <td>Claude</td>\n",
       "      <td>Hahn</td>\n",
       "      <td>19</td>\n",
       "      <td>Miami-Fort Lauderdale-West Palm Beach, FL MSA</td>\n",
       "      <td>2018-02-21</td>\n",
       "      <td>ultimate</td>\n",
       "      <td>NaN</td>\n",
       "    </tr>\n",
       "  </tbody>\n",
       "</table>\n",
       "</div>"
      ],
      "text/plain": [
       "     user_id  first_name   last_name  age  \\\n",
       "49      1049       Loise       Avery   25   \n",
       "351     1351        Kyle      Grimes   47   \n",
       "307     1307  Kristopher        Lang   28   \n",
       "47      1047         Yuk      French   22   \n",
       "261     1261       Dusti      Forbes   31   \n",
       "394     1394   Alejandro      Carver   28   \n",
       "130     1130    Clarence  Cunningham   27   \n",
       "205     1205      Rafael        Wade   43   \n",
       "255     1255     Kennith     Rowland   22   \n",
       "155     1155      Claude        Hahn   19   \n",
       "\n",
       "                                                city    reg_date      plan  \\\n",
       "49         New York-Newark-Jersey City, NY-NJ-PA MSA  2018-02-21      surf   \n",
       "351                San Antonio-New Braunfels, TX MSA  2018-09-05  ultimate   \n",
       "307               Boston-Cambridge-Newton, MA-NH MSA  2018-12-31      surf   \n",
       "47              Indianapolis-Carmel-Anderson, IN MSA  2018-06-16  ultimate   \n",
       "261                           Kansas City, MO-KS MSA  2018-02-22      surf   \n",
       "394                                 Stockton, CA MSA  2018-01-16      surf   \n",
       "130  Philadelphia-Camden-Wilmington, PA-NJ-DE-MD MSA  2018-05-17      surf   \n",
       "205        New York-Newark-Jersey City, NY-NJ-PA MSA  2018-04-05      surf   \n",
       "255                            Oklahoma City, OK MSA  2018-08-01  ultimate   \n",
       "155    Miami-Fort Lauderdale-West Palm Beach, FL MSA  2018-02-21  ultimate   \n",
       "\n",
       "    churn_date  \n",
       "49         NaN  \n",
       "351        NaN  \n",
       "307        NaN  \n",
       "47         NaN  \n",
       "261        NaN  \n",
       "394        NaN  \n",
       "130        NaN  \n",
       "205        NaN  \n",
       "255        NaN  \n",
       "155        NaN  "
      ]
     },
     "execution_count": 8,
     "metadata": {},
     "output_type": "execute_result"
    }
   ],
   "source": [
    "# Imprime una muestra de datos para usuarios\n",
    "\n",
    "df_megaline_users.sample( 10 )"
   ]
  },
  {
   "cell_type": "markdown",
   "metadata": {
    "id": "dCZoUq4f0q06"
   },
   "source": [
    "En este caso, los datos son correctos en su mayoría, con la excepción de las columnas `reg_date` y `churn_date`, las cuales presentan un tipo de dato incorrecto. Es necesario convertir estas columnas al tipo `datetime` para asegurar que las fechas se manejen correctamente en los análisis posteriores. Esta conversión es esencial para garantizar la integridad del análisis temporal y para evitar posibles errores en la interpretación de los datos."
   ]
  },
  {
   "cell_type": "markdown",
   "metadata": {
    "id": "BX5FQh_I0q06"
   },
   "source": [
    "### Corregir los datos"
   ]
  },
  {
   "cell_type": "markdown",
   "metadata": {
    "id": "8OdKMwJv0q06"
   },
   "source": [
    "Para corregir los datos bastará con aplicar el metodo .to_datetime en ambas columnas"
   ]
  },
  {
   "cell_type": "code",
   "execution_count": 9,
   "metadata": {
    "id": "yUqX-K0C0q07"
   },
   "outputs": [],
   "source": [
    "#Corrección del tipado de la fecha\n",
    "\n",
    "df_megaline_users[ \"reg_date\" ] = pd.to_datetime( df_megaline_users[ \"reg_date\" ], format = \"%Y-%m-%d\" )\n",
    "\n",
    "df_megaline_users[ \"churn_date\" ] = pd.to_datetime( df_megaline_users[ \"churn_date\" ], format = \"%Y-%m-%d\" )"
   ]
  },
  {
   "cell_type": "markdown",
   "metadata": {
    "id": "ycwuARJp0q07"
   },
   "source": [
    "### Enriquecer los datos"
   ]
  },
  {
   "cell_type": "markdown",
   "metadata": {
    "id": "96NIh4CJ0q08"
   },
   "source": [
    "Para optimizar la manipulación de datos en etapas posteriores del análisis, se añadirán dos nuevas columnas a este DataFrame:\n",
    "\n",
    "- **`reg_month`**: Esta columna contendrá el mes de registro del usuario, que será extraído a partir de la fecha de registro en la columna `reg_date`.\n",
    "- **`area`**: Esta columna almacenará la región o área del usuario, la cual será derivada de la columna `city`.\n",
    "\n",
    "Estas adiciones facilitarán un análisis más eficiente y permitirán realizar agrupaciones y filtrados de manera más intuitiva."
   ]
  },
  {
   "cell_type": "code",
   "execution_count": 10,
   "metadata": {
    "id": "iq0AaBS90q08"
   },
   "outputs": [],
   "source": [
    "df_megaline_users[ \"reg_month\" ] = df_megaline_users[ \"reg_date\" ].dt.month\n",
    "\n",
    "df_megaline_users[ \"area\" ] = df_megaline_users[ \"city\" ].apply( lambda city: city.split( \" \" )[-2] )\n"
   ]
  },
  {
   "cell_type": "markdown",
   "metadata": {
    "id": "o7MeKCid0q08"
   },
   "source": [
    "## Llamadas"
   ]
  },
  {
   "cell_type": "code",
   "execution_count": 11,
   "metadata": {
    "id": "6dDlnoDm0q08"
   },
   "outputs": [
    {
     "name": "stdout",
     "output_type": "stream",
     "text": [
      "<class 'pandas.core.frame.DataFrame'>\n",
      "RangeIndex: 137735 entries, 0 to 137734\n",
      "Data columns (total 4 columns):\n",
      " #   Column     Non-Null Count   Dtype  \n",
      "---  ------     --------------   -----  \n",
      " 0   id         137735 non-null  object \n",
      " 1   user_id    137735 non-null  int64  \n",
      " 2   call_date  137735 non-null  object \n",
      " 3   duration   137735 non-null  float64\n",
      "dtypes: float64(1), int64(1), object(2)\n",
      "memory usage: 4.2+ MB\n"
     ]
    }
   ],
   "source": [
    "# Imprime la información general/resumida sobre el DataFrame de las llamadas\n",
    "\n",
    "df_megaline_calls.info()"
   ]
  },
  {
   "cell_type": "code",
   "execution_count": 12,
   "metadata": {
    "id": "kuh1vlNB0q09"
   },
   "outputs": [
    {
     "data": {
      "text/html": [
       "<div>\n",
       "<style scoped>\n",
       "    .dataframe tbody tr th:only-of-type {\n",
       "        vertical-align: middle;\n",
       "    }\n",
       "\n",
       "    .dataframe tbody tr th {\n",
       "        vertical-align: top;\n",
       "    }\n",
       "\n",
       "    .dataframe thead th {\n",
       "        text-align: right;\n",
       "    }\n",
       "</style>\n",
       "<table border=\"1\" class=\"dataframe\">\n",
       "  <thead>\n",
       "    <tr style=\"text-align: right;\">\n",
       "      <th></th>\n",
       "      <th>id</th>\n",
       "      <th>user_id</th>\n",
       "      <th>call_date</th>\n",
       "      <th>duration</th>\n",
       "    </tr>\n",
       "  </thead>\n",
       "  <tbody>\n",
       "    <tr>\n",
       "      <th>117356</th>\n",
       "      <td>1410_343</td>\n",
       "      <td>1410</td>\n",
       "      <td>2018-10-13</td>\n",
       "      <td>6.04</td>\n",
       "    </tr>\n",
       "    <tr>\n",
       "      <th>91264</th>\n",
       "      <td>1329_7</td>\n",
       "      <td>1329</td>\n",
       "      <td>2018-12-08</td>\n",
       "      <td>5.72</td>\n",
       "    </tr>\n",
       "    <tr>\n",
       "      <th>24103</th>\n",
       "      <td>1090_283</td>\n",
       "      <td>1090</td>\n",
       "      <td>2018-09-20</td>\n",
       "      <td>0.00</td>\n",
       "    </tr>\n",
       "    <tr>\n",
       "      <th>10497</th>\n",
       "      <td>1046_363</td>\n",
       "      <td>1046</td>\n",
       "      <td>2018-06-29</td>\n",
       "      <td>13.11</td>\n",
       "    </tr>\n",
       "    <tr>\n",
       "      <th>41509</th>\n",
       "      <td>1153_178</td>\n",
       "      <td>1153</td>\n",
       "      <td>2018-08-12</td>\n",
       "      <td>8.71</td>\n",
       "    </tr>\n",
       "    <tr>\n",
       "      <th>16364</th>\n",
       "      <td>1064_222</td>\n",
       "      <td>1064</td>\n",
       "      <td>2018-07-08</td>\n",
       "      <td>0.00</td>\n",
       "    </tr>\n",
       "    <tr>\n",
       "      <th>134965</th>\n",
       "      <td>1490_65</td>\n",
       "      <td>1490</td>\n",
       "      <td>2018-09-12</td>\n",
       "      <td>0.19</td>\n",
       "    </tr>\n",
       "    <tr>\n",
       "      <th>5518</th>\n",
       "      <td>1027_61</td>\n",
       "      <td>1027</td>\n",
       "      <td>2018-11-22</td>\n",
       "      <td>17.32</td>\n",
       "    </tr>\n",
       "    <tr>\n",
       "      <th>43853</th>\n",
       "      <td>1159_449</td>\n",
       "      <td>1159</td>\n",
       "      <td>2018-12-16</td>\n",
       "      <td>5.92</td>\n",
       "    </tr>\n",
       "    <tr>\n",
       "      <th>121565</th>\n",
       "      <td>1427_233</td>\n",
       "      <td>1427</td>\n",
       "      <td>2018-08-17</td>\n",
       "      <td>19.11</td>\n",
       "    </tr>\n",
       "  </tbody>\n",
       "</table>\n",
       "</div>"
      ],
      "text/plain": [
       "              id  user_id   call_date  duration\n",
       "117356  1410_343     1410  2018-10-13      6.04\n",
       "91264     1329_7     1329  2018-12-08      5.72\n",
       "24103   1090_283     1090  2018-09-20      0.00\n",
       "10497   1046_363     1046  2018-06-29     13.11\n",
       "41509   1153_178     1153  2018-08-12      8.71\n",
       "16364   1064_222     1064  2018-07-08      0.00\n",
       "134965   1490_65     1490  2018-09-12      0.19\n",
       "5518     1027_61     1027  2018-11-22     17.32\n",
       "43853   1159_449     1159  2018-12-16      5.92\n",
       "121565  1427_233     1427  2018-08-17     19.11"
      ]
     },
     "execution_count": 12,
     "metadata": {},
     "output_type": "execute_result"
    }
   ],
   "source": [
    "# Imprime una muestra de datos para las llamadas\n",
    "\n",
    "df_megaline_calls.sample( 10 )"
   ]
  },
  {
   "cell_type": "markdown",
   "metadata": {
    "id": "DOAxYJSx0q09"
   },
   "source": [
    "En el conjunto de datos, se observa que la columna `duration` contiene varios registros con un valor de `0.00` minutos. Estos valores probablemente corresponden a llamadas que no fueron respondidas. \n",
    "\n",
    "Dado que vamos a calcular algunos promedios, es aconsejable eliminar estos registros con duración de `0.00` minutos para evitar posibles sesgos en los resultados. Además, es importante corregir el tipo de dato de la columna de fechas para asegurar que el análisis sea preciso y consistente."
   ]
  },
  {
   "cell_type": "markdown",
   "metadata": {
    "id": "S7hzxmbX0q0-"
   },
   "source": [
    "### Corregir los datos"
   ]
  },
  {
   "cell_type": "markdown",
   "metadata": {
    "id": "YxWyAjD20q0-"
   },
   "source": [
    "**Acciones a tomar:**\n",
    "1. **Eliminar los registros con duración de `0.00` minutos** para evitar distorsiones en los cálculos de promedios.\n",
    "2. **Corregir el tipo de dato de las columnas de fecha** para asegurar una correcta manipulación y análisis temporal.\n",
    "\n",
    "Estas acciones asegurarán la calidad y precisión del análisis subsiguiente."
   ]
  },
  {
   "cell_type": "code",
   "execution_count": 13,
   "metadata": {},
   "outputs": [],
   "source": [
    "# Eliminar registros con una duración de 0\n",
    "df_megaline_calls = df_megaline_calls[ ~(df_megaline_calls[ \"duration\" ] == 0) ]"
   ]
  },
  {
   "cell_type": "code",
   "execution_count": 14,
   "metadata": {
    "id": "S2r8xA4f0q0-"
   },
   "outputs": [],
   "source": [
    "# Corregimos el tipado de la fecha con ayuda de to_datetime()\n",
    "df_megaline_calls[ \"call_date\" ] = pd.to_datetime( df_megaline_calls[ \"call_date\" ], format = \"%Y-%m-%d\" )"
   ]
  },
  {
   "cell_type": "markdown",
   "metadata": {
    "id": "KrMgTrlG0q0_"
   },
   "source": [
    "### Enriquecer los datos"
   ]
  },
  {
   "cell_type": "markdown",
   "metadata": {
    "id": "a9MbmEvE0q0_"
   },
   "source": [
    "Para optimizar el estudio de los datos, se añadirán dos nuevas columnas al DataFrame:\n",
    "\n",
    "1. **`month`**: Esta columna almacenará el mes de la fecha de la llamada, como su nombre indica. Esto facilitará el análisis temporal y permitirá agrupar las llamadas por mes.\n",
    "\n",
    "2. **`real_minutes`**: **Esta columna contendrá la duración de las llamadas en minutos, redondeada según los estándares de Megaline.** Esta información será crucial para cálculos precisos de ingresos y para realizar agrupaciones de datos más significativas."
   ]
  },
  {
   "cell_type": "code",
   "execution_count": 15,
   "metadata": {
    "id": "iZ1avpA_0q0_"
   },
   "outputs": [],
   "source": [
    "# La función redondeo se encarga de redondear al número superior inmediato\n",
    "def redondeo( num ):\n",
    "    if num == 0 :\n",
    "        return int( num )\n",
    "    elif num % 1 != 0:\n",
    "        return int( num ) + 1\n",
    "    else:\n",
    "        return int( num )\n",
    "\n",
    "# Crear una columna month para almacenar el mes de la llamada\n",
    "df_megaline_calls[ \"month\" ] = df_megaline_calls[ \"call_date\" ].dt.month\n",
    "\n",
    "###############################################################################################################################################\n",
    "# En esta linea de código se realiza el redondeo de los minutos utilizando la funcion redondeo() que se declara al inicio del bloque###########\n",
    "###############################################################################################################################################\n",
    "df_megaline_calls[ \"real_minutes\" ] = df_megaline_calls[ \"duration\" ].apply( redondeo )\n"
   ]
  },
  {
   "cell_type": "markdown",
   "metadata": {
    "id": "mOUZSi180q0_"
   },
   "source": [
    "## Mensajes"
   ]
  },
  {
   "cell_type": "code",
   "execution_count": 16,
   "metadata": {
    "id": "R-bYJpdV0q1A"
   },
   "outputs": [
    {
     "name": "stdout",
     "output_type": "stream",
     "text": [
      "<class 'pandas.core.frame.DataFrame'>\n",
      "RangeIndex: 76051 entries, 0 to 76050\n",
      "Data columns (total 3 columns):\n",
      " #   Column        Non-Null Count  Dtype \n",
      "---  ------        --------------  ----- \n",
      " 0   id            76051 non-null  object\n",
      " 1   user_id       76051 non-null  int64 \n",
      " 2   message_date  76051 non-null  object\n",
      "dtypes: int64(1), object(2)\n",
      "memory usage: 1.7+ MB\n"
     ]
    }
   ],
   "source": [
    "# Imprime la información general/resumida sobre el DataFrame de los mensajes\n",
    "\n",
    "df_megaline_messages.info()"
   ]
  },
  {
   "cell_type": "code",
   "execution_count": 17,
   "metadata": {
    "id": "mCEl2iGE0q1A"
   },
   "outputs": [
    {
     "data": {
      "text/html": [
       "<div>\n",
       "<style scoped>\n",
       "    .dataframe tbody tr th:only-of-type {\n",
       "        vertical-align: middle;\n",
       "    }\n",
       "\n",
       "    .dataframe tbody tr th {\n",
       "        vertical-align: top;\n",
       "    }\n",
       "\n",
       "    .dataframe thead th {\n",
       "        text-align: right;\n",
       "    }\n",
       "</style>\n",
       "<table border=\"1\" class=\"dataframe\">\n",
       "  <thead>\n",
       "    <tr style=\"text-align: right;\">\n",
       "      <th></th>\n",
       "      <th>id</th>\n",
       "      <th>user_id</th>\n",
       "      <th>message_date</th>\n",
       "    </tr>\n",
       "  </thead>\n",
       "  <tbody>\n",
       "    <tr>\n",
       "      <th>32263</th>\n",
       "      <td>1199_539</td>\n",
       "      <td>1199</td>\n",
       "      <td>2018-11-26</td>\n",
       "    </tr>\n",
       "    <tr>\n",
       "      <th>50119</th>\n",
       "      <td>1328_1077</td>\n",
       "      <td>1328</td>\n",
       "      <td>2018-06-11</td>\n",
       "    </tr>\n",
       "    <tr>\n",
       "      <th>66194</th>\n",
       "      <td>1433_134</td>\n",
       "      <td>1433</td>\n",
       "      <td>2018-11-17</td>\n",
       "    </tr>\n",
       "    <tr>\n",
       "      <th>29970</th>\n",
       "      <td>1187_78</td>\n",
       "      <td>1187</td>\n",
       "      <td>2018-05-10</td>\n",
       "    </tr>\n",
       "    <tr>\n",
       "      <th>68410</th>\n",
       "      <td>1441_4</td>\n",
       "      <td>1441</td>\n",
       "      <td>2018-11-21</td>\n",
       "    </tr>\n",
       "    <tr>\n",
       "      <th>69518</th>\n",
       "      <td>1451_215</td>\n",
       "      <td>1451</td>\n",
       "      <td>2018-11-29</td>\n",
       "    </tr>\n",
       "    <tr>\n",
       "      <th>70235</th>\n",
       "      <td>1456_166</td>\n",
       "      <td>1456</td>\n",
       "      <td>2018-12-20</td>\n",
       "    </tr>\n",
       "    <tr>\n",
       "      <th>7592</th>\n",
       "      <td>1059_475</td>\n",
       "      <td>1059</td>\n",
       "      <td>2018-10-06</td>\n",
       "    </tr>\n",
       "    <tr>\n",
       "      <th>22966</th>\n",
       "      <td>1137_491</td>\n",
       "      <td>1137</td>\n",
       "      <td>2018-10-20</td>\n",
       "    </tr>\n",
       "    <tr>\n",
       "      <th>56269</th>\n",
       "      <td>1355_403</td>\n",
       "      <td>1355</td>\n",
       "      <td>2018-10-24</td>\n",
       "    </tr>\n",
       "  </tbody>\n",
       "</table>\n",
       "</div>"
      ],
      "text/plain": [
       "              id  user_id message_date\n",
       "32263   1199_539     1199   2018-11-26\n",
       "50119  1328_1077     1328   2018-06-11\n",
       "66194   1433_134     1433   2018-11-17\n",
       "29970    1187_78     1187   2018-05-10\n",
       "68410     1441_4     1441   2018-11-21\n",
       "69518   1451_215     1451   2018-11-29\n",
       "70235   1456_166     1456   2018-12-20\n",
       "7592    1059_475     1059   2018-10-06\n",
       "22966   1137_491     1137   2018-10-20\n",
       "56269   1355_403     1355   2018-10-24"
      ]
     },
     "execution_count": 17,
     "metadata": {},
     "output_type": "execute_result"
    }
   ],
   "source": [
    "# Imprime una muestra de datos para los mensajes\n",
    "\n",
    "df_megaline_messages.sample( 10 )\n"
   ]
  },
  {
   "cell_type": "markdown",
   "metadata": {
    "id": "04xDj7KH0q1A"
   },
   "source": [
    "Al igual que los conjuntos de datos anteriores la fecha está con un tipado incorrecto."
   ]
  },
  {
   "cell_type": "markdown",
   "metadata": {
    "id": "Sprfak900q1B"
   },
   "source": [
    "### Corregir los datos"
   ]
  },
  {
   "cell_type": "markdown",
   "metadata": {
    "id": "eGw7d9j10q1B"
   },
   "source": [
    "Es necesario corregir el tipo de dato de la columna `message_date` para asegurar que se maneje adecuadamente como una fecha. Esta corrección es fundamental para realizar análisis temporales precisos y para evitar problemas en la manipulación de los datos relacionados con fechas."
   ]
  },
  {
   "cell_type": "code",
   "execution_count": 18,
   "metadata": {
    "id": "vsllvkoa0q1B"
   },
   "outputs": [],
   "source": [
    "# Corregimos el tipado de la fecha con ayuda de to_datetime()\n",
    "\n",
    "df_megaline_messages[ \"message_date\" ] = pd.to_datetime( df_megaline_messages[ \"message_date\" ], format = \"%Y-%m-%d\" )"
   ]
  },
  {
   "cell_type": "markdown",
   "metadata": {
    "id": "HvLid7iD0q1B"
   },
   "source": [
    "### Enriquecer los datos"
   ]
  },
  {
   "cell_type": "markdown",
   "metadata": {
    "id": "8nhPFKIe0q1C"
   },
   "source": [
    "Al igual que en el análisis previo, se añadirá la columna `month` para facilitar la agrupación y el análisis de los datos en etapas posteriores. Esta columna permitirá segmentar los datos por mes, simplificando así el análisis temporal y la generación de informes detallados."
   ]
  },
  {
   "cell_type": "code",
   "execution_count": 19,
   "metadata": {
    "id": "zYEXZac10q1C"
   },
   "outputs": [],
   "source": [
    "# Crear una columna month para almacenar el mes de la llamada\n",
    "\n",
    "df_megaline_messages[ \"month\" ] = df_megaline_messages[ \"message_date\" ].dt.month\n"
   ]
  },
  {
   "cell_type": "markdown",
   "metadata": {
    "id": "bStkaxn40q1C"
   },
   "source": [
    "## Internet"
   ]
  },
  {
   "cell_type": "code",
   "execution_count": 20,
   "metadata": {
    "id": "e-Uz5qyn0q1C"
   },
   "outputs": [
    {
     "name": "stdout",
     "output_type": "stream",
     "text": [
      "<class 'pandas.core.frame.DataFrame'>\n",
      "RangeIndex: 104825 entries, 0 to 104824\n",
      "Data columns (total 4 columns):\n",
      " #   Column        Non-Null Count   Dtype  \n",
      "---  ------        --------------   -----  \n",
      " 0   id            104825 non-null  object \n",
      " 1   user_id       104825 non-null  int64  \n",
      " 2   session_date  104825 non-null  object \n",
      " 3   mb_used       104825 non-null  float64\n",
      "dtypes: float64(1), int64(1), object(2)\n",
      "memory usage: 3.2+ MB\n"
     ]
    }
   ],
   "source": [
    "# Imprime la información general/resumida sobre el DataFrame de internet\n",
    "\n",
    "df_megaline_internet.info()\n"
   ]
  },
  {
   "cell_type": "code",
   "execution_count": 21,
   "metadata": {
    "id": "9r3x_XLw0q1C"
   },
   "outputs": [
    {
     "data": {
      "text/html": [
       "<div>\n",
       "<style scoped>\n",
       "    .dataframe tbody tr th:only-of-type {\n",
       "        vertical-align: middle;\n",
       "    }\n",
       "\n",
       "    .dataframe tbody tr th {\n",
       "        vertical-align: top;\n",
       "    }\n",
       "\n",
       "    .dataframe thead th {\n",
       "        text-align: right;\n",
       "    }\n",
       "</style>\n",
       "<table border=\"1\" class=\"dataframe\">\n",
       "  <thead>\n",
       "    <tr style=\"text-align: right;\">\n",
       "      <th></th>\n",
       "      <th>id</th>\n",
       "      <th>user_id</th>\n",
       "      <th>session_date</th>\n",
       "      <th>mb_used</th>\n",
       "    </tr>\n",
       "  </thead>\n",
       "  <tbody>\n",
       "    <tr>\n",
       "      <th>95730</th>\n",
       "      <td>1446_273</td>\n",
       "      <td>1446</td>\n",
       "      <td>2018-11-25</td>\n",
       "      <td>280.72</td>\n",
       "    </tr>\n",
       "    <tr>\n",
       "      <th>66235</th>\n",
       "      <td>1308_14</td>\n",
       "      <td>1308</td>\n",
       "      <td>2018-12-06</td>\n",
       "      <td>356.30</td>\n",
       "    </tr>\n",
       "    <tr>\n",
       "      <th>10479</th>\n",
       "      <td>1054_11</td>\n",
       "      <td>1054</td>\n",
       "      <td>2018-07-12</td>\n",
       "      <td>160.09</td>\n",
       "    </tr>\n",
       "    <tr>\n",
       "      <th>97537</th>\n",
       "      <td>1460_78</td>\n",
       "      <td>1460</td>\n",
       "      <td>2018-06-07</td>\n",
       "      <td>100.49</td>\n",
       "    </tr>\n",
       "    <tr>\n",
       "      <th>25605</th>\n",
       "      <td>1120_108</td>\n",
       "      <td>1120</td>\n",
       "      <td>2018-05-21</td>\n",
       "      <td>383.68</td>\n",
       "    </tr>\n",
       "    <tr>\n",
       "      <th>74331</th>\n",
       "      <td>1348_399</td>\n",
       "      <td>1348</td>\n",
       "      <td>2018-10-28</td>\n",
       "      <td>0.00</td>\n",
       "    </tr>\n",
       "    <tr>\n",
       "      <th>7716</th>\n",
       "      <td>1041_556</td>\n",
       "      <td>1041</td>\n",
       "      <td>2018-08-18</td>\n",
       "      <td>434.74</td>\n",
       "    </tr>\n",
       "    <tr>\n",
       "      <th>101608</th>\n",
       "      <td>1486_348</td>\n",
       "      <td>1486</td>\n",
       "      <td>2018-12-18</td>\n",
       "      <td>888.21</td>\n",
       "    </tr>\n",
       "    <tr>\n",
       "      <th>78447</th>\n",
       "      <td>1366_136</td>\n",
       "      <td>1366</td>\n",
       "      <td>2018-12-29</td>\n",
       "      <td>0.00</td>\n",
       "    </tr>\n",
       "    <tr>\n",
       "      <th>78119</th>\n",
       "      <td>1364_219</td>\n",
       "      <td>1364</td>\n",
       "      <td>2018-09-25</td>\n",
       "      <td>903.15</td>\n",
       "    </tr>\n",
       "  </tbody>\n",
       "</table>\n",
       "</div>"
      ],
      "text/plain": [
       "              id  user_id session_date  mb_used\n",
       "95730   1446_273     1446   2018-11-25   280.72\n",
       "66235    1308_14     1308   2018-12-06   356.30\n",
       "10479    1054_11     1054   2018-07-12   160.09\n",
       "97537    1460_78     1460   2018-06-07   100.49\n",
       "25605   1120_108     1120   2018-05-21   383.68\n",
       "74331   1348_399     1348   2018-10-28     0.00\n",
       "7716    1041_556     1041   2018-08-18   434.74\n",
       "101608  1486_348     1486   2018-12-18   888.21\n",
       "78447   1366_136     1366   2018-12-29     0.00\n",
       "78119   1364_219     1364   2018-09-25   903.15"
      ]
     },
     "execution_count": 21,
     "metadata": {},
     "output_type": "execute_result"
    }
   ],
   "source": [
    "# Imprime una muestra de datos para el tráfico de internet\n",
    "\n",
    "df_megaline_internet.sample( 10 )"
   ]
  },
  {
   "cell_type": "markdown",
   "metadata": {
    "id": "EzOG5ik30q1D"
   },
   "source": [
    "En este conjunto de datos, se observa que la columna `mb_used` contiene registros con un valor de `0.00` MB. De manera similar a lo ocurrido con el conjunto de llamadas, estos valores probablemente representan datos no significativos. Para evitar que estos registros introduzcan sesgos en los análisis futuros, se eliminarán.\n",
    "\n",
    "Además, es necesario corregir el tipo de dato de las fechas en este conjunto, de manera consistente con los conjuntos de datos anteriores. Esta corrección garantizará una adecuada manipulación y análisis temporal de los datos."
   ]
  },
  {
   "cell_type": "markdown",
   "metadata": {
    "id": "yA0tkPFg0q1D"
   },
   "source": [
    "### Corregir los datos"
   ]
  },
  {
   "cell_type": "markdown",
   "metadata": {
    "id": "zlZMuIEK0q1D"
   },
   "source": [
    "Para asegurar la calidad de los datos en este conjunto, se realizarán las siguientes acciones:\n",
    "\n",
    "1. **Eliminar los registros con `0.00` MB en la columna `mb_used`**: Estos valores representan datos no significativos y su eliminación ayudará a prevenir sesgos en el análisis.\n",
    "\n",
    "2. **Corregir el tipo de dato de las fechas**: Asegurarse de que las columnas de fechas estén correctamente tipadas es crucial para una manipulación y análisis precisos."
   ]
  },
  {
   "cell_type": "code",
   "execution_count": 22,
   "metadata": {},
   "outputs": [],
   "source": [
    "# Eliminar registros con una duración de 0\n",
    "df_megaline_internet = df_megaline_internet[ ~(df_megaline_internet[ \"mb_used\" ] == 0) ]"
   ]
  },
  {
   "cell_type": "code",
   "execution_count": 23,
   "metadata": {
    "id": "zVeanzdd0q1E"
   },
   "outputs": [],
   "source": [
    "# Corregimos el tipado de la fecha con ayuda de to_datetime()\n",
    "\n",
    "df_megaline_internet[ \"session_date\" ] = pd.to_datetime( df_megaline_internet[ \"session_date\" ], format = \"%Y-%m-%d\" )"
   ]
  },
  {
   "cell_type": "markdown",
   "metadata": {
    "id": "e8_mLF4a0q1E"
   },
   "source": [
    "### Enriquecer los datos"
   ]
  },
  {
   "cell_type": "markdown",
   "metadata": {
    "id": "xhNdn2tE0q1E"
   },
   "source": [
    "Al igual que en los conjuntos de datos anteriores, se añadirá la columna `month` a este conjunto. Esta columna permitirá almacenar el mes correspondiente a cada fecha en el campo relevante, facilitando así la agrupación y el análisis temporal de los datos.\n",
    "\n",
    "La adición de esta columna ayudará a mejorar la organización de los datos y simplificará las operaciones de agrupamiento y análisis en etapas posteriores."
   ]
  },
  {
   "cell_type": "code",
   "execution_count": 24,
   "metadata": {
    "id": "ESiYPIEK0q1E"
   },
   "outputs": [],
   "source": [
    "# Crear una columna month para almacenar el mes de la llamada\n",
    "\n",
    "df_megaline_internet[ \"month\" ] = df_megaline_internet[ \"session_date\" ].dt.month"
   ]
  },
  {
   "cell_type": "markdown",
   "metadata": {
    "id": "3UA2cqIW0q1E"
   },
   "source": [
    "## Estudiar las condiciones de las tarifas"
   ]
  },
  {
   "cell_type": "markdown",
   "metadata": {
    "id": "T86Sqltq0q1F"
   },
   "source": [
    "Para proceder con el análisis, es crucial revisar las tarifas y la metodología de cobro de excedentes de cada plan que aplica Megaline. Esta revisión permitirá realizar cálculos de ingresos más precisos en etapas posteriores del análisis.\n",
    "\n",
    "**Acciones a realizar:**\n",
    "1. **Revisar las tarifas de cada plan**: Asegurarse de entender cómo se aplican las tarifas base y los cargos adicionales.\n",
    "2. **Analizar la política de cobro de excedentes**: Comprender cómo Megaline cobra por los excedentes en cada plan (por ejemplo, minutos o MB adicionales).\n",
    "\n",
    "Esta información es esencial para calcular los ingresos de manera precisa y para realizar un análisis detallado de la rentabilidad de cada plan."
   ]
  },
  {
   "cell_type": "code",
   "execution_count": 25,
   "metadata": {
    "id": "i409op8p0q1F",
    "scrolled": true
   },
   "outputs": [
    {
     "name": "stdout",
     "output_type": "stream",
     "text": [
      "Surf\n",
      "1.- Pago mensual: 20$\n",
      "2.- 500 minutos al mes, 50 SMS y 15 GB de datos.\n",
      "3.- Si se exceden los límites del paquete:\n",
      "\t-1 minuto: 3 centavos.\n",
      "\t-1 sms: 3 centavos.\n",
      "\t-1 GB de datos: 10$\n",
      "\n",
      "Ultimate\n",
      "1.- Pago mensual: 70$\n",
      "2.- 3000 minutos al mes, 1000 SMS y 30 GB de datos.\n",
      "3.- Si se exceden los límites del paquete:\n",
      "\t-1 minuto: 1 centavos.\n",
      "\t-1 sms: 1 centavos.\n",
      "\t-1 GB de datos: 7$\n",
      "\n",
      "\n",
      "1.- Megaline redondea los segundos a minutos y los megabytes a gigabytes. \n",
      "2. -Para llamadas, cada llamada individual se redondea: incluso si la llamada duró solo un segundo, se contará como un minuto. \n",
      "3.- Para tráfico web, las sesiones web individuales no se redondean.En vez de esto, el total del mes se redondea hacia arriba\n",
      "\n"
     ]
    }
   ],
   "source": [
    "# Imprime las condiciones de la tarifa y asegúrate de que te quedan claras\n",
    "# Se crea la funcion impTarifa() para no repetir el código 2 veces.\n",
    "def impTarifa( name, cost, mins, sms, gb, min_ad, sms_ad, gb_ad ):\n",
    "    print( name )\n",
    "    print( f\"1.- Pago mensual: {cost}$\" )\n",
    "    print( f\"2.- {mins} minutos al mes, {sms} SMS y {gb} GB de datos.\" )\n",
    "    print( \"3.- Si se exceden los límites del paquete:\" )\n",
    "    print( f\"\\t-1 minuto: {min_ad} centavos.\" )\n",
    "    print( f\"\\t-1 sms: {sms_ad} centavos.\" )\n",
    "    print( f\"\\t-1 GB de datos: {gb_ad}$\\n\" )\n",
    "\n",
    "impTarifa( \"Surf\", 20, 500, 50, 15, 3, 3, 10 )\n",
    "impTarifa( \"Ultimate\", 70, 3000, 1000, 30, 1, 1, 7 )\n",
    "\n",
    "print(\"\"\"\n",
    "1.- Megaline redondea los segundos a minutos y los megabytes a gigabytes. \n",
    "2. -Para llamadas, cada llamada individual se redondea: incluso si la llamada duró solo un segundo, se contará como un minuto. \n",
    "3.- Para tráfico web, las sesiones web individuales no se redondean.En vez de esto, el total del mes se redondea hacia arriba\n",
    "\"\"\")"
   ]
  },
  {
   "cell_type": "markdown",
   "metadata": {
    "id": "hMR1tP5d0q1F"
   },
   "source": [
    "## Agregar datos por usuario\n",
    "\n",
    "A continuación, se agruparán los registros por usuario y por mes para cada tipo de consumo (llamadas, minutos, mensajes y GB). Esta agrupación se realizará en DataFrames separados para cada tipo de consumo. Posteriormente, se consolidarán estos DataFrames en uno solo, que contendrá toda la información necesaria para calcular los ingresos.\n",
    "\n",
    "**Pasos a seguir:**\n",
    "1. **Agrupar por usuario y por mes**: Realizar la agrupación de los datos de llamadas, minutos, mensajes y GB en DataFrames individuales.\n",
    "2. **Consolidar los DataFrames**: Unir los DataFrames agrupados en un único DataFrame que reúna toda la información requerida para el cálculo de ingresos.\n",
    "\n",
    "Este proceso permitirá tener una visión integral del consumo de cada usuario y facilitará el cálculo preciso de los ingresos generados por cada plan."
   ]
  },
  {
   "cell_type": "code",
   "execution_count": 26,
   "metadata": {
    "id": "A332cedB0q1G"
   },
   "outputs": [
    {
     "data": {
      "text/html": [
       "<div>\n",
       "<style scoped>\n",
       "    .dataframe tbody tr th:only-of-type {\n",
       "        vertical-align: middle;\n",
       "    }\n",
       "\n",
       "    .dataframe tbody tr th {\n",
       "        vertical-align: top;\n",
       "    }\n",
       "\n",
       "    .dataframe thead th {\n",
       "        text-align: right;\n",
       "    }\n",
       "</style>\n",
       "<table border=\"1\" class=\"dataframe\">\n",
       "  <thead>\n",
       "    <tr style=\"text-align: right;\">\n",
       "      <th></th>\n",
       "      <th>user_id</th>\n",
       "      <th>month</th>\n",
       "      <th>total_calls</th>\n",
       "    </tr>\n",
       "  </thead>\n",
       "  <tbody>\n",
       "    <tr>\n",
       "      <th>0</th>\n",
       "      <td>1000</td>\n",
       "      <td>12</td>\n",
       "      <td>16</td>\n",
       "    </tr>\n",
       "    <tr>\n",
       "      <th>1</th>\n",
       "      <td>1001</td>\n",
       "      <td>8</td>\n",
       "      <td>22</td>\n",
       "    </tr>\n",
       "    <tr>\n",
       "      <th>2</th>\n",
       "      <td>1001</td>\n",
       "      <td>9</td>\n",
       "      <td>38</td>\n",
       "    </tr>\n",
       "    <tr>\n",
       "      <th>3</th>\n",
       "      <td>1001</td>\n",
       "      <td>10</td>\n",
       "      <td>47</td>\n",
       "    </tr>\n",
       "    <tr>\n",
       "      <th>4</th>\n",
       "      <td>1001</td>\n",
       "      <td>11</td>\n",
       "      <td>49</td>\n",
       "    </tr>\n",
       "    <tr>\n",
       "      <th>...</th>\n",
       "      <td>...</td>\n",
       "      <td>...</td>\n",
       "      <td>...</td>\n",
       "    </tr>\n",
       "    <tr>\n",
       "      <th>2251</th>\n",
       "      <td>1498</td>\n",
       "      <td>12</td>\n",
       "      <td>32</td>\n",
       "    </tr>\n",
       "    <tr>\n",
       "      <th>2252</th>\n",
       "      <td>1499</td>\n",
       "      <td>9</td>\n",
       "      <td>35</td>\n",
       "    </tr>\n",
       "    <tr>\n",
       "      <th>2253</th>\n",
       "      <td>1499</td>\n",
       "      <td>10</td>\n",
       "      <td>41</td>\n",
       "    </tr>\n",
       "    <tr>\n",
       "      <th>2254</th>\n",
       "      <td>1499</td>\n",
       "      <td>11</td>\n",
       "      <td>39</td>\n",
       "    </tr>\n",
       "    <tr>\n",
       "      <th>2255</th>\n",
       "      <td>1499</td>\n",
       "      <td>12</td>\n",
       "      <td>56</td>\n",
       "    </tr>\n",
       "  </tbody>\n",
       "</table>\n",
       "<p>2256 rows × 3 columns</p>\n",
       "</div>"
      ],
      "text/plain": [
       "      user_id  month  total_calls\n",
       "0        1000     12           16\n",
       "1        1001      8           22\n",
       "2        1001      9           38\n",
       "3        1001     10           47\n",
       "4        1001     11           49\n",
       "...       ...    ...          ...\n",
       "2251     1498     12           32\n",
       "2252     1499      9           35\n",
       "2253     1499     10           41\n",
       "2254     1499     11           39\n",
       "2255     1499     12           56\n",
       "\n",
       "[2256 rows x 3 columns]"
      ]
     },
     "execution_count": 26,
     "metadata": {},
     "output_type": "execute_result"
    }
   ],
   "source": [
    "# Calcula el número de llamadas hechas por cada usuario al mes. Guarda el resultado.\n",
    "df_calls = df_megaline_calls.groupby( by = [\"user_id\", \"month\" ], as_index = False ).count()\n",
    "\n",
    "# Se modifica df_calls para conservar solo las 3 columnas importantes \"user_id\", \"month\" y \"call_date\" ( contiene el número de llamadas totales por usuario al mes)\n",
    "df_calls = df_calls[ [\"user_id\", \"month\", \"call_date\"] ]\n",
    "\n",
    "#Ahora se renombra la columna \"call_date\" por algo con más sentido como \"total_calls\"\n",
    "df_calls.rename( columns = { \"call_date\" : \"total_calls\" }, inplace = True )\n",
    "\n",
    "df_calls"
   ]
  },
  {
   "cell_type": "code",
   "execution_count": 27,
   "metadata": {
    "id": "aw2cmuql0q1G"
   },
   "outputs": [
    {
     "data": {
      "text/html": [
       "<div>\n",
       "<style scoped>\n",
       "    .dataframe tbody tr th:only-of-type {\n",
       "        vertical-align: middle;\n",
       "    }\n",
       "\n",
       "    .dataframe tbody tr th {\n",
       "        vertical-align: top;\n",
       "    }\n",
       "\n",
       "    .dataframe thead th {\n",
       "        text-align: right;\n",
       "    }\n",
       "</style>\n",
       "<table border=\"1\" class=\"dataframe\">\n",
       "  <thead>\n",
       "    <tr style=\"text-align: right;\">\n",
       "      <th></th>\n",
       "      <th>user_id</th>\n",
       "      <th>month</th>\n",
       "      <th>total_minutes</th>\n",
       "    </tr>\n",
       "  </thead>\n",
       "  <tbody>\n",
       "    <tr>\n",
       "      <th>0</th>\n",
       "      <td>1000</td>\n",
       "      <td>12</td>\n",
       "      <td>124</td>\n",
       "    </tr>\n",
       "    <tr>\n",
       "      <th>1</th>\n",
       "      <td>1001</td>\n",
       "      <td>8</td>\n",
       "      <td>182</td>\n",
       "    </tr>\n",
       "    <tr>\n",
       "      <th>2</th>\n",
       "      <td>1001</td>\n",
       "      <td>9</td>\n",
       "      <td>315</td>\n",
       "    </tr>\n",
       "    <tr>\n",
       "      <th>3</th>\n",
       "      <td>1001</td>\n",
       "      <td>10</td>\n",
       "      <td>393</td>\n",
       "    </tr>\n",
       "    <tr>\n",
       "      <th>4</th>\n",
       "      <td>1001</td>\n",
       "      <td>11</td>\n",
       "      <td>426</td>\n",
       "    </tr>\n",
       "    <tr>\n",
       "      <th>...</th>\n",
       "      <td>...</td>\n",
       "      <td>...</td>\n",
       "      <td>...</td>\n",
       "    </tr>\n",
       "    <tr>\n",
       "      <th>2251</th>\n",
       "      <td>1498</td>\n",
       "      <td>12</td>\n",
       "      <td>339</td>\n",
       "    </tr>\n",
       "    <tr>\n",
       "      <th>2252</th>\n",
       "      <td>1499</td>\n",
       "      <td>9</td>\n",
       "      <td>346</td>\n",
       "    </tr>\n",
       "    <tr>\n",
       "      <th>2253</th>\n",
       "      <td>1499</td>\n",
       "      <td>10</td>\n",
       "      <td>385</td>\n",
       "    </tr>\n",
       "    <tr>\n",
       "      <th>2254</th>\n",
       "      <td>1499</td>\n",
       "      <td>11</td>\n",
       "      <td>308</td>\n",
       "    </tr>\n",
       "    <tr>\n",
       "      <th>2255</th>\n",
       "      <td>1499</td>\n",
       "      <td>12</td>\n",
       "      <td>496</td>\n",
       "    </tr>\n",
       "  </tbody>\n",
       "</table>\n",
       "<p>2256 rows × 3 columns</p>\n",
       "</div>"
      ],
      "text/plain": [
       "      user_id  month  total_minutes\n",
       "0        1000     12            124\n",
       "1        1001      8            182\n",
       "2        1001      9            315\n",
       "3        1001     10            393\n",
       "4        1001     11            426\n",
       "...       ...    ...            ...\n",
       "2251     1498     12            339\n",
       "2252     1499      9            346\n",
       "2253     1499     10            385\n",
       "2254     1499     11            308\n",
       "2255     1499     12            496\n",
       "\n",
       "[2256 rows x 3 columns]"
      ]
     },
     "execution_count": 27,
     "metadata": {},
     "output_type": "execute_result"
    }
   ],
   "source": [
    "# Calcula la cantidad de minutos usados por cada usuario al mes. Guarda el resultado.\n",
    "df_minutes = df_megaline_calls.groupby( by = [\"user_id\", \"month\" ], as_index = False ).sum()\n",
    "\n",
    "# Se modifica df_minutes para conservar solo las 3 columnas importantes \"user_id\", \"month\" y \"real_minutes\" ( contiene el número de minutos totales por usuario al mes)\n",
    "df_minutes = df_minutes[ [\"user_id\", \"month\", \"real_minutes\"] ]\n",
    "\n",
    "#Ahora se renombra la columna \"call_date\" por algo con más sentido como \"total_calls\"\n",
    "df_minutes.rename( columns = { \"real_minutes\" : \"total_minutes\" }, inplace = True )\n",
    "\n",
    "df_minutes"
   ]
  },
  {
   "cell_type": "code",
   "execution_count": 28,
   "metadata": {
    "id": "CcQvNHn60q1G"
   },
   "outputs": [
    {
     "data": {
      "text/html": [
       "<div>\n",
       "<style scoped>\n",
       "    .dataframe tbody tr th:only-of-type {\n",
       "        vertical-align: middle;\n",
       "    }\n",
       "\n",
       "    .dataframe tbody tr th {\n",
       "        vertical-align: top;\n",
       "    }\n",
       "\n",
       "    .dataframe thead th {\n",
       "        text-align: right;\n",
       "    }\n",
       "</style>\n",
       "<table border=\"1\" class=\"dataframe\">\n",
       "  <thead>\n",
       "    <tr style=\"text-align: right;\">\n",
       "      <th></th>\n",
       "      <th>user_id</th>\n",
       "      <th>month</th>\n",
       "      <th>total_messages</th>\n",
       "    </tr>\n",
       "  </thead>\n",
       "  <tbody>\n",
       "    <tr>\n",
       "      <th>0</th>\n",
       "      <td>1000</td>\n",
       "      <td>12</td>\n",
       "      <td>11</td>\n",
       "    </tr>\n",
       "    <tr>\n",
       "      <th>1</th>\n",
       "      <td>1001</td>\n",
       "      <td>8</td>\n",
       "      <td>30</td>\n",
       "    </tr>\n",
       "    <tr>\n",
       "      <th>2</th>\n",
       "      <td>1001</td>\n",
       "      <td>9</td>\n",
       "      <td>44</td>\n",
       "    </tr>\n",
       "    <tr>\n",
       "      <th>3</th>\n",
       "      <td>1001</td>\n",
       "      <td>10</td>\n",
       "      <td>53</td>\n",
       "    </tr>\n",
       "    <tr>\n",
       "      <th>4</th>\n",
       "      <td>1001</td>\n",
       "      <td>11</td>\n",
       "      <td>36</td>\n",
       "    </tr>\n",
       "    <tr>\n",
       "      <th>...</th>\n",
       "      <td>...</td>\n",
       "      <td>...</td>\n",
       "      <td>...</td>\n",
       "    </tr>\n",
       "    <tr>\n",
       "      <th>1801</th>\n",
       "      <td>1496</td>\n",
       "      <td>9</td>\n",
       "      <td>21</td>\n",
       "    </tr>\n",
       "    <tr>\n",
       "      <th>1802</th>\n",
       "      <td>1496</td>\n",
       "      <td>10</td>\n",
       "      <td>18</td>\n",
       "    </tr>\n",
       "    <tr>\n",
       "      <th>1803</th>\n",
       "      <td>1496</td>\n",
       "      <td>11</td>\n",
       "      <td>13</td>\n",
       "    </tr>\n",
       "    <tr>\n",
       "      <th>1804</th>\n",
       "      <td>1496</td>\n",
       "      <td>12</td>\n",
       "      <td>11</td>\n",
       "    </tr>\n",
       "    <tr>\n",
       "      <th>1805</th>\n",
       "      <td>1497</td>\n",
       "      <td>12</td>\n",
       "      <td>50</td>\n",
       "    </tr>\n",
       "  </tbody>\n",
       "</table>\n",
       "<p>1806 rows × 3 columns</p>\n",
       "</div>"
      ],
      "text/plain": [
       "      user_id  month  total_messages\n",
       "0        1000     12              11\n",
       "1        1001      8              30\n",
       "2        1001      9              44\n",
       "3        1001     10              53\n",
       "4        1001     11              36\n",
       "...       ...    ...             ...\n",
       "1801     1496      9              21\n",
       "1802     1496     10              18\n",
       "1803     1496     11              13\n",
       "1804     1496     12              11\n",
       "1805     1497     12              50\n",
       "\n",
       "[1806 rows x 3 columns]"
      ]
     },
     "execution_count": 28,
     "metadata": {},
     "output_type": "execute_result"
    }
   ],
   "source": [
    "# Calcula el número de mensajes enviados por cada usuario al mes. Guarda el resultado.\n",
    "df_sms = df_megaline_messages.groupby( by = [\"user_id\", \"month\" ], as_index = False ).count()\n",
    "\n",
    "# Se modifica df_sms para conservar solo las 3 columnas importantes \"user_id\", \"month\" y \"message_date\" ( contiene el número de mensajes totales por usuario al mes)\n",
    "df_sms = df_sms[ [\"user_id\", \"month\", \"message_date\"] ]\n",
    "\n",
    "#Ahora se renombra la columna \"message_date\" por algo con más sentido como \"total_messages\"\n",
    "df_sms.rename( columns = { \"message_date\" : \"total_messages\" }, inplace = True )\n",
    "\n",
    "df_sms"
   ]
  },
  {
   "cell_type": "markdown",
   "metadata": {},
   "source": [
    "En el caso del DataFrame `df_gb`, se realizará un paso adicional para ajustar los valores de GB cobrados a los usuarios. Dado que Megaline tiene un método específico para redondear el consumo de MB al final del mes, se creará una función para redondear los GB de acuerdo con esta política de cobro.\n",
    "\n",
    "**Pasos a seguir:**\n",
    "1. **Crear una función de redondeo**: Desarrollar una función que aplique la política de redondeo de Megaline para ajustar el consumo de GB a los valores facturables.\n",
    "2. **Aplicar la función al DataFrame**: Utilizar esta función para redondear los valores de GB en el DataFrame `df_gb`, asegurando que refleje el consumo real facturado.\n",
    "\n",
    "Este paso garantizará que los cálculos de ingresos sean precisos y estén alineados con las políticas de facturación de Megaline."
   ]
  },
  {
   "cell_type": "code",
   "execution_count": 29,
   "metadata": {
    "id": "H1AqN2eG0q1H"
   },
   "outputs": [
    {
     "data": {
      "text/html": [
       "<div>\n",
       "<style scoped>\n",
       "    .dataframe tbody tr th:only-of-type {\n",
       "        vertical-align: middle;\n",
       "    }\n",
       "\n",
       "    .dataframe tbody tr th {\n",
       "        vertical-align: top;\n",
       "    }\n",
       "\n",
       "    .dataframe thead th {\n",
       "        text-align: right;\n",
       "    }\n",
       "</style>\n",
       "<table border=\"1\" class=\"dataframe\">\n",
       "  <thead>\n",
       "    <tr style=\"text-align: right;\">\n",
       "      <th></th>\n",
       "      <th>user_id</th>\n",
       "      <th>month</th>\n",
       "      <th>total_gb</th>\n",
       "    </tr>\n",
       "  </thead>\n",
       "  <tbody>\n",
       "    <tr>\n",
       "      <th>0</th>\n",
       "      <td>1000</td>\n",
       "      <td>12</td>\n",
       "      <td>2.0</td>\n",
       "    </tr>\n",
       "    <tr>\n",
       "      <th>1</th>\n",
       "      <td>1001</td>\n",
       "      <td>8</td>\n",
       "      <td>7.0</td>\n",
       "    </tr>\n",
       "    <tr>\n",
       "      <th>2</th>\n",
       "      <td>1001</td>\n",
       "      <td>9</td>\n",
       "      <td>14.0</td>\n",
       "    </tr>\n",
       "    <tr>\n",
       "      <th>3</th>\n",
       "      <td>1001</td>\n",
       "      <td>10</td>\n",
       "      <td>22.0</td>\n",
       "    </tr>\n",
       "    <tr>\n",
       "      <th>4</th>\n",
       "      <td>1001</td>\n",
       "      <td>11</td>\n",
       "      <td>19.0</td>\n",
       "    </tr>\n",
       "    <tr>\n",
       "      <th>...</th>\n",
       "      <td>...</td>\n",
       "      <td>...</td>\n",
       "      <td>...</td>\n",
       "    </tr>\n",
       "    <tr>\n",
       "      <th>2272</th>\n",
       "      <td>1498</td>\n",
       "      <td>12</td>\n",
       "      <td>23.0</td>\n",
       "    </tr>\n",
       "    <tr>\n",
       "      <th>2273</th>\n",
       "      <td>1499</td>\n",
       "      <td>9</td>\n",
       "      <td>13.0</td>\n",
       "    </tr>\n",
       "    <tr>\n",
       "      <th>2274</th>\n",
       "      <td>1499</td>\n",
       "      <td>10</td>\n",
       "      <td>20.0</td>\n",
       "    </tr>\n",
       "    <tr>\n",
       "      <th>2275</th>\n",
       "      <td>1499</td>\n",
       "      <td>11</td>\n",
       "      <td>17.0</td>\n",
       "    </tr>\n",
       "    <tr>\n",
       "      <th>2276</th>\n",
       "      <td>1499</td>\n",
       "      <td>12</td>\n",
       "      <td>22.0</td>\n",
       "    </tr>\n",
       "  </tbody>\n",
       "</table>\n",
       "<p>2277 rows × 3 columns</p>\n",
       "</div>"
      ],
      "text/plain": [
       "      user_id  month  total_gb\n",
       "0        1000     12       2.0\n",
       "1        1001      8       7.0\n",
       "2        1001      9      14.0\n",
       "3        1001     10      22.0\n",
       "4        1001     11      19.0\n",
       "...       ...    ...       ...\n",
       "2272     1498     12      23.0\n",
       "2273     1499      9      13.0\n",
       "2274     1499     10      20.0\n",
       "2275     1499     11      17.0\n",
       "2276     1499     12      22.0\n",
       "\n",
       "[2277 rows x 3 columns]"
      ]
     },
     "execution_count": 29,
     "metadata": {},
     "output_type": "execute_result"
    }
   ],
   "source": [
    "#############################################################################################################\n",
    "# La función calculateGb() es utilizada para redondear y calcular los gb que se van a cobrar a cada usuario #\n",
    "# en función de los mb que consumieron en el mes                                                            #\n",
    "#############################################################################################################\n",
    "def calculateGb( mb ):\n",
    "    #Primero calculamos la cantidad exacta de gb consumidos por el usuario con una división entera\n",
    "    gb = mb // 1024\n",
    "    # despues se calcula el residuo de dividir por 1024(1GB) a los mb consumidos por el usuario, de esta manera \n",
    "    # si el residuo es mayor que 0 significa que el usuario ha consumido mb adicionales y entonces tal como indican las\n",
    "    # especificaciones del proyecto se le cobrará 1GB completo al usuario\n",
    "    # por eso se suma 1 a los gb que se obtuvieron en ladivisión entera.\n",
    "    if (mb % 1024) > 0:\n",
    "        gb += 1\n",
    "    return gb\n",
    "\n",
    "# Calcula el volumen del tráfico de Internet usado por cada usuario al mes. Guarda el resultado.\n",
    "df_gb = df_megaline_internet.groupby( by = [\"user_id\", \"month\" ], as_index = False ).sum()\n",
    "\n",
    "# Se modifica df_gb para conservar solo las 3 columnas importantes \"user_id\", \"month\" y \"mb_used\" ( contiene el número de mg totales por usuario al mes)\n",
    "df_gb = df_gb[ [\"user_id\", \"month\", \"mb_used\"] ]\n",
    "\n",
    "#######################################################################################################\n",
    "# Con ayuda de la funcion calculateGb() se convertirán los mb a gb utilizando el criterio de megaline #\n",
    "#######################################################################################################\n",
    "df_gb[ \"mb_used\" ] = df_gb[ \"mb_used\" ].apply( calculateGb )\n",
    "\n",
    "#Ahora se renombra la columna \"mb_used\" por algo con más sentido como \"total_gb\"\n",
    "df_gb.rename( columns = { \"mb_used\" : \"total_gb\" }, inplace = True )\n",
    "\n",
    "df_gb\n"
   ]
  },
  {
   "cell_type": "markdown",
   "metadata": {
    "id": "VDfYXnj80q1H"
   },
   "source": [
    "Ahora se procederá a unir todos los DataFrames creados hasta este momento en uno solo, denominado `df_total_values`.\n",
    "\n",
    "**Nota:** Al unir los DataFrames, es posible que se generen registros con valores `NaN`, ya que algunos usuarios podrían no haber utilizado minutos, SMS o GB en ciertos meses. Estos valores `NaN` serán reemplazados por `0` para asegurar la integridad y continuidad del análisis.\n",
    "\n",
    "**Pasos a seguir:**\n",
    "1. **Unir los DataFrames**: Combinar los DataFrames agrupados en un único DataFrame llamado `df_total_values`.\n",
    "2. **Reemplazar valores `NaN`**: Sustituir los valores `NaN` por `0` para los registros que no tienen consumo en ciertos meses.\n",
    "\n",
    "Este proceso consolidará la información necesaria para calcular los ingresos y facilitará el análisis global del consumo de los usuarios."
   ]
  },
  {
   "cell_type": "code",
   "execution_count": 30,
   "metadata": {
    "id": "FW99ykyf0q1H",
    "scrolled": true
   },
   "outputs": [
    {
     "data": {
      "text/html": [
       "<div>\n",
       "<style scoped>\n",
       "    .dataframe tbody tr th:only-of-type {\n",
       "        vertical-align: middle;\n",
       "    }\n",
       "\n",
       "    .dataframe tbody tr th {\n",
       "        vertical-align: top;\n",
       "    }\n",
       "\n",
       "    .dataframe thead th {\n",
       "        text-align: right;\n",
       "    }\n",
       "</style>\n",
       "<table border=\"1\" class=\"dataframe\">\n",
       "  <thead>\n",
       "    <tr style=\"text-align: right;\">\n",
       "      <th></th>\n",
       "      <th>user_id</th>\n",
       "      <th>month</th>\n",
       "      <th>total_calls</th>\n",
       "      <th>total_minutes</th>\n",
       "      <th>total_messages</th>\n",
       "      <th>total_gb</th>\n",
       "    </tr>\n",
       "  </thead>\n",
       "  <tbody>\n",
       "    <tr>\n",
       "      <th>0</th>\n",
       "      <td>1000</td>\n",
       "      <td>12</td>\n",
       "      <td>16.0</td>\n",
       "      <td>124.0</td>\n",
       "      <td>11.0</td>\n",
       "      <td>2.0</td>\n",
       "    </tr>\n",
       "    <tr>\n",
       "      <th>1</th>\n",
       "      <td>1001</td>\n",
       "      <td>8</td>\n",
       "      <td>22.0</td>\n",
       "      <td>182.0</td>\n",
       "      <td>30.0</td>\n",
       "      <td>7.0</td>\n",
       "    </tr>\n",
       "    <tr>\n",
       "      <th>2</th>\n",
       "      <td>1001</td>\n",
       "      <td>9</td>\n",
       "      <td>38.0</td>\n",
       "      <td>315.0</td>\n",
       "      <td>44.0</td>\n",
       "      <td>14.0</td>\n",
       "    </tr>\n",
       "    <tr>\n",
       "      <th>3</th>\n",
       "      <td>1001</td>\n",
       "      <td>10</td>\n",
       "      <td>47.0</td>\n",
       "      <td>393.0</td>\n",
       "      <td>53.0</td>\n",
       "      <td>22.0</td>\n",
       "    </tr>\n",
       "    <tr>\n",
       "      <th>4</th>\n",
       "      <td>1001</td>\n",
       "      <td>11</td>\n",
       "      <td>49.0</td>\n",
       "      <td>426.0</td>\n",
       "      <td>36.0</td>\n",
       "      <td>19.0</td>\n",
       "    </tr>\n",
       "    <tr>\n",
       "      <th>...</th>\n",
       "      <td>...</td>\n",
       "      <td>...</td>\n",
       "      <td>...</td>\n",
       "      <td>...</td>\n",
       "      <td>...</td>\n",
       "      <td>...</td>\n",
       "    </tr>\n",
       "    <tr>\n",
       "      <th>2288</th>\n",
       "      <td>1407</td>\n",
       "      <td>11</td>\n",
       "      <td>0.0</td>\n",
       "      <td>0.0</td>\n",
       "      <td>1.0</td>\n",
       "      <td>1.0</td>\n",
       "    </tr>\n",
       "    <tr>\n",
       "      <th>2289</th>\n",
       "      <td>1482</td>\n",
       "      <td>10</td>\n",
       "      <td>0.0</td>\n",
       "      <td>0.0</td>\n",
       "      <td>2.0</td>\n",
       "      <td>0.0</td>\n",
       "    </tr>\n",
       "    <tr>\n",
       "      <th>2290</th>\n",
       "      <td>1094</td>\n",
       "      <td>10</td>\n",
       "      <td>0.0</td>\n",
       "      <td>0.0</td>\n",
       "      <td>0.0</td>\n",
       "      <td>2.0</td>\n",
       "    </tr>\n",
       "    <tr>\n",
       "      <th>2291</th>\n",
       "      <td>1108</td>\n",
       "      <td>12</td>\n",
       "      <td>0.0</td>\n",
       "      <td>0.0</td>\n",
       "      <td>0.0</td>\n",
       "      <td>1.0</td>\n",
       "    </tr>\n",
       "    <tr>\n",
       "      <th>2292</th>\n",
       "      <td>1311</td>\n",
       "      <td>6</td>\n",
       "      <td>0.0</td>\n",
       "      <td>0.0</td>\n",
       "      <td>0.0</td>\n",
       "      <td>2.0</td>\n",
       "    </tr>\n",
       "  </tbody>\n",
       "</table>\n",
       "<p>2293 rows × 6 columns</p>\n",
       "</div>"
      ],
      "text/plain": [
       "      user_id  month  total_calls  total_minutes  total_messages  total_gb\n",
       "0        1000     12         16.0          124.0            11.0       2.0\n",
       "1        1001      8         22.0          182.0            30.0       7.0\n",
       "2        1001      9         38.0          315.0            44.0      14.0\n",
       "3        1001     10         47.0          393.0            53.0      22.0\n",
       "4        1001     11         49.0          426.0            36.0      19.0\n",
       "...       ...    ...          ...            ...             ...       ...\n",
       "2288     1407     11          0.0            0.0             1.0       1.0\n",
       "2289     1482     10          0.0            0.0             2.0       0.0\n",
       "2290     1094     10          0.0            0.0             0.0       2.0\n",
       "2291     1108     12          0.0            0.0             0.0       1.0\n",
       "2292     1311      6          0.0            0.0             0.0       2.0\n",
       "\n",
       "[2293 rows x 6 columns]"
      ]
     },
     "execution_count": 30,
     "metadata": {},
     "output_type": "execute_result"
    }
   ],
   "source": [
    "# Fusiona los datos de llamadas, minutos, mensajes e Internet con base en user_id y month\n",
    "\n",
    "df_total_values = pd.merge( df_calls, df_minutes, on = [\"user_id\", \"month\"], how = \"outer\")\n",
    "\n",
    "df_total_values = pd.merge( df_total_values, df_sms, on = [\"user_id\", \"month\"], how = \"outer\")\n",
    "\n",
    "df_total_values = pd.merge( df_total_values, df_gb, on = [\"user_id\", \"month\"], how = \"outer\")\n",
    "\n",
    "#Se reemplazan los valores NaN con 0\n",
    "df_total_values = df_total_values.fillna( 0 )\n",
    "\n",
    "df_total_values"
   ]
  },
  {
   "cell_type": "code",
   "execution_count": 31,
   "metadata": {
    "id": "0dNOXHag0q1H"
   },
   "outputs": [],
   "source": [
    "# Añade la información de la tarifa\n",
    "df_total_values = pd.merge( df_total_values, df_megaline_users[ [\"user_id\", \"plan\", \"reg_month\", \"area\" ] ], on = \"user_id\")\n",
    "# df_total_values.rename( columns = { \"plan\" : \"plan_name\" }, inplace = True )\n",
    "# df_total_values = pd.merge( df_total_values, df_megaline_plans, on = \"plan_name\" )"
   ]
  },
  {
   "cell_type": "markdown",
   "metadata": {
    "id": "1IwGo4wg0q1I"
   },
   "source": [
    "Para completar la preparación del DataFrame que contendrá todos los datos necesarios para el análisis, se añadirá la columna de ingreso generado por cada usuario cada mes. \n",
    "\n",
    "**Pasos a seguir:**\n",
    "1. **Crear una función de cálculo de ingresos**: Esta función realizará las siguientes operaciones:\n",
    "   - **Calcular el consumo total**: Restar los minutos, SMS y GB incluidos en el plan del usuario del total consumido al final del mes.\n",
    "   - **Calcular los excedentes**: Aplicar la política de cobro de excedentes para minutos, SMS y GB, según el plan del usuario.\n",
    "   - **Determinar el ingreso**: Sumar los cargos por excedentes para obtener el ingreso total generado por el usuario en ese mes.\n",
    "\n",
    "2. **Aplicar la función al DataFrame**: Añadir la columna de ingreso a `df_total_values` utilizando esta función, asegurando que refleje con precisión el monto que cada usuario generó basado en su consumo y el plan contratado.\n",
    "\n",
    "Este paso permitirá calcular los ingresos de manera precisa y completa, facilitando el análisis del rendimiento financiero de los planes ofrecidos por Megaline."
   ]
  },
  {
   "cell_type": "code",
   "execution_count": 32,
   "metadata": {
    "id": "5FGCf_c60q1I"
   },
   "outputs": [
    {
     "data": {
      "text/html": [
       "<div>\n",
       "<style scoped>\n",
       "    .dataframe tbody tr th:only-of-type {\n",
       "        vertical-align: middle;\n",
       "    }\n",
       "\n",
       "    .dataframe tbody tr th {\n",
       "        vertical-align: top;\n",
       "    }\n",
       "\n",
       "    .dataframe thead th {\n",
       "        text-align: right;\n",
       "    }\n",
       "</style>\n",
       "<table border=\"1\" class=\"dataframe\">\n",
       "  <thead>\n",
       "    <tr style=\"text-align: right;\">\n",
       "      <th></th>\n",
       "      <th>user_id</th>\n",
       "      <th>month</th>\n",
       "      <th>total_calls</th>\n",
       "      <th>total_minutes</th>\n",
       "      <th>total_messages</th>\n",
       "      <th>total_gb</th>\n",
       "      <th>plan</th>\n",
       "      <th>reg_month</th>\n",
       "      <th>area</th>\n",
       "      <th>income</th>\n",
       "    </tr>\n",
       "  </thead>\n",
       "  <tbody>\n",
       "    <tr>\n",
       "      <th>0</th>\n",
       "      <td>1000</td>\n",
       "      <td>12</td>\n",
       "      <td>16.0</td>\n",
       "      <td>124.0</td>\n",
       "      <td>11.0</td>\n",
       "      <td>2.0</td>\n",
       "      <td>ultimate</td>\n",
       "      <td>12</td>\n",
       "      <td>GA</td>\n",
       "      <td>70.00</td>\n",
       "    </tr>\n",
       "    <tr>\n",
       "      <th>1</th>\n",
       "      <td>1001</td>\n",
       "      <td>8</td>\n",
       "      <td>22.0</td>\n",
       "      <td>182.0</td>\n",
       "      <td>30.0</td>\n",
       "      <td>7.0</td>\n",
       "      <td>surf</td>\n",
       "      <td>8</td>\n",
       "      <td>WA</td>\n",
       "      <td>20.00</td>\n",
       "    </tr>\n",
       "    <tr>\n",
       "      <th>2</th>\n",
       "      <td>1001</td>\n",
       "      <td>9</td>\n",
       "      <td>38.0</td>\n",
       "      <td>315.0</td>\n",
       "      <td>44.0</td>\n",
       "      <td>14.0</td>\n",
       "      <td>surf</td>\n",
       "      <td>8</td>\n",
       "      <td>WA</td>\n",
       "      <td>20.00</td>\n",
       "    </tr>\n",
       "    <tr>\n",
       "      <th>3</th>\n",
       "      <td>1001</td>\n",
       "      <td>10</td>\n",
       "      <td>47.0</td>\n",
       "      <td>393.0</td>\n",
       "      <td>53.0</td>\n",
       "      <td>22.0</td>\n",
       "      <td>surf</td>\n",
       "      <td>8</td>\n",
       "      <td>WA</td>\n",
       "      <td>90.09</td>\n",
       "    </tr>\n",
       "    <tr>\n",
       "      <th>4</th>\n",
       "      <td>1001</td>\n",
       "      <td>11</td>\n",
       "      <td>49.0</td>\n",
       "      <td>426.0</td>\n",
       "      <td>36.0</td>\n",
       "      <td>19.0</td>\n",
       "      <td>surf</td>\n",
       "      <td>8</td>\n",
       "      <td>WA</td>\n",
       "      <td>60.00</td>\n",
       "    </tr>\n",
       "    <tr>\n",
       "      <th>...</th>\n",
       "      <td>...</td>\n",
       "      <td>...</td>\n",
       "      <td>...</td>\n",
       "      <td>...</td>\n",
       "      <td>...</td>\n",
       "      <td>...</td>\n",
       "      <td>...</td>\n",
       "      <td>...</td>\n",
       "      <td>...</td>\n",
       "      <td>...</td>\n",
       "    </tr>\n",
       "    <tr>\n",
       "      <th>2288</th>\n",
       "      <td>1204</td>\n",
       "      <td>12</td>\n",
       "      <td>0.0</td>\n",
       "      <td>0.0</td>\n",
       "      <td>78.0</td>\n",
       "      <td>36.0</td>\n",
       "      <td>ultimate</td>\n",
       "      <td>8</td>\n",
       "      <td>IL-IN-WI</td>\n",
       "      <td>112.00</td>\n",
       "    </tr>\n",
       "    <tr>\n",
       "      <th>2289</th>\n",
       "      <td>1349</td>\n",
       "      <td>10</td>\n",
       "      <td>0.0</td>\n",
       "      <td>0.0</td>\n",
       "      <td>76.0</td>\n",
       "      <td>13.0</td>\n",
       "      <td>surf</td>\n",
       "      <td>10</td>\n",
       "      <td>MA-NH</td>\n",
       "      <td>20.78</td>\n",
       "    </tr>\n",
       "    <tr>\n",
       "      <th>2290</th>\n",
       "      <td>1349</td>\n",
       "      <td>11</td>\n",
       "      <td>0.0</td>\n",
       "      <td>0.0</td>\n",
       "      <td>72.0</td>\n",
       "      <td>17.0</td>\n",
       "      <td>surf</td>\n",
       "      <td>10</td>\n",
       "      <td>MA-NH</td>\n",
       "      <td>40.66</td>\n",
       "    </tr>\n",
       "    <tr>\n",
       "      <th>2291</th>\n",
       "      <td>1349</td>\n",
       "      <td>12</td>\n",
       "      <td>0.0</td>\n",
       "      <td>0.0</td>\n",
       "      <td>61.0</td>\n",
       "      <td>13.0</td>\n",
       "      <td>surf</td>\n",
       "      <td>10</td>\n",
       "      <td>MA-NH</td>\n",
       "      <td>20.33</td>\n",
       "    </tr>\n",
       "    <tr>\n",
       "      <th>2292</th>\n",
       "      <td>1108</td>\n",
       "      <td>12</td>\n",
       "      <td>0.0</td>\n",
       "      <td>0.0</td>\n",
       "      <td>0.0</td>\n",
       "      <td>1.0</td>\n",
       "      <td>ultimate</td>\n",
       "      <td>12</td>\n",
       "      <td>UT</td>\n",
       "      <td>70.00</td>\n",
       "    </tr>\n",
       "  </tbody>\n",
       "</table>\n",
       "<p>2293 rows × 10 columns</p>\n",
       "</div>"
      ],
      "text/plain": [
       "      user_id  month  total_calls  total_minutes  total_messages  total_gb  \\\n",
       "0        1000     12         16.0          124.0            11.0       2.0   \n",
       "1        1001      8         22.0          182.0            30.0       7.0   \n",
       "2        1001      9         38.0          315.0            44.0      14.0   \n",
       "3        1001     10         47.0          393.0            53.0      22.0   \n",
       "4        1001     11         49.0          426.0            36.0      19.0   \n",
       "...       ...    ...          ...            ...             ...       ...   \n",
       "2288     1204     12          0.0            0.0            78.0      36.0   \n",
       "2289     1349     10          0.0            0.0            76.0      13.0   \n",
       "2290     1349     11          0.0            0.0            72.0      17.0   \n",
       "2291     1349     12          0.0            0.0            61.0      13.0   \n",
       "2292     1108     12          0.0            0.0             0.0       1.0   \n",
       "\n",
       "          plan  reg_month      area  income  \n",
       "0     ultimate         12        GA   70.00  \n",
       "1         surf          8        WA   20.00  \n",
       "2         surf          8        WA   20.00  \n",
       "3         surf          8        WA   90.09  \n",
       "4         surf          8        WA   60.00  \n",
       "...        ...        ...       ...     ...  \n",
       "2288  ultimate          8  IL-IN-WI  112.00  \n",
       "2289      surf         10     MA-NH   20.78  \n",
       "2290      surf         10     MA-NH   40.66  \n",
       "2291      surf         10     MA-NH   20.33  \n",
       "2292  ultimate         12        UT   70.00  \n",
       "\n",
       "[2293 rows x 10 columns]"
      ]
     },
     "execution_count": 32,
     "metadata": {},
     "output_type": "execute_result"
    }
   ],
   "source": [
    "# Calcula el ingreso mensual para cada usuario\n",
    "# La función montlhyIncome es usada para calcular los ingresos mesuales por usuario en función del tipo de plan que tienen\n",
    "def monthlyIncome( user ):\n",
    "    plan = user[ \"plan\" ]\n",
    "    tarifa = df_megaline_plans.query( \"plan_name == @plan\" )\n",
    "    sms_inc, mb_inc, mins_inc, usd_pay, usd_gb, usd_sms, usd_min, x = tarifa.values[0]\n",
    "    minutes = user[ \"total_minutes\" ] - mins_inc\n",
    "    sms = user[ \"total_messages\" ] - sms_inc\n",
    "    gb = user[ \"total_gb\" ] - (mb_inc / 1024) \n",
    "    \n",
    "    if minutes < 0:\n",
    "        minutes = 0\n",
    "    if sms < 0:\n",
    "        sms = 0\n",
    "    if gb < 0:\n",
    "        gb = 0\n",
    "    return ( ( minutes * usd_min ) + ( sms * usd_sms ) + ( gb * usd_gb ) + usd_pay )\n",
    "\n",
    "\n",
    "df_total_values[ \"income\" ] = df_total_values.apply( monthlyIncome, axis = 1 )\n",
    "\n",
    "df_total_values\n"
   ]
  },
  {
   "cell_type": "markdown",
   "metadata": {
    "id": "-jtyHzJb0q1I"
   },
   "source": [
    "## Estudia el comportamiento de usuario"
   ]
  },
  {
   "cell_type": "markdown",
   "metadata": {
    "id": "AxU3Y0N70q1J"
   },
   "source": [
    "Una vez calculado el ingreso mensual de cada usuario, se procederá a generar diversas gráficas para visualizar cuál de los planes ofrece mayores beneficios. \n",
    "\n",
    "**Pasos a seguir:**\n",
    "1. **Análisis por tipo de consumo**: Se estudiarán los consumos de minutos, mensajes y GB de manera individual para identificar patrones y tendencias en el uso de cada plan.\n",
    "2. **Comparación de ingresos por plan**: Se compararán los ingresos generados por cada plan para determinar cuál es el más rentable.\n",
    "\n",
    "Estas visualizaciones proporcionarán una visión clara y detallada del rendimiento financiero de los planes, facilitando la identificación del plan que genera mayores beneficios para Megaline."
   ]
  },
  {
   "cell_type": "markdown",
   "metadata": {
    "id": "vtW4CJEe0q1J"
   },
   "source": [
    "### Llamadas"
   ]
  },
  {
   "cell_type": "code",
   "execution_count": 33,
   "metadata": {
    "id": "Jf5v5--k0q1J",
    "scrolled": true
   },
   "outputs": [
    {
     "data": {
      "image/png": "[encoded data removed]",
      "text/plain": [
       "<Figure size 1000x400 with 1 Axes>"
      ]
     },
     "metadata": {},
     "output_type": "display_data"
    }
   ],
   "source": [
    "# Compara la duración promedio de llamadas por cada plan y por cada mes. Traza un gráfico de barras para visualizarla.\n",
    "df_graph = pd.DataFrame()\n",
    "#se separan los datos del dataframe principal para facilitar su manipulación\n",
    "df_surf = df_total_values[ [ \"month\", \"total_minutes\", \"plan\" ] ].query( \"plan == 'surf'\" ).groupby( by = \"month\", as_index = False ).mean()\n",
    "df_ultimate = df_total_values[ [ \"month\", \"total_calls\", \"total_minutes\", \"plan\" ] ].query( \"plan == 'ultimate'\" ).groupby( by = \"month\", as_index = False ).mean()\n",
    "\n",
    "#Se crea el data frame que se va a graficar\n",
    "df_graph[ \"month\" ] = df_surf[ \"month\" ]\n",
    "df_graph[ \"surf\" ] = df_surf[ \"total_minutes\" ]\n",
    "df_graph[ \"ultimate\" ] = df_ultimate[ \"total_minutes\" ]\n",
    "\n",
    "#Se configura el gráfico\n",
    "df_graph.plot(\n",
    "    kind = 'bar',\n",
    "    title = 'Los usuarios de ambos planes consumen casi lo mismo',\n",
    "    x = 'month',\n",
    "    y = [ \"surf\", \"ultimate\" ],\n",
    "    xlabel = 'Meses del año',\n",
    "    ylabel = 'Minutos promedio consumidos al mes por usuario',\n",
    "    grid = True,\n",
    "    rot = 0,\n",
    "    figsize = [ 10, 4 ]\n",
    ")\n",
    "\n",
    "plt.legend( [ 'Plan surf', 'Plan ultimate' ], bbox_to_anchor = [1, 1] )\n",
    "plt.show()"
   ]
  },
  {
   "cell_type": "markdown",
   "metadata": {},
   "source": [
    "La gráfica revela que los usuarios de ambos planes muestran un comportamiento similar, con consumos totales promedio que se mantienen bastante alineados a lo largo del año. Sin embargo, es importante destacar que el consumo aumentó de manera significativa con el paso del tiempo.\n",
    "\n",
    "**Observaciones clave:**\n",
    "- **Incremento gradual en el consumo**: En enero, el consumo promedio por usuario era de aproximadamente 200 minutos al mes.\n",
    "- **Pico en diciembre**: Para diciembre, este promedio aumentó a casi 500 minutos por usuario al mes.\n",
    "\n",
    "Este patrón indica que los usuarios están hablando cada vez más, lo que sugiere un incremento en la demanda de minutos conforme avanza el año."
   ]
  },
  {
   "cell_type": "code",
   "execution_count": 34,
   "metadata": {
    "id": "QoLqW1S_0q1J"
   },
   "outputs": [
    {
     "data": {
      "image/png": "[encoded data removed]",
      "text/plain": [
       "<Figure size 1000x400 with 1 Axes>"
      ]
     },
     "metadata": {},
     "output_type": "display_data"
    }
   ],
   "source": [
    "# Compara el número de minutos mensuales que necesitan los usuarios de cada plan. Traza un histograma.\n",
    "\n",
    "#se separan los datos del dataframe principal para facilitar su manipulación\n",
    "df_surf = df_total_values[ [ \"month\", \"total_minutes\", \"plan\" ] ].query( \"plan == 'surf'\" )\n",
    "df_ultimate = df_total_values[ [ \"month\", \"total_minutes\", \"plan\" ] ].query( \"plan == 'ultimate'\" )\n",
    "\n",
    "# Se configura el primer histograma\n",
    "df_surf[ 'total_minutes' ].plot(\n",
    "    kind = 'hist',\n",
    "    title = 'La distribución es muy similar',\n",
    "    figsize = [10,4],\n",
    "    grid = True\n",
    ")\n",
    "\n",
    "# Se configura el segundo histograma\n",
    "df_ultimate[ 'total_minutes' ].plot(\n",
    "    kind = 'hist',\n",
    "    figsize = [10,4],\n",
    "    alpha = .8,\n",
    "    grid = True\n",
    ")\n",
    "\n",
    "plt.legend( [ 'Plan surf', 'Plan ultimate' ] )\n",
    "plt.xlabel( 'Minutos consumidos al mes' )\n",
    "plt.ylabel( 'Facturas mensuales de usuarios en el año' )\n",
    "\n",
    "plt.show()"
   ]
  },
  {
   "cell_type": "markdown",
   "metadata": {
    "id": "bLS9T8OH0q1K"
   },
   "source": [
    "El histograma revela que la distribución del consumo mensual de minutos es muy similar para ambos planes, con una media cercana a los 440 minutos por mes en cada caso. Sin embargo, el histograma también destaca una diferencia significativa en el número de usuarios por plan.\n",
    "\n",
    "**Observaciones clave:**\n",
    "- **Distribución similar**: Tanto para el plan Surf como para el plan Ultimate, la media de consumo se sitúa alrededor de los 440 minutos mensuales.\n",
    "- **Diferencia en el volumen de usuarios**: El histograma sugiere que hay un volumen considerablemente mayor de usuarios en el plan Surf, casi el doble en comparación con el plan Ultimate.\n",
    "\n",
    "Esta distribución indica que, aunque los usuarios de ambos planes consumen minutos de manera similar, el plan Surf es más popular entre los clientes de Megaline."
   ]
  },
  {
   "cell_type": "code",
   "execution_count": 35,
   "metadata": {
    "id": "oSndbAnt0q1K"
   },
   "outputs": [
    {
     "name": "stdout",
     "output_type": "stream",
     "text": [
      "La media de la duración mensual de llamadas para el plan surf: 428.75\n",
      "La varianza de la duración mensual de llamadas para el plan surf: 54968.279\n",
      "/////////////////////////////////////////////////////////////////////////////////////////////\n",
      "La media de la duración mensual de llamadas para el plan ultimate: 430.45\n",
      "La varianza de la duración mensual de llamadas para el plan ultimate: 57844.465\n"
     ]
    }
   ],
   "source": [
    "# Calcula la media y la varianza de la duración mensual de llamadas.\n",
    "\n",
    "# Se calcula la media y la varianza para el plan surf\n",
    "media_surf = df_surf[ \"total_minutes\" ].mean()\n",
    "varianza_surf = df_surf[ \"total_minutes\" ].var()\n",
    "\n",
    "# Se calcula la media y la varianza para el plan ultimate\n",
    "media_ultimate = df_ultimate[ \"total_minutes\" ].mean()\n",
    "varianza_ultimate = df_ultimate[ \"total_minutes\" ].var()\n",
    "\n",
    "print( f\"La media del consumo mensual de minutos para el plan surf: { round( media_surf, 3 ) }\" )\n",
    "\n",
    "print( f\"La varianza del consumo mensual de minutos de llamadas para el plan surf: { round( varianza_surf, 3 ) }\" )\n",
    "\n",
    "print( \"/////////////////////////////////////////////////////////////////////////////////////////////\" )\n",
    "\n",
    "print( f\"La media del consumo mensual de minutos para el plan ultimate: { round( media_ultimate, 3 ) }\" )\n",
    "\n",
    "print( f\"La varianza del consumo mensual de minutos para el plan ultimate: { round( varianza_ultimate, 3 ) }\" )\n"
   ]
  },
  {
   "cell_type": "markdown",
   "metadata": {},
   "source": [
    "**Nota:**\n",
    "Como mostró el histograma anterior el consumo promedio mensualmete por usuario es de aproximadame 430 minutos"
   ]
  },
  {
   "cell_type": "code",
   "execution_count": 36,
   "metadata": {
    "id": "nZzoRUKc0q1K",
    "scrolled": true
   },
   "outputs": [
    {
     "data": {
      "image/png": "[encoded data removed]",
      "text/plain": [
       "<Figure size 1000x400 with 1 Axes>"
      ]
     },
     "metadata": {},
     "output_type": "display_data"
    }
   ],
   "source": [
    "# Traza un diagrama de caja para visualizar la distribución de la duración mensual de llamadas\n",
    "\n",
    "fig, ax = plt.subplots( figsize = [10,4] )\n",
    "colors = [ 'blue', 'orange' ]\n",
    "\n",
    "# Se configuran los diagramas de caja\n",
    "boxplot = ax.boxplot( \n",
    "    [df_surf[ \"total_minutes\" ],df_ultimate[ \"total_minutes\" ]],\n",
    "    positions = [ 0, .5 ],\n",
    "    patch_artist = True,\n",
    "    vert = False,\n",
    "    medianprops = { \"color\" : \"black\", \"linewidth\" : 2 }\n",
    ")\n",
    "\n",
    "# Se da estilo a los diagramas de caja\n",
    "for patch, color in zip( boxplot[ 'boxes' ], colors ):\n",
    "    patch.set_facecolor( color )\n",
    "    patch.set_edgecolor( 'black' )\n",
    "    patch.set_linewidth( 2 )\n",
    "\n",
    "#Se configura la leyenda de los diagramas\n",
    "handles = [ plt.Line2D( [0], [0], color = color, lw = 4 ) for color in colors ]\n",
    "\n",
    "ax.legend( handles, [ \"Plan surf\", \"Plan ultimate\"  ], loc = \"upper right\" )\n",
    "ax.set_yticks( [ 0, .5 ] )\n",
    "ax.set_yticklabels( [ \"\", \"\" ] )\n",
    "\n",
    "plt.grid( True )\n",
    "plt.title( \"surf vs ultimate\" )\n",
    "plt.xlabel( \"Minutos consumidos mensualmente\" )\n",
    "plt.show()"
   ]
  },
  {
   "cell_type": "markdown",
   "metadata": {
    "id": "r627zBO50q1K"
   },
   "source": [
    "Después de examinar los distintos gráficos, queda claro que los usuarios de ambos planes tienen patrones de consumo muy similares. La gráfica de caja realizada anteriormente proporciona una visión más detallada: casi un 25% de las facturas pagadas por los usuarios en el año registran un consumo de entre 600 y 1000 minutos. \n",
    "\n",
    "**Observaciones clave:**\n",
    "- **Impacto en el plan Surf**: Para los usuarios del plan Ultimate, este rango de consumo no genera cargos adicionales, ya que incluye 3000 minutos. Sin embargo, para los usuarios del plan Surf, que solo ofrece 500 minutos gratuitos, esto representa una cantidad significativa de cobros por minutos adicionales a lo largo del año.\n",
    "- **Implicaciones para la rentabilidad**: Dado el número de usuarios en cada plan, este patrón de cobros adicionales sugiere que el plan Surf podría estar generando más beneficios debido a los cargos por excedentes.\n",
    "\n",
    "Aunque estos hallazgos nos empiezan a dar una idea de cuál plan podría ser más rentable, es importante destacar que aún es prematuro llegar a una conclusión definitiva. Es necesario analizar las demás áreas, como el consumo de mensajes y datos, para obtener una imagen completa. "
   ]
  },
  {
   "cell_type": "markdown",
   "metadata": {
    "id": "8idKy8Wh0q1L"
   },
   "source": [
    "### Mensajes"
   ]
  },
  {
   "cell_type": "code",
   "execution_count": 37,
   "metadata": {
    "id": "NXLxiTit0q1L"
   },
   "outputs": [
    {
     "data": {
      "image/png": "[encoded data removed]",
      "text/plain": [
       "<Figure size 1000x400 with 1 Axes>"
      ]
     },
     "metadata": {},
     "output_type": "display_data"
    }
   ],
   "source": [
    "# Compara el número de mensajes que tienden a enviar cada mes los usuarios de cada plan\n",
    "\n",
    "#se separan los datos del dataframe principal para facilitar su manipulación\n",
    "df_surf = df_total_values[ [ \"month\", \"total_messages\", \"plan\" ] ].query( \"plan == 'surf'\" ).groupby( by = \"month\", as_index = False ).mean()\n",
    "df_ultimate = df_total_values[ [ \"month\", \"total_messages\", \"plan\" ] ].query( \"plan == 'ultimate'\" ).groupby( by = \"month\", as_index = False ).mean()\n",
    "\n",
    "#Se crea el data frame que se va a graficar\n",
    "df_graph[ \"month\" ] = df_surf[ \"month\" ]\n",
    "df_graph[ \"surf\" ] = df_surf[ \"total_messages\" ]\n",
    "df_graph[ \"ultimate\" ] = df_ultimate[ \"total_messages\" ] \n",
    "\n",
    "#Se configura el gráfico\n",
    "df_graph.plot(\n",
    "    kind = 'bar',\n",
    "    title = 'Los usuarios del plan ultimate enviaron más mensajes',\n",
    "    x = 'month',\n",
    "    y = [ \"surf\", \"ultimate\" ],\n",
    "    xlabel = 'Meses del año',\n",
    "    ylabel = 'Mensajes promedio consumidos al mes por usuario',\n",
    "    grid = True,\n",
    "    rot = 0,\n",
    "    figsize = [ 10, 4 ]\n",
    ")\n",
    "\n",
    "plt.legend( [ 'Plan surf', 'Plan ultimate' ], bbox_to_anchor = [1, 1] )\n",
    "plt.show()"
   ]
  },
  {
   "cell_type": "markdown",
   "metadata": {},
   "source": [
    "La gráfica de barras indica que los usuarios del plan Ultimate enviaron más mensajes en promedio cada mes en comparación con los usuarios del plan Surf. Sin embargo, aunque la diferencia es clara, no es tan pronunciada.\n",
    "\n",
    "**Observaciones clave:**\n",
    "- **Diferencia en el volumen de mensajes**: Los usuarios del plan Ultimate envían más mensajes, pero los del plan Surf no están muy lejos, mostrando una actividad similar.\n",
    "- **Tendencia creciente**: Al igual que con las llamadas, el número promedio de mensajes enviados por los usuarios de ambos planes aumenta a lo largo del año.\n",
    "\n",
    "Este incremento constante en el envío de mensajes refuerza la tendencia observada en otros tipos de consumo, sugiriendo un aumento general en la actividad de los usuarios a medida que avanza el año."
   ]
  },
  {
   "cell_type": "code",
   "execution_count": 38,
   "metadata": {
    "id": "GRI_R7xF0q1L"
   },
   "outputs": [
    {
     "data": {
      "image/png": "[encoded data removed]",
      "text/plain": [
       "<Figure size 1000x400 with 1 Axes>"
      ]
     },
     "metadata": {},
     "output_type": "display_data"
    }
   ],
   "source": [
    "# Comprara el número de mensajes que tienden a enviar cada mes los usuarios de cada plan\n",
    "\n",
    "#se separan los datos del dataframe principal para facilitar su manipulación\n",
    "df_surf = df_total_values[ [ \"month\", \"total_messages\", \"plan\" ] ].query( \"plan == 'surf'\" )\n",
    "df_ultimate = df_total_values[ [ \"month\", \"total_messages\", \"plan\" ] ].query( \"plan == 'ultimate'\" )\n",
    "\n",
    "# Se configura el primer histograma\n",
    "df_surf[ 'total_messages' ].plot(\n",
    "    kind = 'hist',\n",
    "    title = 'La distribución es muy similar',\n",
    "    figsize = [10,4],\n",
    "    grid = True\n",
    ")\n",
    "\n",
    "# Se configura el segundo histograma\n",
    "df_ultimate[ 'total_messages' ].plot(\n",
    "    kind = 'hist',\n",
    "    figsize = [10,4],\n",
    "    alpha = .8,\n",
    "    grid = True\n",
    ")\n",
    "\n",
    "plt.legend( [ 'Plan surf', 'Plan ultimate' ] )\n",
    "plt.xlabel( 'Mensajes consumidos al mes' )\n",
    "plt.ylabel( 'Facturas mensuales de usuarios en el año' )\n",
    "plt.show()\n"
   ]
  },
  {
   "cell_type": "markdown",
   "metadata": {},
   "source": [
    "El histograma muestra una distribución muy similar para ambos planes nuevamente "
   ]
  },
  {
   "cell_type": "code",
   "execution_count": 39,
   "metadata": {},
   "outputs": [
    {
     "data": {
      "image/png": "[encoded data removed]",
      "text/plain": [
       "<Figure size 1000x400 with 1 Axes>"
      ]
     },
     "metadata": {},
     "output_type": "display_data"
    }
   ],
   "source": [
    "fig, ax = plt.subplots( figsize = [10,4] )\n",
    "colors = [ 'blue', 'orange' ]\n",
    "\n",
    "# Se configuran los diagramas de caja\n",
    "boxplot = ax.boxplot( \n",
    "    [df_surf[ \"total_messages\" ],df_ultimate[ \"total_messages\" ]],\n",
    "    positions = [ 0, .5 ],\n",
    "    patch_artist = True,\n",
    "    vert = False,\n",
    "    medianprops = { \"color\" : \"black\", \"linewidth\" : 2 }\n",
    ")\n",
    "\n",
    "# Se da estilo a los diagramas de caja\n",
    "for patch, color in zip( boxplot[ 'boxes' ], colors ):\n",
    "    patch.set_facecolor( color )\n",
    "    patch.set_edgecolor( 'black' )\n",
    "    patch.set_linewidth( 2 )\n",
    "\n",
    "#Se configura la leyenda de los diagramas\n",
    "handles = [ plt.Line2D( [0], [0], color = color, lw = 4 ) for color in colors ]\n",
    "\n",
    "ax.legend( handles, [ \"Plan surf\", \"Plan ultimate\"  ], loc = \"upper right\" )\n",
    "ax.set_yticks( [ 0, .5 ] )\n",
    "ax.set_yticklabels( [ \"\", \"\" ] )\n",
    "\n",
    "plt.grid( True )\n",
    "plt.title( \"surf vs ultimate\" )\n",
    "plt.xlabel( \"Mensajes consumidos mensualmente\" )\n",
    "plt.show()"
   ]
  },
  {
   "cell_type": "code",
   "execution_count": 40,
   "metadata": {
    "id": "dtFwCGAp0q1M"
   },
   "outputs": [
    {
     "name": "stdout",
     "output_type": "stream",
     "text": [
      "La media de la duración mensual de llamadas para el plan surf: 31.16\n",
      "La varianza de la duración mensual de llamadas para el plan surf: 1126.725\n",
      "/////////////////////////////////////////////////////////////////////////////////////////////\n",
      "La media de la duración mensual de llamadas para el plan ultimate: 37.551\n",
      "La varianza de la duración mensual de llamadas para el plan ultimate: 1208.757\n"
     ]
    }
   ],
   "source": [
    "# Calcula la media y la varianza de la duración mensual de llamadas.\n",
    "\n",
    "# Se calcula la media y la varianza para el plan surf\n",
    "media_surf = df_surf[ \"total_messages\" ].mean()\n",
    "varianza_surf = df_surf[ \"total_messages\" ].var()\n",
    "\n",
    "# Se calcula la media y la varianza para el plan ultimate\n",
    "media_ultimate = df_ultimate[ \"total_messages\" ].mean()\n",
    "varianza_ultimate = df_ultimate[ \"total_messages\" ].var()\n",
    "\n",
    "print( f\"La media del consumo de mensajes para el plan surf: { round( media_surf, 3 ) }\" )\n",
    "\n",
    "print( f\"La varianza del consumo de mensajes para el para el plan surf: { round( varianza_surf, 3 ) }\" )\n",
    "\n",
    "print( \"/////////////////////////////////////////////////////////////////////////////////////////////\" )\n",
    "\n",
    "print( f\"La media del consumo de mensajes para el para el plan ultimate: { round( media_ultimate, 3 ) }\" )\n",
    "\n",
    "print( f\"La varianza del consumo de mensajes para el para el plan ultimate: { round( varianza_ultimate, 3 ) }\" )"
   ]
  },
  {
   "cell_type": "markdown",
   "metadata": {
    "id": "390SSL480q1M"
   },
   "source": [
    "En general los usuarios muestran un comportamiento muy similar en ambos planes, con un aumento en la demanda de servicios a lo largo del año. \n",
    "\n",
    "**Observaciones clave:**\n",
    "- **Excedentes en el plan Surf**: Al igual que con las llamadas, aproximadamente un 25% de las facturas del plan Surf registraron un consumo que excedió los minutos incluidos en el plan. Esto generó ingresos adicionales por el cobro de minutos excedentes.\n",
    "- **Plan Ultimate sin excedentes**: En contraste, los usuarios del plan Ultimate no alcanzaron, en ningún caso, el límite de mensajes incluidos, lo que significa que no hubo ingresos adicionales por excedentes en este aspecto.\n",
    "\n",
    "Este patrón refuerza la idea de que el plan Surf podría estar generando más ingresos debido a los cargos por excedentes, mientras que el plan Ultimate proporciona una mayor tranquilidad a los usuarios al no acercarse a sus límites de consumo."
   ]
  },
  {
   "cell_type": "markdown",
   "metadata": {
    "id": "42YSypXz0q1M"
   },
   "source": [
    "### Internet"
   ]
  },
  {
   "cell_type": "code",
   "execution_count": 41,
   "metadata": {
    "id": "lSuKPtjh0q1M"
   },
   "outputs": [
    {
     "data": {
      "image/png": "[encoded data removed]",
      "text/plain": [
       "<Figure size 1000x400 with 1 Axes>"
      ]
     },
     "metadata": {},
     "output_type": "display_data"
    }
   ],
   "source": [
    "# Compara la cantidad de tráfico de Internet consumido por usuarios por plan\n",
    "\n",
    "#se separan los datos del dataframe principal para facilitar su manipulación\n",
    "df_surf = df_total_values[ [ \"month\", \"total_gb\", \"plan\" ] ].query( \"plan == 'surf'\" ).groupby( by = \"month\", as_index = False ).mean()\n",
    "df_ultimate = df_total_values[ [ \"month\", \"total_gb\", \"plan\" ] ].query( \"plan == 'ultimate'\" ).groupby( by = \"month\", as_index = False ).mean()\n",
    "\n",
    "#Se crea el data frame que se va a graficar\n",
    "df_graph[ \"month\" ] = df_surf[ \"month\" ]\n",
    "df_graph[ \"surf\" ] = df_surf[ \"total_gb\" ]\n",
    "df_graph[ \"ultimate\" ] = df_ultimate[ \"total_gb\" ] \n",
    "\n",
    "#Se configura el gráfico\n",
    "df_graph.plot(\n",
    "    kind = 'bar',\n",
    "    title = 'El plan surf aumenta su consumo',\n",
    "    x = 'month',\n",
    "    y = [ \"surf\", \"ultimate\" ],\n",
    "    xlabel = 'Meses del año',\n",
    "    ylabel = 'GB promedio consumidos al mes por usuario',\n",
    "    grid = True,\n",
    "    rot = 0,\n",
    "    figsize = [ 10, 4 ]\n",
    ")\n",
    "\n",
    "plt.legend( [ 'Plan surf', 'Plan ultimate' ], bbox_to_anchor = [1, 1] )\n",
    "plt.show()"
   ]
  },
  {
   "cell_type": "markdown",
   "metadata": {},
   "source": [
    "La gráfica de barras anterior muestra que el consumo mensual promedio de GB al inicio del año era mayor para los usuarios del plan Ultimate. Sin embargo, en el mes de junio, ambos promedios se igualaron, lo que indica un aumento en el consumo por parte de los usuarios del plan Surf.\n",
    "\n",
    "**Observaciones clave:**\n",
    "- **Aumento en el consumo del plan Surf**: A partir de julio, el consumo promedio de GB en el plan Surf superó los 16 GB por usuario, manteniéndose por encima de este umbral hasta el final del año.\n",
    "- **Relevancia del límite de GB**: Es importante destacar que el plan Surf incluye solo 15 GB. Esto sugiere que muchos usuarios de este plan excedieron su límite de GB, lo que podría haber generado cargos adicionales.\n",
    "\n",
    "Este incremento sostenido en el consumo de GB entre los usuarios del plan Surf sugiere una mayor demanda de datos, lo que podría haber resultado en ingresos adicionales debido a los excedentes, similar a lo observado con los minutos de llamada."
   ]
  },
  {
   "cell_type": "code",
   "execution_count": 42,
   "metadata": {},
   "outputs": [
    {
     "data": {
      "image/png": "[encoded data removed]",
      "text/plain": [
       "<Figure size 1000x400 with 1 Axes>"
      ]
     },
     "metadata": {},
     "output_type": "display_data"
    }
   ],
   "source": [
    "# Comprara el número de mensajes que tienden a enviar cada mes los usuarios de cada plan\n",
    "\n",
    "#se separan los datos del dataframe principal para facilitar su manipulación\n",
    "df_surf = df_total_values[ [ \"month\", \"total_gb\", \"plan\" ] ].query( \"plan == 'surf'\" )\n",
    "df_ultimate = df_total_values[ [ \"month\", \"total_gb\", \"plan\" ] ].query( \"plan == 'ultimate'\" )\n",
    "\n",
    "# Se configura el primer histograma\n",
    "df_surf[ 'total_gb' ].plot(\n",
    "    kind = 'hist',\n",
    "    title = 'La distribución es muy similar',\n",
    "    figsize = [10,4],\n",
    "    grid = True\n",
    ")\n",
    "\n",
    "# Se configura el segundo histograma\n",
    "df_ultimate[ 'total_gb' ].plot(\n",
    "    kind = 'hist',\n",
    "    figsize = [10,4],\n",
    "    alpha = .8,\n",
    "    grid = True\n",
    ")\n",
    "\n",
    "plt.legend( [ 'Plan surf', 'Plan ultimate' ] )\n",
    "plt.xlabel( 'GB consumidos al mes' )\n",
    "plt.ylabel( 'Facturas mensuales de usuarios en el año' )\n",
    "plt.show()"
   ]
  },
  {
   "cell_type": "markdown",
   "metadata": {},
   "source": [
    "Este histograma muestra que de igual forma la distribución es muy parecida en ambos planes"
   ]
  },
  {
   "cell_type": "code",
   "execution_count": 43,
   "metadata": {},
   "outputs": [
    {
     "data": {
      "image/png": "[encoded data removed]",
      "text/plain": [
       "<Figure size 1000x400 with 1 Axes>"
      ]
     },
     "metadata": {},
     "output_type": "display_data"
    }
   ],
   "source": [
    "fig, ax = plt.subplots( figsize = [10,4] )\n",
    "colors = [ 'blue', 'orange' ]\n",
    "\n",
    "# Se configuran los diagramas de caja\n",
    "boxplot = ax.boxplot( \n",
    "    [df_surf[ \"total_gb\" ],df_ultimate[ \"total_gb\" ]],\n",
    "    positions = [ 0, .5 ],\n",
    "    patch_artist = True,\n",
    "    vert = False,\n",
    "    medianprops = { \"color\" : \"black\", \"linewidth\" : 2 }\n",
    ")\n",
    "\n",
    "# Se da estilo a los diagramas de caja\n",
    "for patch, color in zip( boxplot[ 'boxes' ], colors ):\n",
    "    patch.set_facecolor( color )\n",
    "    patch.set_edgecolor( 'black' )\n",
    "    patch.set_linewidth( 2 )\n",
    "\n",
    "#Se configura la leyenda de los diagramas\n",
    "handles = [ plt.Line2D( [0], [0], color = color, lw = 4 ) for color in colors ]\n",
    "\n",
    "ax.legend( handles, [ \"Plan surf\", \"Plan ultimate\"  ], loc = \"upper right\" )\n",
    "ax.set_yticks( [ 0, .5 ] )\n",
    "ax.set_yticklabels( [ \"\", \"\" ] )\n",
    "\n",
    "plt.grid( True )\n",
    "plt.title( \"surf vs ultimate\" )\n",
    "plt.xlabel( \"GB consumidos mensualmente\" )\n",
    "plt.show()"
   ]
  },
  {
   "cell_type": "code",
   "execution_count": 44,
   "metadata": {
    "id": "5VlyJ9ry0q1N"
   },
   "outputs": [
    {
     "name": "stdout",
     "output_type": "stream",
     "text": [
      "La media del consumo mensual de gb para el plan surf: 16.671\n",
      "La varianza del consumo mensual de gb para el plan surf: 61.584\n",
      "/////////////////////////////////////////////////////////////////////////////////////////////\n",
      "La media del consumo mensual de gb para el plan ultimate: 17.307\n",
      "La varianza del consumo mensual de gb para el plan ultimate: 58.831\n"
     ]
    }
   ],
   "source": [
    "# Se calcula la media y la varianza para el plan surf\n",
    "media_surf = df_surf[ \"total_gb\" ].mean()\n",
    "varianza_surf = df_surf[ \"total_gb\" ].var()\n",
    "\n",
    "# Se calcula la media y la varianza para el plan ultimate\n",
    "media_ultimate = df_ultimate[ \"total_gb\" ].mean()\n",
    "varianza_ultimate = df_ultimate[ \"total_gb\" ].var()\n",
    "\n",
    "print( f\"La media del consumo mensual de gb para el plan surf: { round( media_surf, 3 ) }\" )\n",
    "\n",
    "print( f\"La varianza del consumo mensual de gb para el plan surf: { round( varianza_surf, 3 ) }\" )\n",
    "\n",
    "print( \"/////////////////////////////////////////////////////////////////////////////////////////////\" )\n",
    "\n",
    "print( f\"La media del consumo mensual de gb para el plan ultimate: { round( media_ultimate, 3 ) }\" )\n",
    "\n",
    "print( f\"La varianza del consumo mensual de gb para el plan ultimate: { round( varianza_ultimate, 3 ) }\" )"
   ]
  },
  {
   "cell_type": "markdown",
   "metadata": {
    "id": "UN9zwuMP0q1N"
   },
   "source": [
    "Es evidente que el comportamiento de los usuarios en ambos planes es muy similar. Sin embargo, un aspecto notable es el impacto de los excedentes en el plan Surf, según lo demostrado por la gráfica de caja anterior.\n",
    "\n",
    "**Observaciones clave:**\n",
    "- **Excedentes en el plan Surf**: Alrededor del 50% de las facturas del plan Surf a lo largo del año superaron los 15 GB incluidos de forma gratuita en el plan. Esto representa un potencial significativo de ingresos adicionales por el cobro de excedentes.\n",
    "- **Estabilidad en el plan Ultimate**: En contraste, el consumo promedio de GB en el plan Ultimate se mantuvo muy por debajo del límite gratuito de 30 GB. La gráfica de caja muestra que solo un pequeño número de facturas en el año excedieron este límite.\n",
    "\n",
    "Estos hallazgos destacan que, aunque ambos planes tienen patrones de uso similares, el plan Surf genera más ingresos por excedentes, mientras que el plan Ultimate ofrece a los usuarios mayor estabilidad y previsibilidad en sus facturas."
   ]
  },
  {
   "cell_type": "markdown",
   "metadata": {
    "id": "tCijq3260q1N"
   },
   "source": [
    "## Ingreso"
   ]
  },
  {
   "cell_type": "code",
   "execution_count": 45,
   "metadata": {
    "id": "tz-dq_V00q1O"
   },
   "outputs": [
    {
     "data": {
      "image/png": "[encoded data removed]",
      "text/plain": [
       "<Figure size 1000x400 with 1 Axes>"
      ]
     },
     "metadata": {},
     "output_type": "display_data"
    }
   ],
   "source": [
    "#se separan los datos del dataframe principal para facilitar su manipulación\n",
    "df_surf = df_total_values[ [ \"month\", \"income\", \"plan\" ] ].query( \"plan == 'surf'\" ).groupby( by = \"month\", as_index = False ).mean()\n",
    "df_ultimate = df_total_values[ [ \"month\", \"income\", \"plan\" ] ].query( \"plan == 'ultimate'\" ).groupby( by = \"month\", as_index = False ).mean()\n",
    "\n",
    "#Se crea el data frame que se va a graficar\n",
    "df_graph[ \"month\" ] = df_surf[ \"month\" ]\n",
    "df_graph[ \"surf\" ] = df_surf[ \"income\" ]\n",
    "df_graph[ \"ultimate\" ] = df_ultimate[ \"income\" ] \n",
    "\n",
    "#Se configura el gráfico\n",
    "df_graph.plot(\n",
    "    kind = 'bar',\n",
    "    title = 'El ingreso del plan ultimate es demasiado estable',\n",
    "    x = 'month',\n",
    "    y = [ \"surf\", \"ultimate\" ],\n",
    "    xlabel = 'Meses del año',\n",
    "    ylabel = 'Ingreso promedio al mes por usuario',\n",
    "    grid = True,\n",
    "    rot = 0,\n",
    "    figsize = [ 10, 4 ]\n",
    ")\n",
    "\n",
    "plt.legend( [ 'Plan surf', 'Plan ultimate' ], bbox_to_anchor = [1, 1] )\n",
    "plt.show()"
   ]
  },
  {
   "cell_type": "markdown",
   "metadata": {},
   "source": [
    "La gráfica revela que el ingreso promedio por usuario en el plan Ultimate se mantiene muy estable a lo largo del año, situándose cerca de los 70 dólares de manera constante.\n",
    "\n",
    "**Observaciones clave:**\n",
    "- **Estabilidad en el plan Ultimate**: El ingreso promedio por usuario en el plan Ultimate muestra poca variación, manteniéndose cerca de 70 dólares durante todo el año.\n",
    "- **Incremento en el plan Surf**: En contraste, el ingreso promedio por usuario del plan Surf aumenta de manera continua a lo largo del año. \n",
    "\n",
    "Adicionalmente, dado que el plan Surf cuenta con casi el doble de usuarios en comparación con el plan Ultimate, este incremento en el ingreso promedio por usuario sugiere que el plan Surf generó significativamente más ingresos durante el año. Este análisis sugiere que, a pesar de los ingresos estables del plan Ultimate, el plan Surf es el que probablemente contribuyó más a los ingresos totales de Megaline."
   ]
  },
  {
   "cell_type": "code",
   "execution_count": 46,
   "metadata": {},
   "outputs": [
    {
     "name": "stdout",
     "output_type": "stream",
     "text": [
      "La media del ingreso promedio por usuario del plan surf: 51.401\n",
      "La varianza del ingreso promedio por usuario del plan surf: 216.039\n",
      "/////////////////////////////////////////////////////////////////////////////////////////////\n",
      "La media del ingreso promedio por usuario del plan ultimate: 72.011\n",
      "La varianza del ingreso promedio por usuario del plan ultimate: 1.861\n"
     ]
    }
   ],
   "source": [
    "\n",
    "# Se calcula la media y la varianza para el plan surf\n",
    "media_surf = df_surf[ \"income\" ].mean()\n",
    "varianza_surf = df_surf[ \"income\" ].var()\n",
    "\n",
    "# Se calcula la media y la varianza para el plan ultimate\n",
    "media_ultimate = df_ultimate[ \"income\" ].mean()\n",
    "varianza_ultimate = df_ultimate[ \"income\" ].var()\n",
    "\n",
    "print( f\"La media del ingreso promedio por usuario del plan surf: { round( media_surf, 3 ) }\" )\n",
    "\n",
    "print( f\"La varianza del ingreso promedio por usuario del plan surf: { round( varianza_surf, 3 ) }\" )\n",
    "\n",
    "print( \"/////////////////////////////////////////////////////////////////////////////////////////////\" )\n",
    "\n",
    "print( f\"La media del ingreso promedio por usuario del plan ultimate: { round( media_ultimate, 3 ) }\" )\n",
    "\n",
    "print( f\"La varianza del ingreso promedio por usuario del plan ultimate: { round( varianza_ultimate, 3 ) }\" )"
   ]
  },
  {
   "cell_type": "code",
   "execution_count": 47,
   "metadata": {
    "id": "0Y1v8ZUz0q1P"
   },
   "outputs": [
    {
     "data": {
      "image/png": "[encoded data removed]",
      "text/plain": [
       "<Figure size 1000x400 with 1 Axes>"
      ]
     },
     "metadata": {},
     "output_type": "display_data"
    }
   ],
   "source": [
    "\n",
    "#Se crea el data frame que se va a graficar\n",
    "df_graph = df_total_values[ [ \"income\", \"plan\" ] ].groupby( by = \"plan\", as_index = False ).sum()\n",
    "\n",
    "# Se configura el grafico\n",
    "df_graph.plot(\n",
    "    kind = 'bar',\n",
    "    title = 'Los ingresos del plan surf son mejores',\n",
    "    x = 'plan',\n",
    "    y = \"income\",\n",
    "    xlabel = 'Plan',\n",
    "    ylabel = 'Ingresos totales por año',\n",
    "    grid = True,\n",
    "    rot = 0,\n",
    "    figsize = [ 10, 4 ],\n",
    "    color = [ \"blue\", \"orange\" ]\n",
    "    \n",
    ")\n",
    "\n",
    "\n",
    "plt.legend().set_visible( False )\n",
    "plt.show()"
   ]
  },
  {
   "cell_type": "markdown",
   "metadata": {
    "id": "KAFidcXZ0q1P"
   },
   "source": [
    "Tras analizar los datos, queda claro que el plan Surf generó más ingresos a lo largo del año en comparación con el plan Ultimate. Aunque el ingreso promedio por usuario del plan Surf es algo inferior, el número de usuarios de este plan es casi el doble en comparación con el plan Ultimate.\n",
    "\n",
    "**Razones clave para el mayor ingreso del plan Surf:**\n",
    "1. **Hábitos de consumo similares**: Los patrones de consumo de minutos, mensajes y GB son bastante similares entre los usuarios de ambos planes.\n",
    "2. **Cobro de excedentes**: El plan Surf tiene un cobro de excedentes más elevado en comparación con el plan Ultimate. Esto crea un entorno propicio para un incremento significativo en el ingreso promedio por usuario.\n",
    "\n",
    "A pesar de que el ingreso promedio por usuario del plan Surf es de 51 dólares, frente a los 70 dólares del plan Ultimate, el gran número de usuarios del plan Surf resulta en mayores ingresos totales. Este favoritismo hacia el plan Surf puede deberse a la percepción de pagar menos, aunque esta razón no puede ser confirmada con la información actual.\n",
    "\n",
    "En conclusión, el plan Surf es el más rentable para Megaline, principalmente debido a su mayor base de usuarios y los ingresos adicionales por excedentes, a pesar de tener un ingreso promedio por usuario menor que el plan Ultimate."
   ]
  },
  {
   "cell_type": "markdown",
   "metadata": {
    "id": "ajJ7VKeI0q1Q"
   },
   "source": [
    "## Prueba las hipótesis estadísticas"
   ]
  },
  {
   "cell_type": "markdown",
   "metadata": {
    "id": "IQwa_hsh0q1Q"
   },
   "source": [
    "- **Hipótesis nula (H₀)**: Los ingresos promedio de los usuarios de los planes \"Ultimate\" y \"Surf\" son iguales.\n",
    "\n",
    "- **Hipótesis alternativa (H₁)**: Los ingresos promedio de los usuarios de los planes \"Ultimate\" y \"Surf\" son diferentes."
   ]
  },
  {
   "cell_type": "code",
   "execution_count": 48,
   "metadata": {
    "id": "nFoPNlPq0q1R"
   },
   "outputs": [
    {
     "name": "stdout",
     "output_type": "stream",
     "text": [
      "p_value: 0.0004970238953490146\n",
      "Rechazamos la hipótesis nula\n"
     ]
    }
   ],
   "source": [
    "# Prueba las hipótesis\n",
    "\n",
    "df_surf = df_total_values[ [ \"month\", \"income\", \"plan\" ] ].query( \"plan == 'surf'\" ).groupby( by = \"month\", as_index = False ).mean()\n",
    "df_ultimate = df_total_values[ [ \"month\", \"income\", \"plan\" ] ].query( \"plan == 'ultimate'\" ).groupby( by = \"month\", as_index = False ).mean()\n",
    "\n",
    "alpha = .05\n",
    "results = stats.ttest_ind( df_surf[ \"income\" ], df_ultimate[ \"income\" ], equal_var = False )\n",
    "\n",
    "print( f\"p_value: {results.pvalue}\" )\n",
    "\n",
    "if results.pvalue < alpha:\n",
    "    print( \"Rechazamos la hipótesis nula\" )\n",
    "else:\n",
    "    print( \"No podemos rechazar la hipotesis nula\" )\n"
   ]
  },
  {
   "cell_type": "markdown",
   "metadata": {
    "id": "LsBgitqj0q1R"
   },
   "source": [
    "- **Hipótesis nula (H₀)**: El ingreso promedio de los usuarios del área de NY-NJ-PA no es diferente al de los usuarios de otras regiones.\n",
    "\n",
    "- **Hipótesis alternativa (H₁)**: El ingreso promedio de los usuarios del área de NY-NJ-PA es diferente al de los usuarios de otras regiones."
   ]
  },
  {
   "cell_type": "code",
   "execution_count": 49,
   "metadata": {
    "id": "Cqcj7wrZ0q1S"
   },
   "outputs": [
    {
     "name": "stdout",
     "output_type": "stream",
     "text": [
      "p_value: 0.043557431621342436\n",
      "Rechazamos la hipótesis nula\n"
     ]
    }
   ],
   "source": [
    "# Prueba las hipótesis\n",
    "df_ny_nj = df_total_values[ [ \"area\", \"income\" ] ].query( \"area == 'NY-NJ-PA'\" )\n",
    "df_others = df_total_values[ [ \"area\", \"income\" ] ].query( \"area != 'NY-NJ-PA'\" )\n",
    "\n",
    "alpha = .05\n",
    "\n",
    "results = stats.ttest_ind( df_ny_nj[ \"income\" ], df_others[ \"income\" ], equal_var = False )\n",
    "\n",
    "print( f\"p_value: {results.pvalue}\" )\n",
    "\n",
    "if results.pvalue < alpha:\n",
    "    print( \"Rechazamos la hipótesis nula\" )\n",
    "else:\n",
    "    print( \"No podemos rechazar la hipotesis nula\" )\n",
    "    "
   ]
  },
  {
   "cell_type": "markdown",
   "metadata": {
    "id": "bbTR8UQO0q1T"
   },
   "source": [
    "## Conclusión general\n",
    "\n",
    "1. **Comparación de Consumo**:\n",
    "   - Los patrones de consumo de minutos, mensajes y GB muestran similitudes generales entre los usuarios de ambos planes, con un aumento constante en el uso a lo largo del año.\n",
    "   - El plan Surf, a pesar de tener un ingreso promedio por usuario ligeramente inferior (51 dólares frente a 70 dólares del plan Ultimate), cuenta con casi el doble de usuarios, lo que contribuye a un mayor ingreso total.\n",
    "\n",
    "2. **Ingresos por Excedentes**:\n",
    "   - Para el plan Surf, cerca del 25% de las facturas exceden el límite de minutos incluidos, generando ingresos adicionales significativos. En contraste, el plan Ultimate no presenta cargos adicionales por mensajes, ya que los usuarios rara vez alcanzan el límite gratuito.\n",
    "\n",
    "3. **Rentabilidad del Plan Surf**:\n",
    "   - El análisis revela que, a pesar de un ingreso promedio por usuario menor, el plan Surf es el más rentable para Megaline debido a su mayor número de usuarios y los ingresos adicionales por excedentes. Esta mayor rentabilidad se ve reflejada en los ingresos totales generados por el plan Surf a lo largo del año.\n",
    "\n",
    "4. **Preferencias de los Usuarios**:\n",
    "   - La preferencia por el plan Surf podría estar relacionada con la percepción de pagar menos, aunque esta hipótesis no puede ser confirmada con los datos actuales. El elevado número de usuarios en el plan Surf sugiere que este plan ofrece una mayor percepción de valor entre los clientes.\n",
    "\n",
    "5. **Prueba de Hipótesis**:\n",
    "   - **Hipótesis sobre los Ingresos de los Planes**: La hipótesis nula que afirmaba que los ingresos promedio de los usuarios de los planes \"Ultimate\" y \"Surf\" eran iguales fue rechazada. Esto indica que existe una diferencia significativa en los ingresos promedio entre los dos planes.\n",
    "   - **Hipótesis sobre Ingresos Regionales**: La hipótesis nula que afirmaba que el ingreso promedio de los usuarios del área de NY-NJ no era diferente al de los usuarios de otras regiones también fue rechazada. Esto sugiere que hay una diferencia en el ingreso promedio entre los usuarios de NY-NJ y los de otras regiones.\n",
    "\n",
    "En resumen, el plan Surf, con su mayor base de usuarios y el cobro de excedentes, resulta ser el plan más rentable para Megaline. A pesar de tener un ingreso promedio por usuario menor en comparación con el plan Ultimate, su capacidad para generar ingresos adicionales y su popularidad entre los usuarios lo convierten en la opción más beneficiosa desde el punto de vista financiero. Además, las pruebas de hipótesis indican que existen diferencias significativas tanto en los ingresos promedio entre los dos planes como entre los usuarios de distintas regiones."
   ]
  }
 ],
 "metadata": {
  "ExecuteTimeLog": [
   {
    "duration": 828,
    "start_time": "2021-11-16T09:21:11.304Z"
   },
   {
    "duration": 893,
    "start_time": "2021-11-16T09:21:17.728Z"
   },
   {
    "duration": 1150,
    "start_time": "2021-11-16T09:21:29.568Z"
   },
   {
    "duration": 3,
    "start_time": "2021-11-16T09:24:14.495Z"
   },
   {
    "duration": 120,
    "start_time": "2021-11-16T09:24:46.630Z"
   },
   {
    "duration": 3,
    "start_time": "2021-11-16T09:28:27.882Z"
   },
   {
    "duration": 4,
    "start_time": "2021-11-16T09:29:54.281Z"
   },
   {
    "duration": 3,
    "start_time": "2021-11-16T09:30:45.936Z"
   },
   {
    "duration": 4,
    "start_time": "2021-11-16T09:31:06.300Z"
   },
   {
    "duration": 113,
    "start_time": "2021-11-16T09:31:37.208Z"
   },
   {
    "duration": 143,
    "start_time": "2021-11-16T09:31:48.656Z"
   },
   {
    "duration": 98,
    "start_time": "2021-11-16T09:31:55.678Z"
   },
   {
    "duration": 3,
    "start_time": "2021-11-16T09:32:08.535Z"
   },
   {
    "duration": 111,
    "start_time": "2021-11-16T09:32:10.120Z"
   },
   {
    "duration": 3,
    "start_time": "2021-11-16T09:32:15.732Z"
   },
   {
    "duration": 4,
    "start_time": "2021-11-16T09:32:29.423Z"
   },
   {
    "duration": 3,
    "start_time": "2021-11-16T10:03:03.074Z"
   },
   {
    "duration": 3,
    "start_time": "2021-11-16T10:10:01.288Z"
   },
   {
    "duration": 3,
    "start_time": "2021-11-16T10:10:46.923Z"
   },
   {
    "duration": 121,
    "start_time": "2021-11-16T10:37:46.494Z"
   },
   {
    "duration": 125,
    "start_time": "2021-11-16T10:38:20.632Z"
   },
   {
    "duration": 112,
    "start_time": "2021-11-16T10:46:53.001Z"
   },
   {
    "duration": 110,
    "start_time": "2021-11-16T10:48:25.775Z"
   },
   {
    "duration": 3,
    "start_time": "2021-11-16T10:50:18.720Z"
   },
   {
    "duration": 4,
    "start_time": "2021-11-16T10:50:37.649Z"
   },
   {
    "duration": 2,
    "start_time": "2021-11-16T10:50:51.884Z"
   },
   {
    "duration": 3,
    "start_time": "2021-11-16T10:51:56.237Z"
   },
   {
    "duration": 101,
    "start_time": "2021-11-16T10:53:13.791Z"
   },
   {
    "duration": 3,
    "start_time": "2021-11-16T10:55:59.186Z"
   },
   {
    "duration": 3,
    "start_time": "2021-11-16T10:56:10.751Z"
   },
   {
    "duration": 3,
    "start_time": "2021-11-16T10:56:49.038Z"
   },
   {
    "duration": 3,
    "start_time": "2021-11-16T10:56:49.174Z"
   },
   {
    "duration": 4,
    "start_time": "2021-11-16T10:56:49.414Z"
   },
   {
    "duration": 3,
    "start_time": "2021-11-16T10:56:49.680Z"
   },
   {
    "duration": 3,
    "start_time": "2021-11-16T10:56:50.370Z"
   },
   {
    "duration": 114,
    "start_time": "2021-11-16T10:59:34.518Z"
   },
   {
    "duration": 3,
    "start_time": "2021-11-16T11:01:41.201Z"
   },
   {
    "duration": 116,
    "start_time": "2021-11-16T11:01:48.754Z"
   },
   {
    "duration": 3,
    "start_time": "2021-11-16T11:02:16.685Z"
   },
   {
    "duration": 3,
    "start_time": "2021-11-16T11:02:19.479Z"
   },
   {
    "duration": 3,
    "start_time": "2021-11-16T11:02:47.067Z"
   },
   {
    "duration": 3,
    "start_time": "2021-11-16T11:02:49.353Z"
   },
   {
    "duration": 3,
    "start_time": "2021-11-16T11:03:07.835Z"
   },
   {
    "duration": 3,
    "start_time": "2021-11-16T11:03:07.953Z"
   },
   {
    "duration": 112,
    "start_time": "2021-11-16T11:07:52.072Z"
   },
   {
    "duration": 187,
    "start_time": "2021-11-16T11:09:23.468Z"
   },
   {
    "duration": 4,
    "start_time": "2021-11-16T11:10:01.455Z"
   },
   {
    "duration": 3,
    "start_time": "2021-11-16T11:10:05.069Z"
   },
   {
    "duration": 4,
    "start_time": "2021-11-16T11:10:13.376Z"
   },
   {
    "duration": 3,
    "start_time": "2021-11-16T11:10:14.434Z"
   },
   {
    "duration": 3,
    "start_time": "2021-11-16T11:10:22.853Z"
   },
   {
    "duration": 4,
    "start_time": "2021-11-16T11:27:29.279Z"
   },
   {
    "duration": 4,
    "start_time": "2021-11-16T11:29:08.919Z"
   },
   {
    "duration": 118,
    "start_time": "2021-11-16T11:29:46.703Z"
   },
   {
    "duration": 437,
    "start_time": "2021-11-16T11:36:02.181Z"
   },
   {
    "duration": 157,
    "start_time": "2021-11-16T11:36:14.388Z"
   },
   {
    "duration": 207,
    "start_time": "2021-11-16T11:47:15.898Z"
   },
   {
    "duration": 3,
    "start_time": "2021-11-16T11:53:52.092Z"
   },
   {
    "duration": 3,
    "start_time": "2021-11-16T11:53:52.236Z"
   },
   {
    "duration": 3,
    "start_time": "2021-11-16T11:59:12.005Z"
   },
   {
    "duration": 112,
    "start_time": "2021-11-16T12:00:33.446Z"
   },
   {
    "duration": 3,
    "start_time": "2021-11-16T12:02:14.453Z"
   },
   {
    "duration": 3,
    "start_time": "2021-11-16T12:02:39.512Z"
   },
   {
    "duration": 106,
    "start_time": "2021-11-16T12:03:03.460Z"
   },
   {
    "duration": 3,
    "start_time": "2021-11-17T20:37:21.139Z"
   },
   {
    "duration": 3,
    "start_time": "2021-11-17T20:37:22.229Z"
   },
   {
    "duration": 3,
    "start_time": "2021-11-17T20:38:38.806Z"
   },
   {
    "duration": 3,
    "start_time": "2021-11-17T20:38:41.958Z"
   },
   {
    "duration": 3,
    "start_time": "2021-11-17T20:43:46.551Z"
   },
   {
    "duration": 4,
    "start_time": "2021-11-17T20:58:21.835Z"
   },
   {
    "duration": 3,
    "start_time": "2021-11-17T20:59:21.872Z"
   },
   {
    "duration": 4,
    "start_time": "2021-11-17T20:59:45.352Z"
   },
   {
    "duration": 4,
    "start_time": "2021-11-17T20:59:49.646Z"
   },
   {
    "duration": 159,
    "start_time": "2021-11-17T21:02:26.949Z"
   },
   {
    "duration": 3,
    "start_time": "2021-11-17T21:03:53.461Z"
   },
   {
    "duration": 3,
    "start_time": "2021-11-17T21:03:53.694Z"
   },
   {
    "duration": 3,
    "start_time": "2021-11-17T21:05:28.145Z"
   },
   {
    "duration": 116,
    "start_time": "2021-11-17T21:05:57.787Z"
   },
   {
    "duration": 3,
    "start_time": "2021-11-17T21:06:37.993Z"
   },
   {
    "duration": 3,
    "start_time": "2021-11-17T21:06:38.261Z"
   },
   {
    "duration": 3,
    "start_time": "2021-11-17T21:11:54.358Z"
   },
   {
    "duration": 3,
    "start_time": "2021-11-17T21:12:43.846Z"
   },
   {
    "duration": 4,
    "start_time": "2021-11-17T21:13:08.773Z"
   },
   {
    "duration": 3,
    "start_time": "2021-11-17T21:14:44.441Z"
   },
   {
    "duration": 3,
    "start_time": "2021-11-17T21:15:42.059Z"
   },
   {
    "duration": 4,
    "start_time": "2021-11-17T21:15:51.995Z"
   },
   {
    "duration": 3,
    "start_time": "2021-11-17T21:15:53.923Z"
   },
   {
    "duration": 3,
    "start_time": "2021-11-17T21:15:55.282Z"
   },
   {
    "duration": 3,
    "start_time": "2021-11-17T21:16:28.492Z"
   },
   {
    "duration": 3,
    "start_time": "2021-11-17T21:16:32.603Z"
   },
   {
    "duration": 3,
    "start_time": "2021-11-17T21:17:06.941Z"
   },
   {
    "duration": 98,
    "start_time": "2021-11-17T21:18:05.733Z"
   },
   {
    "duration": 4,
    "start_time": "2021-11-17T21:21:35.255Z"
   },
   {
    "duration": 3,
    "start_time": "2021-11-17T21:21:37.804Z"
   },
   {
    "duration": 4,
    "start_time": "2021-11-17T21:23:06.071Z"
   },
   {
    "duration": 3,
    "start_time": "2021-11-17T21:23:24.799Z"
   },
   {
    "duration": 3,
    "start_time": "2021-11-17T21:23:32.591Z"
   },
   {
    "duration": 98,
    "start_time": "2021-11-17T21:28:31.559Z"
   },
   {
    "duration": 3,
    "start_time": "2021-11-17T21:28:45.448Z"
   },
   {
    "duration": 3,
    "start_time": "2021-11-17T21:29:17.303Z"
   },
   {
    "duration": 3,
    "start_time": "2021-11-17T21:29:29.617Z"
   },
   {
    "duration": 3,
    "start_time": "2021-11-17T21:29:32.681Z"
   },
   {
    "duration": 3,
    "start_time": "2021-11-17T21:36:11.474Z"
   },
   {
    "duration": 3,
    "start_time": "2021-11-17T21:36:14.791Z"
   },
   {
    "duration": 3,
    "start_time": "2021-11-17T21:36:53.943Z"
   },
   {
    "duration": 3,
    "start_time": "2021-11-17T21:36:56.165Z"
   },
   {
    "duration": 4,
    "start_time": "2021-11-17T21:37:16.590Z"
   },
   {
    "duration": 3,
    "start_time": "2021-11-17T21:37:22.702Z"
   },
   {
    "duration": 4,
    "start_time": "2021-11-17T21:38:03.479Z"
   },
   {
    "duration": 3,
    "start_time": "2021-11-17T21:38:08.601Z"
   },
   {
    "duration": 3,
    "start_time": "2021-11-17T21:38:12.928Z"
   },
   {
    "duration": 3,
    "start_time": "2021-11-17T21:38:48.896Z"
   },
   {
    "duration": 2,
    "start_time": "2021-11-17T21:38:49.171Z"
   },
   {
    "duration": 4,
    "start_time": "2021-11-17T21:39:57.889Z"
   },
   {
    "duration": 3,
    "start_time": "2021-11-17T21:39:58.057Z"
   },
   {
    "duration": 3,
    "start_time": "2021-11-17T21:41:20.108Z"
   },
   {
    "duration": 3,
    "start_time": "2021-11-17T21:41:20.629Z"
   },
   {
    "duration": 3,
    "start_time": "2021-11-17T21:42:49.136Z"
   },
   {
    "duration": 3,
    "start_time": "2021-11-17T21:43:15.137Z"
   },
   {
    "duration": 4,
    "start_time": "2021-11-17T21:43:16.766Z"
   },
   {
    "duration": 4,
    "start_time": "2021-11-17T21:43:31.711Z"
   },
   {
    "duration": 3,
    "start_time": "2021-11-17T21:43:36.312Z"
   },
   {
    "duration": 4,
    "start_time": "2021-11-17T21:45:08.825Z"
   },
   {
    "duration": 4,
    "start_time": "2021-11-17T21:45:10.119Z"
   },
   {
    "duration": 4,
    "start_time": "2021-11-17T21:45:13.748Z"
   },
   {
    "duration": 3,
    "start_time": "2021-11-17T21:45:22.219Z"
   },
   {
    "duration": 3,
    "start_time": "2021-11-17T21:45:33.412Z"
   },
   {
    "duration": 2,
    "start_time": "2021-11-17T21:46:01.885Z"
   },
   {
    "duration": 3,
    "start_time": "2021-11-17T21:46:03.628Z"
   },
   {
    "duration": 107,
    "start_time": "2021-11-17T21:47:32.512Z"
   },
   {
    "duration": 103,
    "start_time": "2021-11-17T21:50:36.243Z"
   },
   {
    "duration": 3,
    "start_time": "2021-11-18T06:28:31.440Z"
   },
   {
    "duration": 3,
    "start_time": "2021-11-18T06:29:00.168Z"
   },
   {
    "duration": 3,
    "start_time": "2021-11-18T06:31:27.008Z"
   },
   {
    "duration": 2,
    "start_time": "2021-11-18T06:35:34.288Z"
   },
   {
    "duration": 2,
    "start_time": "2021-11-18T06:38:04.527Z"
   },
   {
    "duration": 451,
    "start_time": "2024-08-06T03:22:46.303Z"
   },
   {
    "duration": 1306,
    "start_time": "2024-08-06T03:29:22.542Z"
   },
   {
    "duration": 295,
    "start_time": "2024-08-06T03:30:31.375Z"
   },
   {
    "duration": 277,
    "start_time": "2024-08-06T03:30:35.676Z"
   },
   {
    "duration": 322,
    "start_time": "2024-08-06T03:31:28.401Z"
   },
   {
    "duration": 740,
    "start_time": "2024-08-06T03:32:43.129Z"
   },
   {
    "duration": 288,
    "start_time": "2024-08-06T03:33:19.009Z"
   },
   {
    "duration": 338,
    "start_time": "2024-08-06T03:33:42.853Z"
   },
   {
    "duration": 271,
    "start_time": "2024-08-06T03:34:39.816Z"
   },
   {
    "duration": 20,
    "start_time": "2024-08-06T03:36:21.766Z"
   },
   {
    "duration": 15,
    "start_time": "2024-08-06T03:37:15.632Z"
   },
   {
    "duration": 45,
    "start_time": "2024-08-06T03:37:23.110Z"
   },
   {
    "duration": 44,
    "start_time": "2024-08-06T03:38:33.785Z"
   },
   {
    "duration": 13,
    "start_time": "2024-08-06T03:40:21.195Z"
   },
   {
    "duration": 15,
    "start_time": "2024-08-06T03:43:12.478Z"
   },
   {
    "duration": 15,
    "start_time": "2024-08-06T03:43:43.039Z"
   },
   {
    "duration": 15,
    "start_time": "2024-08-06T03:43:50.104Z"
   },
   {
    "duration": 15,
    "start_time": "2024-08-06T03:44:30.924Z"
   },
   {
    "duration": 30,
    "start_time": "2024-08-06T03:50:09.079Z"
   },
   {
    "duration": 17,
    "start_time": "2024-08-06T03:50:56.432Z"
   },
   {
    "duration": 16,
    "start_time": "2024-08-06T03:51:01.923Z"
   },
   {
    "duration": 15,
    "start_time": "2024-08-06T03:52:36.807Z"
   },
   {
    "duration": 17,
    "start_time": "2024-08-06T03:52:42.806Z"
   },
   {
    "duration": 16,
    "start_time": "2024-08-06T03:52:44.665Z"
   },
   {
    "duration": 16,
    "start_time": "2024-08-06T03:52:46.786Z"
   },
   {
    "duration": 16,
    "start_time": "2024-08-06T03:52:48.695Z"
   },
   {
    "duration": 21,
    "start_time": "2024-08-06T03:52:50.549Z"
   },
   {
    "duration": 15,
    "start_time": "2024-08-06T03:52:52.307Z"
   },
   {
    "duration": 4294,
    "start_time": "2024-08-06T21:53:12.476Z"
   },
   {
    "duration": 377,
    "start_time": "2024-08-06T21:53:21.530Z"
   },
   {
    "duration": 15,
    "start_time": "2024-08-06T21:53:26.079Z"
   },
   {
    "duration": 15,
    "start_time": "2024-08-06T21:53:33.899Z"
   },
   {
    "duration": 6,
    "start_time": "2024-08-06T22:07:47.549Z"
   },
   {
    "duration": 24,
    "start_time": "2024-08-06T22:07:52.605Z"
   },
   {
    "duration": 17,
    "start_time": "2024-08-06T22:08:07.160Z"
   },
   {
    "duration": 17,
    "start_time": "2024-08-06T22:08:11.443Z"
   },
   {
    "duration": 16,
    "start_time": "2024-08-06T22:12:46.211Z"
   },
   {
    "duration": 22,
    "start_time": "2024-08-06T22:15:51.563Z"
   },
   {
    "duration": 14,
    "start_time": "2024-08-06T22:16:19.590Z"
   },
   {
    "duration": 22,
    "start_time": "2024-08-06T22:18:37.116Z"
   },
   {
    "duration": 14,
    "start_time": "2024-08-06T22:19:10.048Z"
   },
   {
    "duration": 17,
    "start_time": "2024-08-06T22:22:17.818Z"
   },
   {
    "duration": 5,
    "start_time": "2024-08-06T22:37:29.266Z"
   },
   {
    "duration": 5,
    "start_time": "2024-08-06T22:39:20.682Z"
   },
   {
    "duration": 6,
    "start_time": "2024-08-06T22:40:36.087Z"
   },
   {
    "duration": 7,
    "start_time": "2024-08-06T22:40:48.849Z"
   },
   {
    "duration": 7,
    "start_time": "2024-08-06T22:42:40.356Z"
   },
   {
    "duration": 7,
    "start_time": "2024-08-06T22:43:29.403Z"
   },
   {
    "duration": 6,
    "start_time": "2024-08-06T22:43:42.781Z"
   },
   {
    "duration": 9,
    "start_time": "2024-08-06T22:47:17.596Z"
   },
   {
    "duration": 7,
    "start_time": "2024-08-06T22:48:00.560Z"
   },
   {
    "duration": 57,
    "start_time": "2024-08-06T22:48:30.711Z"
   },
   {
    "duration": 19,
    "start_time": "2024-08-06T22:48:35.477Z"
   },
   {
    "duration": 435,
    "start_time": "2024-08-06T22:48:56.273Z"
   },
   {
    "duration": 28,
    "start_time": "2024-08-06T22:49:04.770Z"
   },
   {
    "duration": 64,
    "start_time": "2024-08-06T22:49:21.240Z"
   },
   {
    "duration": 17,
    "start_time": "2024-08-06T22:51:45.837Z"
   },
   {
    "duration": 23,
    "start_time": "2024-08-06T22:52:37.156Z"
   },
   {
    "duration": 17,
    "start_time": "2024-08-06T22:52:55.128Z"
   },
   {
    "duration": 19,
    "start_time": "2024-08-06T22:53:03.308Z"
   },
   {
    "duration": 17,
    "start_time": "2024-08-06T22:53:10.208Z"
   },
   {
    "duration": 25,
    "start_time": "2024-08-06T23:04:26.191Z"
   },
   {
    "duration": 16,
    "start_time": "2024-08-06T23:05:05.796Z"
   },
   {
    "duration": 17,
    "start_time": "2024-08-06T23:05:09.848Z"
   },
   {
    "duration": 24,
    "start_time": "2024-08-06T23:05:15.994Z"
   },
   {
    "duration": 31,
    "start_time": "2024-08-06T23:05:32.174Z"
   },
   {
    "duration": 23,
    "start_time": "2024-08-06T23:05:48.151Z"
   },
   {
    "duration": 61,
    "start_time": "2024-08-06T23:06:52.027Z"
   },
   {
    "duration": 12,
    "start_time": "2024-08-06T23:16:33.560Z"
   },
   {
    "duration": 521,
    "start_time": "2024-08-06T23:18:23.831Z"
   },
   {
    "duration": 45,
    "start_time": "2024-08-06T23:19:54.512Z"
   },
   {
    "duration": 48,
    "start_time": "2024-08-06T23:20:38.878Z"
   },
   {
    "duration": 49,
    "start_time": "2024-08-07T01:34:07.310Z"
   },
   {
    "duration": 48,
    "start_time": "2024-08-07T01:46:45.608Z"
   },
   {
    "duration": 41,
    "start_time": "2024-08-07T01:51:02.148Z"
   },
   {
    "duration": 357,
    "start_time": "2024-08-07T01:51:54.616Z"
   },
   {
    "duration": 31,
    "start_time": "2024-08-07T01:56:29.550Z"
   },
   {
    "duration": 683,
    "start_time": "2024-08-07T01:56:35.964Z"
   },
   {
    "duration": 764,
    "start_time": "2024-08-07T01:57:40.237Z"
   },
   {
    "duration": 705,
    "start_time": "2024-08-07T01:58:28.695Z"
   },
   {
    "duration": 703,
    "start_time": "2024-08-07T01:59:20.058Z"
   },
   {
    "duration": 16,
    "start_time": "2024-08-07T02:00:28.269Z"
   },
   {
    "duration": 23,
    "start_time": "2024-08-07T02:01:34.425Z"
   },
   {
    "duration": 50,
    "start_time": "2024-08-07T02:01:42.422Z"
   },
   {
    "duration": 33,
    "start_time": "2024-08-07T02:14:02.108Z"
   },
   {
    "duration": 5,
    "start_time": "2024-08-07T02:19:30.101Z"
   },
   {
    "duration": 21,
    "start_time": "2024-08-07T02:20:25.566Z"
   },
   {
    "duration": 20,
    "start_time": "2024-08-07T02:21:39.249Z"
   },
   {
    "duration": 16,
    "start_time": "2024-08-07T02:22:03.543Z"
   },
   {
    "duration": 16,
    "start_time": "2024-08-07T02:31:36.789Z"
   },
   {
    "duration": 17,
    "start_time": "2024-08-07T02:31:44.153Z"
   },
   {
    "duration": 24,
    "start_time": "2024-08-07T02:32:50.377Z"
   },
   {
    "duration": 21,
    "start_time": "2024-08-07T02:33:04.771Z"
   },
   {
    "duration": 22,
    "start_time": "2024-08-07T02:38:05.118Z"
   },
   {
    "duration": 18,
    "start_time": "2024-08-07T02:38:14.464Z"
   },
   {
    "duration": 11,
    "start_time": "2024-08-07T02:38:54.190Z"
   },
   {
    "duration": 18,
    "start_time": "2024-08-07T02:38:58.166Z"
   },
   {
    "duration": 7,
    "start_time": "2024-08-07T02:39:29.793Z"
   },
   {
    "duration": 33,
    "start_time": "2024-08-07T02:42:57.419Z"
   },
   {
    "duration": 36,
    "start_time": "2024-08-07T02:47:23.340Z"
   },
   {
    "duration": 27,
    "start_time": "2024-08-07T02:59:13.905Z"
   },
   {
    "duration": 32,
    "start_time": "2024-08-07T03:00:12.311Z"
   },
   {
    "duration": 25,
    "start_time": "2024-08-07T03:00:23.595Z"
   },
   {
    "duration": 27,
    "start_time": "2024-08-07T03:01:19.254Z"
   },
   {
    "duration": 17,
    "start_time": "2024-08-07T03:01:39.653Z"
   },
   {
    "duration": 23,
    "start_time": "2024-08-07T03:02:59.363Z"
   },
   {
    "duration": 31,
    "start_time": "2024-08-07T03:03:07.911Z"
   },
   {
    "duration": 24,
    "start_time": "2024-08-07T03:03:33.091Z"
   },
   {
    "duration": 35,
    "start_time": "2024-08-07T03:03:57.835Z"
   },
   {
    "duration": 320,
    "start_time": "2024-08-07T16:37:02.265Z"
   },
   {
    "duration": 4486,
    "start_time": "2024-08-07T16:37:15.755Z"
   },
   {
    "duration": 4,
    "start_time": "2024-08-07T16:37:20.702Z"
   },
   {
    "duration": 71,
    "start_time": "2024-08-07T16:37:25.881Z"
   },
   {
    "duration": 3,
    "start_time": "2024-08-07T16:37:37.780Z"
   },
   {
    "duration": 390,
    "start_time": "2024-08-07T16:37:40.942Z"
   },
   {
    "duration": 16,
    "start_time": "2024-08-07T16:39:46.724Z"
   },
   {
    "duration": 16,
    "start_time": "2024-08-07T16:39:56.634Z"
   },
   {
    "duration": 15,
    "start_time": "2024-08-07T16:40:12.365Z"
   },
   {
    "duration": 17,
    "start_time": "2024-08-07T16:40:17.314Z"
   },
   {
    "duration": 6,
    "start_time": "2024-08-07T16:41:10.712Z"
   },
   {
    "duration": 6,
    "start_time": "2024-08-07T16:41:11.551Z"
   },
   {
    "duration": 33,
    "start_time": "2024-08-07T16:41:25.154Z"
   },
   {
    "duration": 18,
    "start_time": "2024-08-07T16:41:32.220Z"
   },
   {
    "duration": 30,
    "start_time": "2024-08-07T16:41:38.654Z"
   },
   {
    "duration": 34,
    "start_time": "2024-08-07T16:41:47.260Z"
   },
   {
    "duration": 25,
    "start_time": "2024-08-07T16:41:57.256Z"
   },
   {
    "duration": 15,
    "start_time": "2024-08-07T16:42:01.953Z"
   },
   {
    "duration": 22,
    "start_time": "2024-08-07T16:42:15.861Z"
   },
   {
    "duration": 10,
    "start_time": "2024-08-07T16:42:20.278Z"
   },
   {
    "duration": 29,
    "start_time": "2024-08-07T16:42:30.214Z"
   },
   {
    "duration": 17,
    "start_time": "2024-08-07T16:42:34.888Z"
   },
   {
    "duration": 25,
    "start_time": "2024-08-07T16:42:40.408Z"
   },
   {
    "duration": 13,
    "start_time": "2024-08-07T16:42:44.456Z"
   },
   {
    "duration": 8,
    "start_time": "2024-08-07T16:42:49.380Z"
   },
   {
    "duration": 41,
    "start_time": "2024-08-07T16:42:53.232Z"
   },
   {
    "duration": 44,
    "start_time": "2024-08-07T16:43:29.736Z"
   },
   {
    "duration": 25,
    "start_time": "2024-08-07T16:43:33.629Z"
   },
   {
    "duration": 27,
    "start_time": "2024-08-07T16:43:36.564Z"
   },
   {
    "duration": 36,
    "start_time": "2024-08-07T16:43:39.669Z"
   },
   {
    "duration": 28,
    "start_time": "2024-08-07T16:48:42.870Z"
   },
   {
    "duration": 28,
    "start_time": "2024-08-07T16:48:45.772Z"
   },
   {
    "duration": 36,
    "start_time": "2024-08-07T16:48:57.612Z"
   },
   {
    "duration": 36,
    "start_time": "2024-08-07T16:50:41.986Z"
   },
   {
    "duration": 37,
    "start_time": "2024-08-07T16:52:48.135Z"
   },
   {
    "duration": 38,
    "start_time": "2024-08-07T16:53:18.895Z"
   },
   {
    "duration": 50,
    "start_time": "2024-08-07T16:53:31.651Z"
   },
   {
    "duration": 37,
    "start_time": "2024-08-07T16:53:41.409Z"
   },
   {
    "duration": 29,
    "start_time": "2024-08-07T16:56:42.528Z"
   },
   {
    "duration": 30,
    "start_time": "2024-08-07T16:57:36.910Z"
   },
   {
    "duration": 24,
    "start_time": "2024-08-07T17:01:06.099Z"
   },
   {
    "duration": 33,
    "start_time": "2024-08-07T17:01:14.623Z"
   },
   {
    "duration": 25,
    "start_time": "2024-08-07T17:01:29.411Z"
   },
   {
    "duration": 27,
    "start_time": "2024-08-07T17:09:01.579Z"
   },
   {
    "duration": 875,
    "start_time": "2024-08-07T17:11:41.639Z"
   },
   {
    "duration": 289,
    "start_time": "2024-08-07T17:11:56.762Z"
   },
   {
    "duration": 27,
    "start_time": "2024-08-07T17:12:40.749Z"
   },
   {
    "duration": 29,
    "start_time": "2024-08-07T17:15:17.720Z"
   },
   {
    "duration": 29,
    "start_time": "2024-08-07T17:17:51.885Z"
   },
   {
    "duration": 29,
    "start_time": "2024-08-07T17:18:05.898Z"
   },
   {
    "duration": 27,
    "start_time": "2024-08-07T17:18:12.791Z"
   },
   {
    "duration": 35,
    "start_time": "2024-08-07T17:18:23.410Z"
   },
   {
    "duration": 38,
    "start_time": "2024-08-07T17:18:33.146Z"
   },
   {
    "duration": 22,
    "start_time": "2024-08-07T17:28:02.741Z"
   },
   {
    "duration": 16,
    "start_time": "2024-08-07T17:28:23.080Z"
   },
   {
    "duration": 18,
    "start_time": "2024-08-07T17:28:31.778Z"
   },
   {
    "duration": 17,
    "start_time": "2024-08-07T17:28:40.413Z"
   },
   {
    "duration": 17,
    "start_time": "2024-08-07T17:29:04.588Z"
   },
   {
    "duration": 520,
    "start_time": "2024-08-07T17:29:31.186Z"
   },
   {
    "duration": 84,
    "start_time": "2024-08-07T17:29:39.478Z"
   },
   {
    "duration": 18,
    "start_time": "2024-08-07T17:29:44.948Z"
   },
   {
    "duration": 21,
    "start_time": "2024-08-07T17:29:55.381Z"
   },
   {
    "duration": 13,
    "start_time": "2024-08-07T17:30:03.264Z"
   },
   {
    "duration": 19,
    "start_time": "2024-08-07T17:30:32.632Z"
   },
   {
    "duration": 25,
    "start_time": "2024-08-07T17:32:00.903Z"
   },
   {
    "duration": 28,
    "start_time": "2024-08-07T17:32:16.704Z"
   },
   {
    "duration": 18,
    "start_time": "2024-08-07T17:32:43.891Z"
   },
   {
    "duration": 22,
    "start_time": "2024-08-07T17:35:47.693Z"
   },
   {
    "duration": 45,
    "start_time": "2024-08-07T17:36:39.414Z"
   },
   {
    "duration": 18,
    "start_time": "2024-08-07T17:36:50.943Z"
   },
   {
    "duration": 18,
    "start_time": "2024-08-07T17:37:02.245Z"
   },
   {
    "duration": 27,
    "start_time": "2024-08-07T17:46:16.232Z"
   },
   {
    "duration": 37,
    "start_time": "2024-08-07T17:49:08.193Z"
   },
   {
    "duration": 28,
    "start_time": "2024-08-07T17:51:16.527Z"
   },
   {
    "duration": 34,
    "start_time": "2024-08-07T17:51:31.920Z"
   },
   {
    "duration": 33,
    "start_time": "2024-08-07T17:54:32.388Z"
   },
   {
    "duration": 39,
    "start_time": "2024-08-07T17:54:44.695Z"
   },
   {
    "duration": 24,
    "start_time": "2024-08-07T18:01:36.643Z"
   },
   {
    "duration": 24,
    "start_time": "2024-08-07T18:01:44.734Z"
   },
   {
    "duration": 80,
    "start_time": "2024-08-07T18:02:24.232Z"
   },
   {
    "duration": 28,
    "start_time": "2024-08-07T18:02:37.985Z"
   },
   {
    "duration": 33,
    "start_time": "2024-08-07T18:03:02.531Z"
   },
   {
    "duration": 24,
    "start_time": "2024-08-07T18:03:08.587Z"
   },
   {
    "duration": 4358,
    "start_time": "2024-08-07T18:44:06.035Z"
   },
   {
    "duration": 353,
    "start_time": "2024-08-07T18:44:10.396Z"
   },
   {
    "duration": 17,
    "start_time": "2024-08-07T18:44:10.752Z"
   },
   {
    "duration": 26,
    "start_time": "2024-08-07T18:44:10.774Z"
   },
   {
    "duration": 7,
    "start_time": "2024-08-07T18:44:10.804Z"
   },
   {
    "duration": 0,
    "start_time": "2024-08-07T18:44:10.816Z"
   },
   {
    "duration": 0,
    "start_time": "2024-08-07T18:44:10.819Z"
   },
   {
    "duration": 0,
    "start_time": "2024-08-07T18:44:10.821Z"
   },
   {
    "duration": 0,
    "start_time": "2024-08-07T18:44:10.824Z"
   },
   {
    "duration": 0,
    "start_time": "2024-08-07T18:44:10.825Z"
   },
   {
    "duration": 0,
    "start_time": "2024-08-07T18:44:10.827Z"
   },
   {
    "duration": 0,
    "start_time": "2024-08-07T18:44:10.829Z"
   },
   {
    "duration": 0,
    "start_time": "2024-08-07T18:44:10.832Z"
   },
   {
    "duration": 0,
    "start_time": "2024-08-07T18:44:10.833Z"
   },
   {
    "duration": 0,
    "start_time": "2024-08-07T18:44:10.835Z"
   },
   {
    "duration": 0,
    "start_time": "2024-08-07T18:44:10.836Z"
   },
   {
    "duration": 0,
    "start_time": "2024-08-07T18:44:10.839Z"
   },
   {
    "duration": 0,
    "start_time": "2024-08-07T18:44:10.891Z"
   },
   {
    "duration": 0,
    "start_time": "2024-08-07T18:44:10.893Z"
   },
   {
    "duration": 0,
    "start_time": "2024-08-07T18:44:10.896Z"
   },
   {
    "duration": 0,
    "start_time": "2024-08-07T18:44:10.898Z"
   },
   {
    "duration": 0,
    "start_time": "2024-08-07T18:44:10.901Z"
   },
   {
    "duration": 0,
    "start_time": "2024-08-07T18:44:10.904Z"
   },
   {
    "duration": 0,
    "start_time": "2024-08-07T18:44:10.906Z"
   },
   {
    "duration": 0,
    "start_time": "2024-08-07T18:44:10.908Z"
   },
   {
    "duration": 0,
    "start_time": "2024-08-07T18:44:10.910Z"
   },
   {
    "duration": 0,
    "start_time": "2024-08-07T18:44:10.912Z"
   },
   {
    "duration": 0,
    "start_time": "2024-08-07T18:44:10.914Z"
   },
   {
    "duration": 0,
    "start_time": "2024-08-07T18:44:10.916Z"
   },
   {
    "duration": 0,
    "start_time": "2024-08-07T18:44:10.919Z"
   },
   {
    "duration": 0,
    "start_time": "2024-08-07T18:44:10.921Z"
   },
   {
    "duration": 0,
    "start_time": "2024-08-07T18:44:10.923Z"
   },
   {
    "duration": 0,
    "start_time": "2024-08-07T18:44:10.926Z"
   },
   {
    "duration": 0,
    "start_time": "2024-08-07T18:44:10.928Z"
   },
   {
    "duration": 0,
    "start_time": "2024-08-07T18:44:10.991Z"
   },
   {
    "duration": 0,
    "start_time": "2024-08-07T18:44:10.994Z"
   },
   {
    "duration": 0,
    "start_time": "2024-08-07T18:44:10.998Z"
   },
   {
    "duration": 679,
    "start_time": "2024-08-07T18:45:53.628Z"
   },
   {
    "duration": 323,
    "start_time": "2024-08-07T18:45:54.310Z"
   },
   {
    "duration": 16,
    "start_time": "2024-08-07T18:45:54.636Z"
   },
   {
    "duration": 36,
    "start_time": "2024-08-07T18:45:54.656Z"
   },
   {
    "duration": 7,
    "start_time": "2024-08-07T18:45:54.695Z"
   },
   {
    "duration": 0,
    "start_time": "2024-08-07T18:45:54.707Z"
   },
   {
    "duration": 0,
    "start_time": "2024-08-07T18:45:54.709Z"
   },
   {
    "duration": 0,
    "start_time": "2024-08-07T18:45:54.711Z"
   },
   {
    "duration": 0,
    "start_time": "2024-08-07T18:45:54.713Z"
   },
   {
    "duration": 0,
    "start_time": "2024-08-07T18:45:54.715Z"
   },
   {
    "duration": 0,
    "start_time": "2024-08-07T18:45:54.717Z"
   },
   {
    "duration": 0,
    "start_time": "2024-08-07T18:45:54.720Z"
   },
   {
    "duration": 0,
    "start_time": "2024-08-07T18:45:54.721Z"
   },
   {
    "duration": 0,
    "start_time": "2024-08-07T18:45:54.723Z"
   },
   {
    "duration": 0,
    "start_time": "2024-08-07T18:45:54.725Z"
   },
   {
    "duration": 0,
    "start_time": "2024-08-07T18:45:54.727Z"
   },
   {
    "duration": 0,
    "start_time": "2024-08-07T18:45:54.729Z"
   },
   {
    "duration": 0,
    "start_time": "2024-08-07T18:45:54.732Z"
   },
   {
    "duration": 0,
    "start_time": "2024-08-07T18:45:54.735Z"
   },
   {
    "duration": 0,
    "start_time": "2024-08-07T18:45:54.792Z"
   },
   {
    "duration": 0,
    "start_time": "2024-08-07T18:45:54.794Z"
   },
   {
    "duration": 0,
    "start_time": "2024-08-07T18:45:54.797Z"
   },
   {
    "duration": 0,
    "start_time": "2024-08-07T18:45:54.811Z"
   },
   {
    "duration": 0,
    "start_time": "2024-08-07T18:45:54.813Z"
   },
   {
    "duration": 0,
    "start_time": "2024-08-07T18:45:54.815Z"
   },
   {
    "duration": 1,
    "start_time": "2024-08-07T18:45:54.818Z"
   },
   {
    "duration": 0,
    "start_time": "2024-08-07T18:45:54.820Z"
   },
   {
    "duration": 0,
    "start_time": "2024-08-07T18:45:54.823Z"
   },
   {
    "duration": 0,
    "start_time": "2024-08-07T18:45:54.826Z"
   },
   {
    "duration": 0,
    "start_time": "2024-08-07T18:45:54.827Z"
   },
   {
    "duration": 0,
    "start_time": "2024-08-07T18:45:54.829Z"
   },
   {
    "duration": 0,
    "start_time": "2024-08-07T18:45:54.831Z"
   },
   {
    "duration": 0,
    "start_time": "2024-08-07T18:45:54.833Z"
   },
   {
    "duration": 0,
    "start_time": "2024-08-07T18:45:54.835Z"
   },
   {
    "duration": 0,
    "start_time": "2024-08-07T18:45:54.836Z"
   },
   {
    "duration": 0,
    "start_time": "2024-08-07T18:45:54.838Z"
   },
   {
    "duration": 0,
    "start_time": "2024-08-07T18:45:54.839Z"
   },
   {
    "duration": 4,
    "start_time": "2024-08-07T18:47:03.787Z"
   },
   {
    "duration": 306,
    "start_time": "2024-08-07T18:47:03.798Z"
   },
   {
    "duration": 14,
    "start_time": "2024-08-07T18:47:04.107Z"
   },
   {
    "duration": 13,
    "start_time": "2024-08-07T18:47:04.124Z"
   },
   {
    "duration": 3,
    "start_time": "2024-08-07T18:47:04.140Z"
   },
   {
    "duration": 4,
    "start_time": "2024-08-07T18:47:04.149Z"
   },
   {
    "duration": 16,
    "start_time": "2024-08-07T18:47:04.191Z"
   },
   {
    "duration": 16,
    "start_time": "2024-08-07T18:47:04.210Z"
   },
   {
    "duration": 6,
    "start_time": "2024-08-07T18:47:04.229Z"
   },
   {
    "duration": 69,
    "start_time": "2024-08-07T18:47:04.238Z"
   },
   {
    "duration": 17,
    "start_time": "2024-08-07T18:47:04.310Z"
   },
   {
    "duration": 29,
    "start_time": "2024-08-07T18:47:04.331Z"
   },
   {
    "duration": 52,
    "start_time": "2024-08-07T18:47:04.363Z"
   },
   {
    "duration": 19,
    "start_time": "2024-08-07T18:47:04.419Z"
   },
   {
    "duration": 47,
    "start_time": "2024-08-07T18:47:04.444Z"
   },
   {
    "duration": 19,
    "start_time": "2024-08-07T18:47:04.493Z"
   },
   {
    "duration": 10,
    "start_time": "2024-08-07T18:47:04.515Z"
   },
   {
    "duration": 23,
    "start_time": "2024-08-07T18:47:04.528Z"
   },
   {
    "duration": 18,
    "start_time": "2024-08-07T18:47:04.590Z"
   },
   {
    "duration": 23,
    "start_time": "2024-08-07T18:47:04.611Z"
   },
   {
    "duration": 13,
    "start_time": "2024-08-07T18:47:04.636Z"
   },
   {
    "duration": 42,
    "start_time": "2024-08-07T18:47:04.651Z"
   },
   {
    "duration": 64,
    "start_time": "2024-08-07T18:47:04.699Z"
   },
   {
    "duration": 52,
    "start_time": "2024-08-07T18:47:04.769Z"
   },
   {
    "duration": 29,
    "start_time": "2024-08-07T18:47:04.825Z"
   },
   {
    "duration": 53,
    "start_time": "2024-08-07T18:47:04.857Z"
   },
   {
    "duration": 35,
    "start_time": "2024-08-07T18:47:04.913Z"
   },
   {
    "duration": 48,
    "start_time": "2024-08-07T18:47:04.951Z"
   },
   {
    "duration": 7,
    "start_time": "2024-08-07T18:47:05.002Z"
   },
   {
    "duration": 4,
    "start_time": "2024-08-07T18:47:05.012Z"
   },
   {
    "duration": 4,
    "start_time": "2024-08-07T18:47:05.020Z"
   },
   {
    "duration": 4,
    "start_time": "2024-08-07T18:47:05.028Z"
   },
   {
    "duration": 5,
    "start_time": "2024-08-07T18:47:05.035Z"
   },
   {
    "duration": 3,
    "start_time": "2024-08-07T18:47:05.090Z"
   },
   {
    "duration": 3,
    "start_time": "2024-08-07T18:47:05.097Z"
   },
   {
    "duration": 4,
    "start_time": "2024-08-07T18:47:05.103Z"
   },
   {
    "duration": 3,
    "start_time": "2024-08-07T18:47:05.111Z"
   },
   {
    "duration": 98,
    "start_time": "2024-08-07T19:10:37.755Z"
   },
   {
    "duration": 581,
    "start_time": "2024-08-07T19:12:30.212Z"
   },
   {
    "duration": 68,
    "start_time": "2024-08-07T19:12:54.672Z"
   },
   {
    "duration": 76,
    "start_time": "2024-08-07T19:19:32.532Z"
   },
   {
    "duration": 90,
    "start_time": "2024-08-07T19:21:56.847Z"
   },
   {
    "duration": 9,
    "start_time": "2024-08-07T19:25:35.408Z"
   },
   {
    "duration": 1257,
    "start_time": "2024-08-07T19:25:44.235Z"
   },
   {
    "duration": 122,
    "start_time": "2024-08-07T19:25:51.916Z"
   },
   {
    "duration": 121,
    "start_time": "2024-08-07T19:26:39.556Z"
   },
   {
    "duration": 742,
    "start_time": "2024-08-07T19:28:38.717Z"
   },
   {
    "duration": 361,
    "start_time": "2024-08-07T19:28:39.464Z"
   },
   {
    "duration": 21,
    "start_time": "2024-08-07T19:28:39.828Z"
   },
   {
    "duration": 16,
    "start_time": "2024-08-07T19:28:39.854Z"
   },
   {
    "duration": 5,
    "start_time": "2024-08-07T19:28:39.891Z"
   },
   {
    "duration": 6,
    "start_time": "2024-08-07T19:28:39.898Z"
   },
   {
    "duration": 18,
    "start_time": "2024-08-07T19:28:39.907Z"
   },
   {
    "duration": 16,
    "start_time": "2024-08-07T19:28:39.928Z"
   },
   {
    "duration": 6,
    "start_time": "2024-08-07T19:28:39.949Z"
   },
   {
    "duration": 31,
    "start_time": "2024-08-07T19:28:39.992Z"
   },
   {
    "duration": 18,
    "start_time": "2024-08-07T19:28:40.025Z"
   },
   {
    "duration": 65,
    "start_time": "2024-08-07T19:28:40.046Z"
   },
   {
    "duration": 134,
    "start_time": "2024-08-07T19:28:40.113Z"
   },
   {
    "duration": 22,
    "start_time": "2024-08-07T19:28:40.250Z"
   },
   {
    "duration": 31,
    "start_time": "2024-08-07T19:28:40.275Z"
   },
   {
    "duration": 26,
    "start_time": "2024-08-07T19:28:40.308Z"
   },
   {
    "duration": 10,
    "start_time": "2024-08-07T19:28:40.337Z"
   },
   {
    "duration": 44,
    "start_time": "2024-08-07T19:28:40.353Z"
   },
   {
    "duration": 25,
    "start_time": "2024-08-07T19:28:40.400Z"
   },
   {
    "duration": 25,
    "start_time": "2024-08-07T19:28:40.429Z"
   },
   {
    "duration": 37,
    "start_time": "2024-08-07T19:28:40.457Z"
   },
   {
    "duration": 8,
    "start_time": "2024-08-07T19:28:40.496Z"
   },
   {
    "duration": 50,
    "start_time": "2024-08-07T19:28:40.508Z"
   },
   {
    "duration": 67,
    "start_time": "2024-08-07T19:28:40.561Z"
   },
   {
    "duration": 33,
    "start_time": "2024-08-07T19:28:40.630Z"
   },
   {
    "duration": 52,
    "start_time": "2024-08-07T19:28:40.667Z"
   },
   {
    "duration": 38,
    "start_time": "2024-08-07T19:28:40.722Z"
   },
   {
    "duration": 45,
    "start_time": "2024-08-07T19:28:40.769Z"
   },
   {
    "duration": 3,
    "start_time": "2024-08-07T19:28:40.820Z"
   },
   {
    "duration": 7,
    "start_time": "2024-08-07T19:28:40.825Z"
   },
   {
    "duration": 3,
    "start_time": "2024-08-07T19:28:40.836Z"
   },
   {
    "duration": 4,
    "start_time": "2024-08-07T19:28:40.843Z"
   },
   {
    "duration": 3,
    "start_time": "2024-08-07T19:28:40.850Z"
   },
   {
    "duration": 5,
    "start_time": "2024-08-07T19:28:40.894Z"
   },
   {
    "duration": 5,
    "start_time": "2024-08-07T19:28:40.903Z"
   },
   {
    "duration": 8,
    "start_time": "2024-08-07T19:28:40.914Z"
   },
   {
    "duration": 7,
    "start_time": "2024-08-07T19:28:40.925Z"
   },
   {
    "duration": 34,
    "start_time": "2024-08-07T19:29:46.276Z"
   },
   {
    "duration": 725,
    "start_time": "2024-08-07T19:30:50.088Z"
   },
   {
    "duration": 356,
    "start_time": "2024-08-07T19:30:50.816Z"
   },
   {
    "duration": 19,
    "start_time": "2024-08-07T19:30:51.175Z"
   },
   {
    "duration": 21,
    "start_time": "2024-08-07T19:30:51.202Z"
   },
   {
    "duration": 5,
    "start_time": "2024-08-07T19:30:51.226Z"
   },
   {
    "duration": 4,
    "start_time": "2024-08-07T19:30:51.234Z"
   },
   {
    "duration": 15,
    "start_time": "2024-08-07T19:30:51.242Z"
   },
   {
    "duration": 25,
    "start_time": "2024-08-07T19:30:51.293Z"
   },
   {
    "duration": 7,
    "start_time": "2024-08-07T19:30:51.322Z"
   },
   {
    "duration": 29,
    "start_time": "2024-08-07T19:30:51.337Z"
   },
   {
    "duration": 23,
    "start_time": "2024-08-07T19:30:51.392Z"
   },
   {
    "duration": 34,
    "start_time": "2024-08-07T19:30:51.418Z"
   },
   {
    "duration": 150,
    "start_time": "2024-08-07T19:30:51.455Z"
   },
   {
    "duration": 22,
    "start_time": "2024-08-07T19:30:51.609Z"
   },
   {
    "duration": 15,
    "start_time": "2024-08-07T19:30:51.635Z"
   },
   {
    "duration": 44,
    "start_time": "2024-08-07T19:30:51.654Z"
   },
   {
    "duration": 13,
    "start_time": "2024-08-07T19:30:51.700Z"
   },
   {
    "duration": 25,
    "start_time": "2024-08-07T19:30:51.717Z"
   },
   {
    "duration": 50,
    "start_time": "2024-08-07T19:30:51.746Z"
   },
   {
    "duration": 24,
    "start_time": "2024-08-07T19:30:51.802Z"
   },
   {
    "duration": 13,
    "start_time": "2024-08-07T19:30:51.829Z"
   },
   {
    "duration": 8,
    "start_time": "2024-08-07T19:30:51.845Z"
   },
   {
    "duration": 73,
    "start_time": "2024-08-07T19:30:51.856Z"
   },
   {
    "duration": 36,
    "start_time": "2024-08-07T19:30:51.932Z"
   },
   {
    "duration": 34,
    "start_time": "2024-08-07T19:30:51.993Z"
   },
   {
    "duration": 31,
    "start_time": "2024-08-07T19:30:52.031Z"
   },
   {
    "duration": 62,
    "start_time": "2024-08-07T19:30:52.065Z"
   },
   {
    "duration": 27,
    "start_time": "2024-08-07T19:30:52.135Z"
   },
   {
    "duration": 32,
    "start_time": "2024-08-07T19:30:52.165Z"
   },
   {
    "duration": 9,
    "start_time": "2024-08-07T19:30:52.201Z"
   },
   {
    "duration": 8,
    "start_time": "2024-08-07T19:30:52.214Z"
   },
   {
    "duration": 5,
    "start_time": "2024-08-07T19:30:52.224Z"
   },
   {
    "duration": 4,
    "start_time": "2024-08-07T19:30:52.233Z"
   },
   {
    "duration": 4,
    "start_time": "2024-08-07T19:30:52.241Z"
   },
   {
    "duration": 3,
    "start_time": "2024-08-07T19:30:52.249Z"
   },
   {
    "duration": 38,
    "start_time": "2024-08-07T19:30:52.256Z"
   },
   {
    "duration": 3,
    "start_time": "2024-08-07T19:30:52.299Z"
   },
   {
    "duration": 37,
    "start_time": "2024-08-07T19:35:17.695Z"
   },
   {
    "duration": 30,
    "start_time": "2024-08-07T19:35:27.718Z"
   },
   {
    "duration": 692,
    "start_time": "2024-08-07T20:51:43.636Z"
   },
   {
    "duration": 326,
    "start_time": "2024-08-07T20:51:44.331Z"
   },
   {
    "duration": 15,
    "start_time": "2024-08-07T20:51:44.660Z"
   },
   {
    "duration": 25,
    "start_time": "2024-08-07T20:51:44.678Z"
   },
   {
    "duration": 3,
    "start_time": "2024-08-07T20:51:44.709Z"
   },
   {
    "duration": 4,
    "start_time": "2024-08-07T20:51:44.715Z"
   },
   {
    "duration": 16,
    "start_time": "2024-08-07T20:51:44.722Z"
   },
   {
    "duration": 61,
    "start_time": "2024-08-07T20:51:44.741Z"
   },
   {
    "duration": 7,
    "start_time": "2024-08-07T20:51:44.806Z"
   },
   {
    "duration": 31,
    "start_time": "2024-08-07T20:51:44.817Z"
   },
   {
    "duration": 50,
    "start_time": "2024-08-07T20:51:44.851Z"
   },
   {
    "duration": 30,
    "start_time": "2024-08-07T20:51:44.904Z"
   },
   {
    "duration": 161,
    "start_time": "2024-08-07T20:51:44.937Z"
   },
   {
    "duration": 22,
    "start_time": "2024-08-07T20:51:45.104Z"
   },
   {
    "duration": 14,
    "start_time": "2024-08-07T20:51:45.128Z"
   },
   {
    "duration": 51,
    "start_time": "2024-08-07T20:51:45.146Z"
   },
   {
    "duration": 10,
    "start_time": "2024-08-07T20:51:45.199Z"
   },
   {
    "duration": 24,
    "start_time": "2024-08-07T20:51:45.212Z"
   },
   {
    "duration": 53,
    "start_time": "2024-08-07T20:51:45.239Z"
   },
   {
    "duration": 23,
    "start_time": "2024-08-07T20:51:45.295Z"
   },
   {
    "duration": 13,
    "start_time": "2024-08-07T20:51:45.321Z"
   },
   {
    "duration": 8,
    "start_time": "2024-08-07T20:51:45.337Z"
   },
   {
    "duration": 79,
    "start_time": "2024-08-07T20:51:45.349Z"
   },
   {
    "duration": 35,
    "start_time": "2024-08-07T20:51:45.431Z"
   },
   {
    "duration": 28,
    "start_time": "2024-08-07T20:51:45.492Z"
   },
   {
    "duration": 30,
    "start_time": "2024-08-07T20:51:45.523Z"
   },
   {
    "duration": 65,
    "start_time": "2024-08-07T20:51:45.556Z"
   },
   {
    "duration": 26,
    "start_time": "2024-08-07T20:51:45.624Z"
   },
   {
    "duration": 37,
    "start_time": "2024-08-07T20:51:45.653Z"
   },
   {
    "duration": 0,
    "start_time": "2024-08-07T20:51:45.693Z"
   },
   {
    "duration": 0,
    "start_time": "2024-08-07T20:51:45.695Z"
   },
   {
    "duration": 0,
    "start_time": "2024-08-07T20:51:45.698Z"
   },
   {
    "duration": 0,
    "start_time": "2024-08-07T20:51:45.699Z"
   },
   {
    "duration": 0,
    "start_time": "2024-08-07T20:51:45.701Z"
   },
   {
    "duration": 0,
    "start_time": "2024-08-07T20:51:45.703Z"
   },
   {
    "duration": 0,
    "start_time": "2024-08-07T20:51:45.705Z"
   },
   {
    "duration": 0,
    "start_time": "2024-08-07T20:51:45.707Z"
   },
   {
    "duration": 684,
    "start_time": "2024-08-07T20:51:58.663Z"
   },
   {
    "duration": 331,
    "start_time": "2024-08-07T20:51:59.351Z"
   },
   {
    "duration": 16,
    "start_time": "2024-08-07T20:51:59.684Z"
   },
   {
    "duration": 17,
    "start_time": "2024-08-07T20:51:59.703Z"
   },
   {
    "duration": 4,
    "start_time": "2024-08-07T20:51:59.725Z"
   },
   {
    "duration": 4,
    "start_time": "2024-08-07T20:51:59.732Z"
   },
   {
    "duration": 60,
    "start_time": "2024-08-07T20:51:59.740Z"
   },
   {
    "duration": 17,
    "start_time": "2024-08-07T20:51:59.804Z"
   },
   {
    "duration": 5,
    "start_time": "2024-08-07T20:51:59.825Z"
   },
   {
    "duration": 59,
    "start_time": "2024-08-07T20:51:59.833Z"
   },
   {
    "duration": 17,
    "start_time": "2024-08-07T20:51:59.894Z"
   },
   {
    "duration": 30,
    "start_time": "2024-08-07T20:51:59.914Z"
   },
   {
    "duration": 159,
    "start_time": "2024-08-07T20:51:59.947Z"
   },
   {
    "duration": 19,
    "start_time": "2024-08-07T20:52:00.113Z"
   },
   {
    "duration": 14,
    "start_time": "2024-08-07T20:52:00.135Z"
   },
   {
    "duration": 46,
    "start_time": "2024-08-07T20:52:00.152Z"
   },
   {
    "duration": 10,
    "start_time": "2024-08-07T20:52:00.200Z"
   },
   {
    "duration": 22,
    "start_time": "2024-08-07T20:52:00.213Z"
   },
   {
    "duration": 16,
    "start_time": "2024-08-07T20:52:00.238Z"
   },
   {
    "duration": 24,
    "start_time": "2024-08-07T20:52:00.292Z"
   },
   {
    "duration": 13,
    "start_time": "2024-08-07T20:52:00.319Z"
   },
   {
    "duration": 7,
    "start_time": "2024-08-07T20:52:00.336Z"
   },
   {
    "duration": 86,
    "start_time": "2024-08-07T20:52:00.347Z"
   },
   {
    "duration": 55,
    "start_time": "2024-08-07T20:52:00.437Z"
   },
   {
    "duration": 28,
    "start_time": "2024-08-07T20:52:00.495Z"
   },
   {
    "duration": 31,
    "start_time": "2024-08-07T20:52:00.526Z"
   },
   {
    "duration": 63,
    "start_time": "2024-08-07T20:52:00.560Z"
   },
   {
    "duration": 25,
    "start_time": "2024-08-07T20:52:00.626Z"
   },
   {
    "duration": 36,
    "start_time": "2024-08-07T20:52:00.655Z"
   },
   {
    "duration": 0,
    "start_time": "2024-08-07T20:52:00.694Z"
   },
   {
    "duration": 0,
    "start_time": "2024-08-07T20:52:00.697Z"
   },
   {
    "duration": 0,
    "start_time": "2024-08-07T20:52:00.699Z"
   },
   {
    "duration": 0,
    "start_time": "2024-08-07T20:52:00.701Z"
   },
   {
    "duration": 0,
    "start_time": "2024-08-07T20:52:00.703Z"
   },
   {
    "duration": 0,
    "start_time": "2024-08-07T20:52:00.706Z"
   },
   {
    "duration": 0,
    "start_time": "2024-08-07T20:52:00.709Z"
   },
   {
    "duration": 0,
    "start_time": "2024-08-07T20:52:00.711Z"
   },
   {
    "duration": 677,
    "start_time": "2024-08-07T20:52:25.934Z"
   },
   {
    "duration": 346,
    "start_time": "2024-08-07T20:52:26.615Z"
   },
   {
    "duration": 15,
    "start_time": "2024-08-07T20:52:26.964Z"
   },
   {
    "duration": 17,
    "start_time": "2024-08-07T20:52:26.991Z"
   },
   {
    "duration": 4,
    "start_time": "2024-08-07T20:52:27.010Z"
   },
   {
    "duration": 3,
    "start_time": "2024-08-07T20:52:27.018Z"
   },
   {
    "duration": 17,
    "start_time": "2024-08-07T20:52:27.025Z"
   },
   {
    "duration": 61,
    "start_time": "2024-08-07T20:52:27.045Z"
   },
   {
    "duration": 6,
    "start_time": "2024-08-07T20:52:27.108Z"
   },
   {
    "duration": 25,
    "start_time": "2024-08-07T20:52:27.121Z"
   },
   {
    "duration": 53,
    "start_time": "2024-08-07T20:52:27.148Z"
   },
   {
    "duration": 31,
    "start_time": "2024-08-07T20:52:27.204Z"
   },
   {
    "duration": 155,
    "start_time": "2024-08-07T20:52:27.237Z"
   },
   {
    "duration": 20,
    "start_time": "2024-08-07T20:52:27.396Z"
   },
   {
    "duration": 15,
    "start_time": "2024-08-07T20:52:27.418Z"
   },
   {
    "duration": 55,
    "start_time": "2024-08-07T20:52:27.436Z"
   },
   {
    "duration": 11,
    "start_time": "2024-08-07T20:52:27.494Z"
   },
   {
    "duration": 24,
    "start_time": "2024-08-07T20:52:27.508Z"
   },
   {
    "duration": 18,
    "start_time": "2024-08-07T20:52:27.535Z"
   },
   {
    "duration": 27,
    "start_time": "2024-08-07T20:52:27.593Z"
   },
   {
    "duration": 12,
    "start_time": "2024-08-07T20:52:27.623Z"
   },
   {
    "duration": 8,
    "start_time": "2024-08-07T20:52:27.638Z"
   },
   {
    "duration": 82,
    "start_time": "2024-08-07T20:52:27.649Z"
   },
   {
    "duration": 58,
    "start_time": "2024-08-07T20:52:27.734Z"
   },
   {
    "duration": 31,
    "start_time": "2024-08-07T20:52:27.795Z"
   },
   {
    "duration": 30,
    "start_time": "2024-08-07T20:52:27.830Z"
   },
   {
    "duration": 61,
    "start_time": "2024-08-07T20:52:27.863Z"
   },
   {
    "duration": 26,
    "start_time": "2024-08-07T20:52:27.931Z"
   },
   {
    "duration": 38,
    "start_time": "2024-08-07T20:52:27.960Z"
   },
   {
    "duration": 0,
    "start_time": "2024-08-07T20:52:28.000Z"
   },
   {
    "duration": 0,
    "start_time": "2024-08-07T20:52:28.003Z"
   },
   {
    "duration": 0,
    "start_time": "2024-08-07T20:52:28.005Z"
   },
   {
    "duration": 0,
    "start_time": "2024-08-07T20:52:28.007Z"
   },
   {
    "duration": 0,
    "start_time": "2024-08-07T20:52:28.009Z"
   },
   {
    "duration": 0,
    "start_time": "2024-08-07T20:52:28.011Z"
   },
   {
    "duration": 0,
    "start_time": "2024-08-07T20:52:28.014Z"
   },
   {
    "duration": 0,
    "start_time": "2024-08-07T20:52:28.016Z"
   },
   {
    "duration": 682,
    "start_time": "2024-08-07T20:52:52.938Z"
   },
   {
    "duration": 325,
    "start_time": "2024-08-07T20:52:53.624Z"
   },
   {
    "duration": 17,
    "start_time": "2024-08-07T20:52:53.952Z"
   },
   {
    "duration": 30,
    "start_time": "2024-08-07T20:52:53.975Z"
   },
   {
    "duration": 4,
    "start_time": "2024-08-07T20:52:54.008Z"
   },
   {
    "duration": 4,
    "start_time": "2024-08-07T20:52:54.015Z"
   },
   {
    "duration": 14,
    "start_time": "2024-08-07T20:52:54.022Z"
   },
   {
    "duration": 59,
    "start_time": "2024-08-07T20:52:54.039Z"
   },
   {
    "duration": 7,
    "start_time": "2024-08-07T20:52:54.102Z"
   },
   {
    "duration": 29,
    "start_time": "2024-08-07T20:52:54.116Z"
   },
   {
    "duration": 56,
    "start_time": "2024-08-07T20:52:54.148Z"
   },
   {
    "duration": 30,
    "start_time": "2024-08-07T20:52:54.207Z"
   },
   {
    "duration": 147,
    "start_time": "2024-08-07T20:52:54.241Z"
   },
   {
    "duration": 19,
    "start_time": "2024-08-07T20:52:54.392Z"
   },
   {
    "duration": 15,
    "start_time": "2024-08-07T20:52:54.414Z"
   },
   {
    "duration": 18,
    "start_time": "2024-08-07T20:52:54.431Z"
   },
   {
    "duration": 47,
    "start_time": "2024-08-07T20:52:54.452Z"
   },
   {
    "duration": 23,
    "start_time": "2024-08-07T20:52:54.502Z"
   },
   {
    "duration": 16,
    "start_time": "2024-08-07T20:52:54.528Z"
   },
   {
    "duration": 59,
    "start_time": "2024-08-07T20:52:54.548Z"
   },
   {
    "duration": 13,
    "start_time": "2024-08-07T20:52:54.609Z"
   },
   {
    "duration": 8,
    "start_time": "2024-08-07T20:52:54.625Z"
   },
   {
    "duration": 85,
    "start_time": "2024-08-07T20:52:54.638Z"
   },
   {
    "duration": 37,
    "start_time": "2024-08-07T20:52:54.726Z"
   },
   {
    "duration": 60,
    "start_time": "2024-08-07T20:52:54.766Z"
   },
   {
    "duration": 29,
    "start_time": "2024-08-07T20:52:54.829Z"
   },
   {
    "duration": 58,
    "start_time": "2024-08-07T20:52:54.861Z"
   },
   {
    "duration": 26,
    "start_time": "2024-08-07T20:52:54.927Z"
   },
   {
    "duration": 35,
    "start_time": "2024-08-07T20:52:54.955Z"
   },
   {
    "duration": 4,
    "start_time": "2024-08-07T20:52:54.993Z"
   },
   {
    "duration": 3,
    "start_time": "2024-08-07T20:52:55.000Z"
   },
   {
    "duration": 5,
    "start_time": "2024-08-07T20:52:55.006Z"
   },
   {
    "duration": 4,
    "start_time": "2024-08-07T20:52:55.014Z"
   },
   {
    "duration": 8,
    "start_time": "2024-08-07T20:52:55.021Z"
   },
   {
    "duration": 4,
    "start_time": "2024-08-07T20:52:55.033Z"
   },
   {
    "duration": 54,
    "start_time": "2024-08-07T20:52:55.040Z"
   },
   {
    "duration": 4,
    "start_time": "2024-08-07T20:52:55.097Z"
   },
   {
    "duration": 98,
    "start_time": "2024-08-07T20:55:05.454Z"
   },
   {
    "duration": 11,
    "start_time": "2024-08-07T21:44:21.621Z"
   },
   {
    "duration": 29,
    "start_time": "2024-08-07T21:44:24.932Z"
   },
   {
    "duration": 8,
    "start_time": "2024-08-07T21:58:56.024Z"
   },
   {
    "duration": 818,
    "start_time": "2024-08-07T22:00:58.388Z"
   },
   {
    "duration": 634,
    "start_time": "2024-08-07T22:01:10.922Z"
   },
   {
    "duration": 12,
    "start_time": "2024-08-07T22:04:32.923Z"
   },
   {
    "duration": 28,
    "start_time": "2024-08-07T22:04:42.460Z"
   },
   {
    "duration": 28,
    "start_time": "2024-08-07T22:11:59.406Z"
   },
   {
    "duration": 132,
    "start_time": "2024-08-07T22:13:45.376Z"
   },
   {
    "duration": 351,
    "start_time": "2024-08-07T22:14:08.643Z"
   },
   {
    "duration": 390,
    "start_time": "2024-08-07T22:16:10.293Z"
   },
   {
    "duration": 419,
    "start_time": "2024-08-07T22:16:24.571Z"
   },
   {
    "duration": 29,
    "start_time": "2024-08-07T22:19:56.792Z"
   },
   {
    "duration": 26,
    "start_time": "2024-08-07T22:24:29.101Z"
   },
   {
    "duration": 34,
    "start_time": "2024-08-07T22:31:51.174Z"
   },
   {
    "duration": 42,
    "start_time": "2024-08-07T22:32:02.489Z"
   },
   {
    "duration": 23,
    "start_time": "2024-08-07T22:33:26.531Z"
   },
   {
    "duration": 17,
    "start_time": "2024-08-07T22:33:59.039Z"
   },
   {
    "duration": 22,
    "start_time": "2024-08-07T22:34:33.402Z"
   },
   {
    "duration": 17,
    "start_time": "2024-08-07T22:36:13.001Z"
   },
   {
    "duration": 28,
    "start_time": "2024-08-07T22:42:30.286Z"
   },
   {
    "duration": 25,
    "start_time": "2024-08-07T22:47:03.056Z"
   },
   {
    "duration": 22,
    "start_time": "2024-08-07T22:50:19.116Z"
   },
   {
    "duration": 32,
    "start_time": "2024-08-07T22:52:32.205Z"
   },
   {
    "duration": 21,
    "start_time": "2024-08-07T22:53:39.075Z"
   },
   {
    "duration": 23,
    "start_time": "2024-08-07T22:57:39.027Z"
   },
   {
    "duration": 20,
    "start_time": "2024-08-07T22:57:57.551Z"
   },
   {
    "duration": 20,
    "start_time": "2024-08-07T22:58:12.399Z"
   },
   {
    "duration": 21,
    "start_time": "2024-08-07T22:58:47.505Z"
   },
   {
    "duration": 19,
    "start_time": "2024-08-07T22:58:57.583Z"
   },
   {
    "duration": 21,
    "start_time": "2024-08-07T22:59:17.194Z"
   },
   {
    "duration": 20,
    "start_time": "2024-08-07T22:59:29.970Z"
   },
   {
    "duration": 24,
    "start_time": "2024-08-07T23:01:41.389Z"
   },
   {
    "duration": 14,
    "start_time": "2024-08-07T23:03:22.305Z"
   },
   {
    "duration": 25,
    "start_time": "2024-08-07T23:03:29.702Z"
   },
   {
    "duration": 22,
    "start_time": "2024-08-07T23:03:52.346Z"
   },
   {
    "duration": 23,
    "start_time": "2024-08-07T23:04:24.541Z"
   },
   {
    "duration": 24,
    "start_time": "2024-08-07T23:04:34.035Z"
   },
   {
    "duration": 24,
    "start_time": "2024-08-07T23:04:42.015Z"
   },
   {
    "duration": 22,
    "start_time": "2024-08-07T23:05:00.682Z"
   },
   {
    "duration": 22,
    "start_time": "2024-08-07T23:05:06.352Z"
   },
   {
    "duration": 19,
    "start_time": "2024-08-07T23:05:27.345Z"
   },
   {
    "duration": 22,
    "start_time": "2024-08-07T23:05:52.781Z"
   },
   {
    "duration": 23,
    "start_time": "2024-08-07T23:06:00.157Z"
   },
   {
    "duration": 20,
    "start_time": "2024-08-07T23:06:07.501Z"
   },
   {
    "duration": 19,
    "start_time": "2024-08-07T23:06:15.061Z"
   },
   {
    "duration": 22,
    "start_time": "2024-08-07T23:06:23.835Z"
   },
   {
    "duration": 20,
    "start_time": "2024-08-07T23:06:38.465Z"
   },
   {
    "duration": 23,
    "start_time": "2024-08-07T23:06:53.582Z"
   },
   {
    "duration": 24,
    "start_time": "2024-08-07T23:07:06.411Z"
   },
   {
    "duration": 22,
    "start_time": "2024-08-07T23:07:14.731Z"
   },
   {
    "duration": 19,
    "start_time": "2024-08-07T23:09:08.591Z"
   },
   {
    "duration": 16,
    "start_time": "2024-08-07T23:09:36.700Z"
   },
   {
    "duration": 20,
    "start_time": "2024-08-07T23:09:47.310Z"
   },
   {
    "duration": 8,
    "start_time": "2024-08-07T23:10:21.388Z"
   },
   {
    "duration": 14,
    "start_time": "2024-08-07T23:10:27.153Z"
   },
   {
    "duration": 22,
    "start_time": "2024-08-07T23:10:36.718Z"
   },
   {
    "duration": 24,
    "start_time": "2024-08-07T23:11:12.514Z"
   },
   {
    "duration": 22,
    "start_time": "2024-08-07T23:11:20.273Z"
   },
   {
    "duration": 21,
    "start_time": "2024-08-07T23:11:31.306Z"
   },
   {
    "duration": 22,
    "start_time": "2024-08-07T23:12:21.545Z"
   },
   {
    "duration": 23,
    "start_time": "2024-08-07T23:12:33.395Z"
   },
   {
    "duration": 28,
    "start_time": "2024-08-07T23:12:43.277Z"
   },
   {
    "duration": 22,
    "start_time": "2024-08-07T23:12:50.431Z"
   },
   {
    "duration": 20,
    "start_time": "2024-08-07T23:14:23.312Z"
   },
   {
    "duration": 24,
    "start_time": "2024-08-07T23:16:06.141Z"
   },
   {
    "duration": 18,
    "start_time": "2024-08-07T23:30:10.733Z"
   },
   {
    "duration": 27,
    "start_time": "2024-08-07T23:30:18.090Z"
   },
   {
    "duration": 321,
    "start_time": "2024-08-07T23:34:20.775Z"
   },
   {
    "duration": 316,
    "start_time": "2024-08-07T23:35:23.206Z"
   },
   {
    "duration": 256,
    "start_time": "2024-08-07T23:40:58.129Z"
   },
   {
    "duration": 284,
    "start_time": "2024-08-07T23:46:01.864Z"
   },
   {
    "duration": 293,
    "start_time": "2024-08-07T23:46:16.328Z"
   },
   {
    "duration": 328,
    "start_time": "2024-08-07T23:46:28.071Z"
   },
   {
    "duration": 381,
    "start_time": "2024-08-07T23:46:49.936Z"
   },
   {
    "duration": 281,
    "start_time": "2024-08-07T23:51:16.756Z"
   },
   {
    "duration": 290,
    "start_time": "2024-08-07T23:51:24.511Z"
   },
   {
    "duration": 281,
    "start_time": "2024-08-07T23:51:36.615Z"
   },
   {
    "duration": 294,
    "start_time": "2024-08-07T23:51:54.652Z"
   },
   {
    "duration": 292,
    "start_time": "2024-08-07T23:52:02.127Z"
   },
   {
    "duration": 29,
    "start_time": "2024-08-07T23:56:09.582Z"
   },
   {
    "duration": 293,
    "start_time": "2024-08-07T23:59:07.697Z"
   },
   {
    "duration": 286,
    "start_time": "2024-08-08T00:00:32.862Z"
   },
   {
    "duration": 315,
    "start_time": "2024-08-08T00:01:00.626Z"
   },
   {
    "duration": 271,
    "start_time": "2024-08-08T00:05:39.902Z"
   },
   {
    "duration": 266,
    "start_time": "2024-08-08T00:09:59.369Z"
   },
   {
    "duration": 377,
    "start_time": "2024-08-08T00:50:13.930Z"
   },
   {
    "duration": 649,
    "start_time": "2024-08-08T02:53:05.546Z"
   },
   {
    "duration": 359,
    "start_time": "2024-08-08T02:53:09.959Z"
   },
   {
    "duration": 18,
    "start_time": "2024-08-08T02:53:14.203Z"
   },
   {
    "duration": 18,
    "start_time": "2024-08-08T02:53:17.206Z"
   },
   {
    "duration": 15,
    "start_time": "2024-08-08T02:53:22.178Z"
   },
   {
    "duration": 16,
    "start_time": "2024-08-08T02:53:33.791Z"
   },
   {
    "duration": 20,
    "start_time": "2024-08-08T02:54:12.802Z"
   },
   {
    "duration": 16,
    "start_time": "2024-08-08T02:54:17.327Z"
   },
   {
    "duration": 15,
    "start_time": "2024-08-08T02:54:19.802Z"
   },
   {
    "duration": 22,
    "start_time": "2024-08-08T02:54:24.800Z"
   },
   {
    "duration": 16,
    "start_time": "2024-08-08T02:54:26.688Z"
   },
   {
    "duration": 16,
    "start_time": "2024-08-08T02:54:58.559Z"
   },
   {
    "duration": 17,
    "start_time": "2024-08-08T02:55:01.617Z"
   },
   {
    "duration": 15,
    "start_time": "2024-08-08T02:55:26.160Z"
   },
   {
    "duration": 16,
    "start_time": "2024-08-08T02:55:31.991Z"
   },
   {
    "duration": 19,
    "start_time": "2024-08-08T02:55:34.971Z"
   },
   {
    "duration": 6,
    "start_time": "2024-08-08T02:56:10.015Z"
   },
   {
    "duration": 5,
    "start_time": "2024-08-08T02:56:14.998Z"
   },
   {
    "duration": 27,
    "start_time": "2024-08-08T02:56:17.939Z"
   },
   {
    "duration": 19,
    "start_time": "2024-08-08T02:56:23.647Z"
   },
   {
    "duration": 1255,
    "start_time": "2024-08-08T03:13:17.606Z"
   },
   {
    "duration": 34,
    "start_time": "2024-08-08T03:13:30.455Z"
   },
   {
    "duration": 13,
    "start_time": "2024-08-08T03:15:20.683Z"
   },
   {
    "duration": 15,
    "start_time": "2024-08-08T03:15:23.382Z"
   },
   {
    "duration": 25,
    "start_time": "2024-08-08T03:15:28.425Z"
   },
   {
    "duration": 112,
    "start_time": "2024-08-08T03:16:02.782Z"
   },
   {
    "duration": 13,
    "start_time": "2024-08-08T03:17:59.393Z"
   },
   {
    "duration": 19,
    "start_time": "2024-08-08T03:18:02.084Z"
   },
   {
    "duration": 24,
    "start_time": "2024-08-08T03:19:42.589Z"
   },
   {
    "duration": 23,
    "start_time": "2024-08-08T03:20:32.905Z"
   },
   {
    "duration": 17,
    "start_time": "2024-08-08T03:20:35.231Z"
   },
   {
    "duration": 920,
    "start_time": "2024-08-08T03:26:45.662Z"
   },
   {
    "duration": 24,
    "start_time": "2024-08-08T03:27:01.720Z"
   },
   {
    "duration": 11,
    "start_time": "2024-08-08T03:27:46.561Z"
   },
   {
    "duration": 22,
    "start_time": "2024-08-08T03:27:50.235Z"
   },
   {
    "duration": 11,
    "start_time": "2024-08-08T03:27:56.849Z"
   },
   {
    "duration": 13,
    "start_time": "2024-08-08T03:30:26.480Z"
   },
   {
    "duration": 20,
    "start_time": "2024-08-08T03:30:28.378Z"
   },
   {
    "duration": 11,
    "start_time": "2024-08-08T03:48:46.416Z"
   },
   {
    "duration": 7,
    "start_time": "2024-08-08T03:48:48.751Z"
   },
   {
    "duration": 41,
    "start_time": "2024-08-08T03:48:54.871Z"
   },
   {
    "duration": 31,
    "start_time": "2024-08-08T03:48:58.571Z"
   },
   {
    "duration": 360,
    "start_time": "2024-08-08T03:49:02.285Z"
   },
   {
    "duration": 22,
    "start_time": "2024-08-08T03:49:33.709Z"
   },
   {
    "duration": 135,
    "start_time": "2024-08-08T03:49:42.786Z"
   },
   {
    "duration": 19,
    "start_time": "2024-08-08T03:49:46.530Z"
   },
   {
    "duration": 10,
    "start_time": "2024-08-08T03:49:48.681Z"
   },
   {
    "duration": 21,
    "start_time": "2024-08-08T03:49:51.624Z"
   },
   {
    "duration": 18,
    "start_time": "2024-08-08T03:49:53.793Z"
   },
   {
    "duration": 12,
    "start_time": "2024-08-08T03:49:56.638Z"
   },
   {
    "duration": 19,
    "start_time": "2024-08-08T03:49:58.580Z"
   },
   {
    "duration": 11,
    "start_time": "2024-08-08T03:50:00.722Z"
   },
   {
    "duration": 7,
    "start_time": "2024-08-08T03:50:02.782Z"
   },
   {
    "duration": 38,
    "start_time": "2024-08-08T03:50:05.580Z"
   },
   {
    "duration": 34,
    "start_time": "2024-08-08T03:50:08.792Z"
   },
   {
    "duration": 30,
    "start_time": "2024-08-08T03:50:13.253Z"
   },
   {
    "duration": 21,
    "start_time": "2024-08-08T03:57:31.549Z"
   },
   {
    "duration": 30,
    "start_time": "2024-08-08T03:57:41.233Z"
   },
   {
    "duration": 30,
    "start_time": "2024-08-08T04:05:57.063Z"
   },
   {
    "duration": 36,
    "start_time": "2024-08-08T04:07:33.253Z"
   },
   {
    "duration": 29,
    "start_time": "2024-08-08T04:07:50.518Z"
   },
   {
    "duration": 18,
    "start_time": "2024-08-08T04:45:02.985Z"
   },
   {
    "duration": 34,
    "start_time": "2024-08-08T04:48:48.953Z"
   },
   {
    "duration": 23,
    "start_time": "2024-08-08T04:53:18.308Z"
   },
   {
    "duration": 11,
    "start_time": "2024-08-08T04:53:26.059Z"
   },
   {
    "duration": 46,
    "start_time": "2024-08-08T04:59:20.404Z"
   },
   {
    "duration": 41,
    "start_time": "2024-08-08T05:00:14.802Z"
   },
   {
    "duration": 44,
    "start_time": "2024-08-08T05:00:38.597Z"
   },
   {
    "duration": 722,
    "start_time": "2024-08-08T05:17:38.182Z"
   },
   {
    "duration": 335,
    "start_time": "2024-08-08T05:17:38.908Z"
   },
   {
    "duration": 16,
    "start_time": "2024-08-08T05:17:39.246Z"
   },
   {
    "duration": 33,
    "start_time": "2024-08-08T05:17:39.267Z"
   },
   {
    "duration": 4,
    "start_time": "2024-08-08T05:17:39.303Z"
   },
   {
    "duration": 3,
    "start_time": "2024-08-08T05:17:39.310Z"
   },
   {
    "duration": 14,
    "start_time": "2024-08-08T05:17:39.317Z"
   },
   {
    "duration": 58,
    "start_time": "2024-08-08T05:17:39.335Z"
   },
   {
    "duration": 7,
    "start_time": "2024-08-08T05:17:39.396Z"
   },
   {
    "duration": 26,
    "start_time": "2024-08-08T05:17:39.410Z"
   },
   {
    "duration": 54,
    "start_time": "2024-08-08T05:17:39.439Z"
   },
   {
    "duration": 16,
    "start_time": "2024-08-08T05:17:39.496Z"
   },
   {
    "duration": 27,
    "start_time": "2024-08-08T05:17:39.515Z"
   },
   {
    "duration": 144,
    "start_time": "2024-08-08T05:17:39.544Z"
   },
   {
    "duration": 20,
    "start_time": "2024-08-08T05:17:39.691Z"
   },
   {
    "duration": 14,
    "start_time": "2024-08-08T05:17:39.714Z"
   },
   {
    "duration": 21,
    "start_time": "2024-08-08T05:17:39.731Z"
   },
   {
    "duration": 10,
    "start_time": "2024-08-08T05:17:39.792Z"
   },
   {
    "duration": 22,
    "start_time": "2024-08-08T05:17:39.805Z"
   },
   {
    "duration": 17,
    "start_time": "2024-08-08T05:17:39.830Z"
   },
   {
    "duration": 44,
    "start_time": "2024-08-08T05:17:39.850Z"
   },
   {
    "duration": 23,
    "start_time": "2024-08-08T05:17:39.897Z"
   },
   {
    "duration": 11,
    "start_time": "2024-08-08T05:17:39.922Z"
   },
   {
    "duration": 8,
    "start_time": "2024-08-08T05:17:39.936Z"
   },
   {
    "duration": 40,
    "start_time": "2024-08-08T05:17:39.991Z"
   },
   {
    "duration": 31,
    "start_time": "2024-08-08T05:17:40.034Z"
   },
   {
    "duration": 28,
    "start_time": "2024-08-08T05:17:40.091Z"
   },
   {
    "duration": 33,
    "start_time": "2024-08-08T05:17:40.127Z"
   },
   {
    "duration": 34,
    "start_time": "2024-08-08T05:17:40.190Z"
   },
   {
    "duration": 16,
    "start_time": "2024-08-08T05:17:40.227Z"
   },
   {
    "duration": 1559,
    "start_time": "2024-08-08T05:17:40.246Z"
   },
   {
    "duration": 0,
    "start_time": "2024-08-08T05:17:41.808Z"
   },
   {
    "duration": 0,
    "start_time": "2024-08-08T05:17:41.810Z"
   },
   {
    "duration": 0,
    "start_time": "2024-08-08T05:17:41.813Z"
   },
   {
    "duration": 0,
    "start_time": "2024-08-08T05:17:41.815Z"
   },
   {
    "duration": 0,
    "start_time": "2024-08-08T05:17:41.818Z"
   },
   {
    "duration": 0,
    "start_time": "2024-08-08T05:17:41.820Z"
   },
   {
    "duration": 0,
    "start_time": "2024-08-08T05:17:41.822Z"
   },
   {
    "duration": 0,
    "start_time": "2024-08-08T05:17:41.825Z"
   },
   {
    "duration": 29,
    "start_time": "2024-08-08T05:19:47.466Z"
   },
   {
    "duration": 152,
    "start_time": "2024-08-08T05:24:39.747Z"
   },
   {
    "duration": 164,
    "start_time": "2024-08-08T05:25:01.357Z"
   },
   {
    "duration": 21,
    "start_time": "2024-08-08T05:33:58.696Z"
   },
   {
    "duration": 12,
    "start_time": "2024-08-08T05:34:37.321Z"
   },
   {
    "duration": 24286,
    "start_time": "2024-08-08T05:36:44.370Z"
   },
   {
    "duration": 26,
    "start_time": "2024-08-08T05:37:35.187Z"
   },
   {
    "duration": 26,
    "start_time": "2024-08-08T05:39:55.936Z"
   },
   {
    "duration": 30,
    "start_time": "2024-08-08T05:43:17.174Z"
   },
   {
    "duration": 279,
    "start_time": "2024-08-08T05:44:14.835Z"
   },
   {
    "duration": 567,
    "start_time": "2024-08-08T05:45:10.588Z"
   },
   {
    "duration": 34,
    "start_time": "2024-08-08T05:46:04.604Z"
   },
   {
    "duration": 187,
    "start_time": "2024-08-08T05:50:16.434Z"
   },
   {
    "duration": 160,
    "start_time": "2024-08-08T05:51:21.520Z"
   },
   {
    "duration": 29,
    "start_time": "2024-08-08T05:54:50.953Z"
   },
   {
    "duration": 49,
    "start_time": "2024-08-08T06:04:29.022Z"
   },
   {
    "duration": 46,
    "start_time": "2024-08-08T06:05:08.214Z"
   },
   {
    "duration": 321,
    "start_time": "2024-08-08T06:10:36.981Z"
   },
   {
    "duration": 322,
    "start_time": "2024-08-08T06:11:16.616Z"
   },
   {
    "duration": 314,
    "start_time": "2024-08-08T06:13:08.179Z"
   },
   {
    "duration": 290,
    "start_time": "2024-08-08T06:19:58.283Z"
   },
   {
    "duration": 330,
    "start_time": "2024-08-08T06:20:33.389Z"
   },
   {
    "duration": 5,
    "start_time": "2024-08-08T06:25:19.786Z"
   },
   {
    "duration": 5,
    "start_time": "2024-08-08T06:25:42.835Z"
   },
   {
    "duration": 5,
    "start_time": "2024-08-08T06:25:53.893Z"
   },
   {
    "duration": 6,
    "start_time": "2024-08-08T06:28:34.500Z"
   },
   {
    "duration": 7,
    "start_time": "2024-08-08T06:30:25.666Z"
   },
   {
    "duration": 262,
    "start_time": "2024-08-08T06:37:18.065Z"
   },
   {
    "duration": 173,
    "start_time": "2024-08-08T06:37:56.706Z"
   },
   {
    "duration": 184,
    "start_time": "2024-08-08T06:38:33.945Z"
   },
   {
    "duration": 193,
    "start_time": "2024-08-08T06:44:05.789Z"
   },
   {
    "duration": 26,
    "start_time": "2024-08-08T06:45:22.560Z"
   },
   {
    "duration": 23,
    "start_time": "2024-08-08T06:45:34.103Z"
   },
   {
    "duration": 26,
    "start_time": "2024-08-08T06:47:32.989Z"
   },
   {
    "duration": 29,
    "start_time": "2024-08-08T06:48:05.888Z"
   },
   {
    "duration": 22,
    "start_time": "2024-08-08T06:49:34.503Z"
   },
   {
    "duration": 16,
    "start_time": "2024-08-08T06:50:41.049Z"
   },
   {
    "duration": 21,
    "start_time": "2024-08-08T06:51:26.943Z"
   },
   {
    "duration": 17,
    "start_time": "2024-08-08T06:51:32.968Z"
   },
   {
    "duration": 4283,
    "start_time": "2024-08-08T16:32:02.246Z"
   },
   {
    "duration": 389,
    "start_time": "2024-08-08T16:32:06.533Z"
   },
   {
    "duration": 19,
    "start_time": "2024-08-08T16:32:06.925Z"
   },
   {
    "duration": 16,
    "start_time": "2024-08-08T16:32:06.947Z"
   },
   {
    "duration": 3,
    "start_time": "2024-08-08T16:32:06.967Z"
   },
   {
    "duration": 4,
    "start_time": "2024-08-08T16:32:06.973Z"
   },
   {
    "duration": 16,
    "start_time": "2024-08-08T16:32:06.979Z"
   },
   {
    "duration": 16,
    "start_time": "2024-08-08T16:32:07.035Z"
   },
   {
    "duration": 6,
    "start_time": "2024-08-08T16:32:07.055Z"
   },
   {
    "duration": 28,
    "start_time": "2024-08-08T16:32:07.064Z"
   },
   {
    "duration": 55,
    "start_time": "2024-08-08T16:32:07.095Z"
   },
   {
    "duration": 15,
    "start_time": "2024-08-08T16:32:07.153Z"
   },
   {
    "duration": 24,
    "start_time": "2024-08-08T16:32:07.170Z"
   },
   {
    "duration": 112,
    "start_time": "2024-08-08T16:32:07.233Z"
   },
   {
    "duration": 19,
    "start_time": "2024-08-08T16:32:07.349Z"
   },
   {
    "duration": 13,
    "start_time": "2024-08-08T16:32:07.371Z"
   },
   {
    "duration": 49,
    "start_time": "2024-08-08T16:32:07.388Z"
   },
   {
    "duration": 9,
    "start_time": "2024-08-08T16:32:07.440Z"
   },
   {
    "duration": 22,
    "start_time": "2024-08-08T16:32:07.452Z"
   },
   {
    "duration": 15,
    "start_time": "2024-08-08T16:32:07.477Z"
   },
   {
    "duration": 44,
    "start_time": "2024-08-08T16:32:07.495Z"
   },
   {
    "duration": 21,
    "start_time": "2024-08-08T16:32:07.542Z"
   },
   {
    "duration": 11,
    "start_time": "2024-08-08T16:32:07.565Z"
   },
   {
    "duration": 7,
    "start_time": "2024-08-08T16:32:07.579Z"
   },
   {
    "duration": 81,
    "start_time": "2024-08-08T16:32:07.589Z"
   },
   {
    "duration": 29,
    "start_time": "2024-08-08T16:32:07.673Z"
   },
   {
    "duration": 49,
    "start_time": "2024-08-08T16:32:07.705Z"
   },
   {
    "duration": 32,
    "start_time": "2024-08-08T16:32:07.757Z"
   },
   {
    "duration": 64,
    "start_time": "2024-08-08T16:32:07.792Z"
   },
   {
    "duration": 15,
    "start_time": "2024-08-08T16:32:07.859Z"
   },
   {
    "duration": 186,
    "start_time": "2024-08-08T16:32:07.876Z"
   },
   {
    "duration": 346,
    "start_time": "2024-08-08T16:32:08.065Z"
   },
   {
    "duration": 343,
    "start_time": "2024-08-08T16:32:08.414Z"
   },
   {
    "duration": 8,
    "start_time": "2024-08-08T16:32:08.760Z"
   },
   {
    "duration": 259,
    "start_time": "2024-08-08T16:32:08.771Z"
   },
   {
    "duration": 14,
    "start_time": "2024-08-08T16:32:09.032Z"
   },
   {
    "duration": 4,
    "start_time": "2024-08-08T16:32:09.049Z"
   },
   {
    "duration": 16,
    "start_time": "2024-08-08T16:32:09.056Z"
   },
   {
    "duration": 3,
    "start_time": "2024-08-08T16:32:09.075Z"
   },
   {
    "duration": 3,
    "start_time": "2024-08-08T16:32:09.082Z"
   },
   {
    "duration": 346,
    "start_time": "2024-08-08T16:33:25.773Z"
   },
   {
    "duration": 334,
    "start_time": "2024-08-08T16:33:40.052Z"
   },
   {
    "duration": 328,
    "start_time": "2024-08-08T16:33:50.790Z"
   },
   {
    "duration": 32,
    "start_time": "2024-08-08T16:36:42.078Z"
   },
   {
    "duration": 39,
    "start_time": "2024-08-08T16:37:13.240Z"
   },
   {
    "duration": 42,
    "start_time": "2024-08-08T16:37:41.597Z"
   },
   {
    "duration": 31,
    "start_time": "2024-08-08T16:38:02.598Z"
   },
   {
    "duration": 331,
    "start_time": "2024-08-08T16:39:16.215Z"
   },
   {
    "duration": 31,
    "start_time": "2024-08-08T16:40:47.231Z"
   },
   {
    "duration": 319,
    "start_time": "2024-08-08T16:41:28.045Z"
   },
   {
    "duration": 386,
    "start_time": "2024-08-08T16:55:05.757Z"
   },
   {
    "duration": 108,
    "start_time": "2024-08-08T17:00:50.659Z"
   },
   {
    "duration": 708,
    "start_time": "2024-08-08T17:02:02.103Z"
   },
   {
    "duration": 330,
    "start_time": "2024-08-08T17:02:02.814Z"
   },
   {
    "duration": 16,
    "start_time": "2024-08-08T17:02:03.147Z"
   },
   {
    "duration": 19,
    "start_time": "2024-08-08T17:02:03.166Z"
   },
   {
    "duration": 5,
    "start_time": "2024-08-08T17:02:03.190Z"
   },
   {
    "duration": 36,
    "start_time": "2024-08-08T17:02:03.198Z"
   },
   {
    "duration": 17,
    "start_time": "2024-08-08T17:02:03.237Z"
   },
   {
    "duration": 17,
    "start_time": "2024-08-08T17:02:03.258Z"
   },
   {
    "duration": 7,
    "start_time": "2024-08-08T17:02:03.278Z"
   },
   {
    "duration": 63,
    "start_time": "2024-08-08T17:02:03.288Z"
   },
   {
    "duration": 20,
    "start_time": "2024-08-08T17:02:03.354Z"
   },
   {
    "duration": 15,
    "start_time": "2024-08-08T17:02:03.377Z"
   },
   {
    "duration": 68,
    "start_time": "2024-08-08T17:02:03.395Z"
   },
   {
    "duration": 108,
    "start_time": "2024-08-08T17:02:03.471Z"
   },
   {
    "duration": 26,
    "start_time": "2024-08-08T17:02:03.582Z"
   },
   {
    "duration": 30,
    "start_time": "2024-08-08T17:02:03.612Z"
   },
   {
    "duration": 23,
    "start_time": "2024-08-08T17:02:03.646Z"
   },
   {
    "duration": 11,
    "start_time": "2024-08-08T17:02:03.672Z"
   },
   {
    "duration": 58,
    "start_time": "2024-08-08T17:02:03.686Z"
   },
   {
    "duration": 17,
    "start_time": "2024-08-08T17:02:03.747Z"
   },
   {
    "duration": 14,
    "start_time": "2024-08-08T17:02:03.769Z"
   },
   {
    "duration": 62,
    "start_time": "2024-08-08T17:02:03.786Z"
   },
   {
    "duration": 12,
    "start_time": "2024-08-08T17:02:03.851Z"
   },
   {
    "duration": 9,
    "start_time": "2024-08-08T17:02:03.865Z"
   },
   {
    "duration": 68,
    "start_time": "2024-08-08T17:02:03.878Z"
   },
   {
    "duration": 31,
    "start_time": "2024-08-08T17:02:03.950Z"
   },
   {
    "duration": 52,
    "start_time": "2024-08-08T17:02:03.985Z"
   },
   {
    "duration": 37,
    "start_time": "2024-08-08T17:02:04.043Z"
   },
   {
    "duration": 67,
    "start_time": "2024-08-08T17:02:04.082Z"
   },
   {
    "duration": 18,
    "start_time": "2024-08-08T17:02:04.153Z"
   },
   {
    "duration": 181,
    "start_time": "2024-08-08T17:02:04.175Z"
   },
   {
    "duration": 366,
    "start_time": "2024-08-08T17:02:04.359Z"
   },
   {
    "duration": 351,
    "start_time": "2024-08-08T17:02:04.728Z"
   },
   {
    "duration": 8,
    "start_time": "2024-08-08T17:02:05.083Z"
   },
   {
    "duration": 214,
    "start_time": "2024-08-08T17:02:05.094Z"
   },
   {
    "duration": 4,
    "start_time": "2024-08-08T17:02:05.311Z"
   },
   {
    "duration": 21,
    "start_time": "2024-08-08T17:02:05.317Z"
   },
   {
    "duration": 15,
    "start_time": "2024-08-08T17:02:05.341Z"
   },
   {
    "duration": 3,
    "start_time": "2024-08-08T17:02:05.361Z"
   },
   {
    "duration": 4,
    "start_time": "2024-08-08T17:02:05.367Z"
   },
   {
    "duration": 1248,
    "start_time": "2024-08-08T17:09:56.256Z"
   },
   {
    "duration": 80,
    "start_time": "2024-08-08T17:11:30.057Z"
   },
   {
    "duration": 674,
    "start_time": "2024-08-08T17:11:47.571Z"
   },
   {
    "duration": 327,
    "start_time": "2024-08-08T17:11:48.259Z"
   },
   {
    "duration": 16,
    "start_time": "2024-08-08T17:11:48.589Z"
   },
   {
    "duration": 32,
    "start_time": "2024-08-08T17:11:48.609Z"
   },
   {
    "duration": 3,
    "start_time": "2024-08-08T17:11:48.644Z"
   },
   {
    "duration": 8,
    "start_time": "2024-08-08T17:11:48.654Z"
   },
   {
    "duration": 15,
    "start_time": "2024-08-08T17:11:48.666Z"
   },
   {
    "duration": 16,
    "start_time": "2024-08-08T17:11:48.684Z"
   },
   {
    "duration": 33,
    "start_time": "2024-08-08T17:11:48.703Z"
   },
   {
    "duration": 25,
    "start_time": "2024-08-08T17:11:48.742Z"
   },
   {
    "duration": 17,
    "start_time": "2024-08-08T17:11:48.769Z"
   },
   {
    "duration": 48,
    "start_time": "2024-08-08T17:11:48.789Z"
   },
   {
    "duration": 26,
    "start_time": "2024-08-08T17:11:48.839Z"
   },
   {
    "duration": 116,
    "start_time": "2024-08-08T17:11:48.868Z"
   },
   {
    "duration": 67,
    "start_time": "2024-08-08T17:11:48.986Z"
   },
   {
    "duration": 16,
    "start_time": "2024-08-08T17:11:49.060Z"
   },
   {
    "duration": 19,
    "start_time": "2024-08-08T17:11:49.078Z"
   },
   {
    "duration": 35,
    "start_time": "2024-08-08T17:11:49.101Z"
   },
   {
    "duration": 24,
    "start_time": "2024-08-08T17:11:49.138Z"
   },
   {
    "duration": 18,
    "start_time": "2024-08-08T17:11:49.165Z"
   },
   {
    "duration": 12,
    "start_time": "2024-08-08T17:11:49.186Z"
   },
   {
    "duration": 51,
    "start_time": "2024-08-08T17:11:49.202Z"
   },
   {
    "duration": 14,
    "start_time": "2024-08-08T17:11:49.255Z"
   },
   {
    "duration": 7,
    "start_time": "2024-08-08T17:11:49.272Z"
   },
   {
    "duration": 81,
    "start_time": "2024-08-08T17:11:49.282Z"
   },
   {
    "duration": 30,
    "start_time": "2024-08-08T17:11:49.367Z"
   },
   {
    "duration": 47,
    "start_time": "2024-08-08T17:11:49.400Z"
   },
   {
    "duration": 36,
    "start_time": "2024-08-08T17:11:49.454Z"
   },
   {
    "duration": 54,
    "start_time": "2024-08-08T17:11:49.493Z"
   },
   {
    "duration": 25,
    "start_time": "2024-08-08T17:11:49.551Z"
   },
   {
    "duration": 183,
    "start_time": "2024-08-08T17:11:49.579Z"
   },
   {
    "duration": 354,
    "start_time": "2024-08-08T17:11:49.767Z"
   },
   {
    "duration": 335,
    "start_time": "2024-08-08T17:11:50.124Z"
   },
   {
    "duration": 8,
    "start_time": "2024-08-08T17:11:50.461Z"
   },
   {
    "duration": 199,
    "start_time": "2024-08-08T17:11:50.473Z"
   },
   {
    "duration": 4,
    "start_time": "2024-08-08T17:11:50.676Z"
   },
   {
    "duration": 4,
    "start_time": "2024-08-08T17:11:50.683Z"
   },
   {
    "duration": 59,
    "start_time": "2024-08-08T17:11:50.690Z"
   },
   {
    "duration": 8,
    "start_time": "2024-08-08T17:11:50.752Z"
   },
   {
    "duration": 3,
    "start_time": "2024-08-08T17:11:50.768Z"
   },
   {
    "duration": 1194,
    "start_time": "2024-08-08T17:12:20.855Z"
   },
   {
    "duration": 86,
    "start_time": "2024-08-08T17:12:36.154Z"
   },
   {
    "duration": 312,
    "start_time": "2024-08-08T17:12:52.942Z"
   },
   {
    "duration": 7,
    "start_time": "2024-08-08T17:12:56.388Z"
   },
   {
    "duration": 190,
    "start_time": "2024-08-08T17:13:00.251Z"
   },
   {
    "duration": 8,
    "start_time": "2024-08-08T17:13:03.840Z"
   },
   {
    "duration": 9,
    "start_time": "2024-08-08T17:13:07.055Z"
   },
   {
    "duration": 186,
    "start_time": "2024-08-08T17:13:10.304Z"
   },
   {
    "duration": 8,
    "start_time": "2024-08-08T17:14:00.194Z"
   },
   {
    "duration": 7,
    "start_time": "2024-08-08T17:16:05.865Z"
   },
   {
    "duration": 272,
    "start_time": "2024-08-08T17:26:49.704Z"
   },
   {
    "duration": 126,
    "start_time": "2024-08-08T17:26:57.683Z"
   },
   {
    "duration": 176,
    "start_time": "2024-08-08T17:27:08.501Z"
   },
   {
    "duration": 188,
    "start_time": "2024-08-08T17:32:45.498Z"
   },
   {
    "duration": 256,
    "start_time": "2024-08-08T17:37:56.745Z"
   },
   {
    "duration": 263,
    "start_time": "2024-08-08T17:38:27.435Z"
   },
   {
    "duration": 267,
    "start_time": "2024-08-08T17:38:58.077Z"
   },
   {
    "duration": 51,
    "start_time": "2024-08-08T17:40:41.862Z"
   },
   {
    "duration": 56,
    "start_time": "2024-08-08T17:41:10.232Z"
   },
   {
    "duration": 35,
    "start_time": "2024-08-08T17:42:00.645Z"
   },
   {
    "duration": 271,
    "start_time": "2024-08-08T17:43:06.392Z"
   },
   {
    "duration": 279,
    "start_time": "2024-08-08T17:43:23.400Z"
   },
   {
    "duration": 273,
    "start_time": "2024-08-08T17:54:15.806Z"
   },
   {
    "duration": 215,
    "start_time": "2024-08-08T18:00:14.560Z"
   },
   {
    "duration": 231,
    "start_time": "2024-08-08T18:00:27.757Z"
   },
   {
    "duration": 280,
    "start_time": "2024-08-08T18:05:20.595Z"
   },
   {
    "duration": 285,
    "start_time": "2024-08-08T18:07:57.628Z"
   },
   {
    "duration": 302,
    "start_time": "2024-08-08T18:08:18.199Z"
   },
   {
    "duration": 417,
    "start_time": "2024-08-08T18:08:27.955Z"
   },
   {
    "duration": 266,
    "start_time": "2024-08-08T18:09:24.950Z"
   },
   {
    "duration": 286,
    "start_time": "2024-08-08T18:09:33.234Z"
   },
   {
    "duration": 278,
    "start_time": "2024-08-08T18:09:43.302Z"
   },
   {
    "duration": 180,
    "start_time": "2024-08-08T18:24:19.975Z"
   },
   {
    "duration": 175,
    "start_time": "2024-08-08T18:24:42.422Z"
   },
   {
    "duration": 166,
    "start_time": "2024-08-08T18:25:08.603Z"
   },
   {
    "duration": 167,
    "start_time": "2024-08-08T18:25:24.566Z"
   },
   {
    "duration": 184,
    "start_time": "2024-08-08T18:25:58.355Z"
   },
   {
    "duration": 218,
    "start_time": "2024-08-08T18:26:14.771Z"
   },
   {
    "duration": 454,
    "start_time": "2024-08-08T18:26:33.971Z"
   },
   {
    "duration": 187,
    "start_time": "2024-08-08T18:27:10.971Z"
   },
   {
    "duration": 204,
    "start_time": "2024-08-08T18:36:19.549Z"
   },
   {
    "duration": 182,
    "start_time": "2024-08-08T18:36:48.254Z"
   },
   {
    "duration": 178,
    "start_time": "2024-08-08T18:37:44.099Z"
   },
   {
    "duration": 320,
    "start_time": "2024-08-08T18:48:08.308Z"
   },
   {
    "duration": 214,
    "start_time": "2024-08-08T18:49:51.260Z"
   },
   {
    "duration": 219,
    "start_time": "2024-08-08T18:51:55.901Z"
   },
   {
    "duration": 175,
    "start_time": "2024-08-08T18:55:28.627Z"
   },
   {
    "duration": 165,
    "start_time": "2024-08-08T18:55:56.078Z"
   },
   {
    "duration": 194,
    "start_time": "2024-08-08T18:56:20.496Z"
   },
   {
    "duration": 201,
    "start_time": "2024-08-08T18:59:31.971Z"
   },
   {
    "duration": 204,
    "start_time": "2024-08-08T19:01:26.807Z"
   },
   {
    "duration": 347,
    "start_time": "2024-08-08T19:04:27.689Z"
   },
   {
    "duration": 215,
    "start_time": "2024-08-08T19:05:41.365Z"
   },
   {
    "duration": 304,
    "start_time": "2024-08-08T19:09:25.239Z"
   },
   {
    "duration": 272,
    "start_time": "2024-08-08T19:09:35.469Z"
   },
   {
    "duration": 342,
    "start_time": "2024-08-08T19:09:53.899Z"
   },
   {
    "duration": 319,
    "start_time": "2024-08-08T19:10:11.735Z"
   },
   {
    "duration": 420,
    "start_time": "2024-08-08T19:12:22.203Z"
   },
   {
    "duration": 321,
    "start_time": "2024-08-08T19:12:32.048Z"
   },
   {
    "duration": 312,
    "start_time": "2024-08-08T19:12:40.673Z"
   },
   {
    "duration": 311,
    "start_time": "2024-08-08T19:12:51.439Z"
   },
   {
    "duration": 350,
    "start_time": "2024-08-08T19:13:05.819Z"
   },
   {
    "duration": 204,
    "start_time": "2024-08-08T19:13:32.082Z"
   },
   {
    "duration": 217,
    "start_time": "2024-08-08T19:14:04.100Z"
   },
   {
    "duration": 206,
    "start_time": "2024-08-08T19:14:20.339Z"
   },
   {
    "duration": 687,
    "start_time": "2024-08-08T19:15:06.750Z"
   },
   {
    "duration": 328,
    "start_time": "2024-08-08T19:15:07.443Z"
   },
   {
    "duration": 15,
    "start_time": "2024-08-08T19:15:07.774Z"
   },
   {
    "duration": 19,
    "start_time": "2024-08-08T19:15:07.794Z"
   },
   {
    "duration": 6,
    "start_time": "2024-08-08T19:15:07.816Z"
   },
   {
    "duration": 3,
    "start_time": "2024-08-08T19:15:07.835Z"
   },
   {
    "duration": 17,
    "start_time": "2024-08-08T19:15:07.840Z"
   },
   {
    "duration": 15,
    "start_time": "2024-08-08T19:15:07.860Z"
   },
   {
    "duration": 5,
    "start_time": "2024-08-08T19:15:07.878Z"
   },
   {
    "duration": 57,
    "start_time": "2024-08-08T19:15:07.889Z"
   },
   {
    "duration": 17,
    "start_time": "2024-08-08T19:15:07.955Z"
   },
   {
    "duration": 13,
    "start_time": "2024-08-08T19:15:07.975Z"
   },
   {
    "duration": 53,
    "start_time": "2024-08-08T19:15:07.991Z"
   },
   {
    "duration": 93,
    "start_time": "2024-08-08T19:15:08.047Z"
   },
   {
    "duration": 28,
    "start_time": "2024-08-08T19:15:08.143Z"
   },
   {
    "duration": 15,
    "start_time": "2024-08-08T19:15:08.173Z"
   },
   {
    "duration": 47,
    "start_time": "2024-08-08T19:15:08.192Z"
   },
   {
    "duration": 12,
    "start_time": "2024-08-08T19:15:08.242Z"
   },
   {
    "duration": 23,
    "start_time": "2024-08-08T19:15:08.257Z"
   },
   {
    "duration": 16,
    "start_time": "2024-08-08T19:15:08.283Z"
   },
   {
    "duration": 40,
    "start_time": "2024-08-08T19:15:08.302Z"
   },
   {
    "duration": 29,
    "start_time": "2024-08-08T19:15:08.344Z"
   },
   {
    "duration": 11,
    "start_time": "2024-08-08T19:15:08.377Z"
   },
   {
    "duration": 8,
    "start_time": "2024-08-08T19:15:08.391Z"
   },
   {
    "duration": 66,
    "start_time": "2024-08-08T19:15:08.403Z"
   },
   {
    "duration": 30,
    "start_time": "2024-08-08T19:15:08.472Z"
   },
   {
    "duration": 45,
    "start_time": "2024-08-08T19:15:08.504Z"
   },
   {
    "duration": 37,
    "start_time": "2024-08-08T19:15:08.556Z"
   },
   {
    "duration": 59,
    "start_time": "2024-08-08T19:15:08.596Z"
   },
   {
    "duration": 14,
    "start_time": "2024-08-08T19:15:08.658Z"
   },
   {
    "duration": 175,
    "start_time": "2024-08-08T19:15:08.675Z"
   },
   {
    "duration": 346,
    "start_time": "2024-08-08T19:15:08.852Z"
   },
   {
    "duration": 340,
    "start_time": "2024-08-08T19:15:09.200Z"
   },
   {
    "duration": 12,
    "start_time": "2024-08-08T19:15:09.542Z"
   },
   {
    "duration": 223,
    "start_time": "2024-08-08T19:15:09.556Z"
   },
   {
    "duration": 4,
    "start_time": "2024-08-08T19:15:09.782Z"
   },
   {
    "duration": 3,
    "start_time": "2024-08-08T19:15:09.789Z"
   },
   {
    "duration": 52,
    "start_time": "2024-08-08T19:15:09.796Z"
   },
   {
    "duration": 9,
    "start_time": "2024-08-08T19:15:09.851Z"
   },
   {
    "duration": 3,
    "start_time": "2024-08-08T19:15:09.862Z"
   },
   {
    "duration": 27,
    "start_time": "2024-08-08T19:53:40.967Z"
   },
   {
    "duration": 28,
    "start_time": "2024-08-08T19:54:13.466Z"
   },
   {
    "duration": 29,
    "start_time": "2024-08-08T19:54:48.881Z"
   },
   {
    "duration": 158,
    "start_time": "2024-08-08T19:56:14.763Z"
   },
   {
    "duration": 23,
    "start_time": "2024-08-08T19:57:10.443Z"
   },
   {
    "duration": 17,
    "start_time": "2024-08-08T19:57:48.267Z"
   },
   {
    "duration": 16,
    "start_time": "2024-08-08T19:58:29.685Z"
   },
   {
    "duration": 25,
    "start_time": "2024-08-08T20:00:24.505Z"
   },
   {
    "duration": 25,
    "start_time": "2024-08-08T20:00:48.584Z"
   },
   {
    "duration": 27,
    "start_time": "2024-08-08T20:03:57.666Z"
   },
   {
    "duration": 302,
    "start_time": "2024-08-08T20:12:20.800Z"
   },
   {
    "duration": 318,
    "start_time": "2024-08-08T20:13:03.021Z"
   },
   {
    "duration": 12,
    "start_time": "2024-08-08T20:38:08.689Z"
   },
   {
    "duration": 9,
    "start_time": "2024-08-08T20:38:27.906Z"
   },
   {
    "duration": 9,
    "start_time": "2024-08-08T20:38:41.413Z"
   },
   {
    "duration": 1114,
    "start_time": "2024-08-08T20:38:55.621Z"
   },
   {
    "duration": 341,
    "start_time": "2024-08-08T20:40:00.067Z"
   },
   {
    "duration": 418,
    "start_time": "2024-08-08T20:40:50.550Z"
   },
   {
    "duration": 331,
    "start_time": "2024-08-08T20:42:17.635Z"
   },
   {
    "duration": 5,
    "start_time": "2024-08-08T20:53:31.583Z"
   },
   {
    "duration": 18,
    "start_time": "2024-08-08T20:54:45.476Z"
   },
   {
    "duration": 17,
    "start_time": "2024-08-08T20:55:17.125Z"
   },
   {
    "duration": 637,
    "start_time": "2024-08-08T21:00:07.702Z"
   },
   {
    "duration": 343,
    "start_time": "2024-08-08T21:00:08.343Z"
   },
   {
    "duration": 15,
    "start_time": "2024-08-08T21:00:08.689Z"
   },
   {
    "duration": 33,
    "start_time": "2024-08-08T21:00:08.708Z"
   },
   {
    "duration": 3,
    "start_time": "2024-08-08T21:00:08.744Z"
   },
   {
    "duration": 4,
    "start_time": "2024-08-08T21:00:08.750Z"
   },
   {
    "duration": 15,
    "start_time": "2024-08-08T21:00:08.757Z"
   },
   {
    "duration": 59,
    "start_time": "2024-08-08T21:00:08.776Z"
   },
   {
    "duration": 8,
    "start_time": "2024-08-08T21:00:08.838Z"
   },
   {
    "duration": 6,
    "start_time": "2024-08-08T21:00:08.851Z"
   },
   {
    "duration": 26,
    "start_time": "2024-08-08T21:00:08.860Z"
   },
   {
    "duration": 50,
    "start_time": "2024-08-08T21:00:08.888Z"
   },
   {
    "duration": 14,
    "start_time": "2024-08-08T21:00:08.941Z"
   },
   {
    "duration": 24,
    "start_time": "2024-08-08T21:00:08.958Z"
   },
   {
    "duration": 116,
    "start_time": "2024-08-08T21:00:08.984Z"
   },
   {
    "duration": 32,
    "start_time": "2024-08-08T21:00:09.105Z"
   },
   {
    "duration": 14,
    "start_time": "2024-08-08T21:00:09.140Z"
   },
   {
    "duration": 18,
    "start_time": "2024-08-08T21:00:09.157Z"
   },
   {
    "duration": 10,
    "start_time": "2024-08-08T21:00:09.178Z"
   },
   {
    "duration": 58,
    "start_time": "2024-08-08T21:00:09.191Z"
   },
   {
    "duration": 18,
    "start_time": "2024-08-08T21:00:09.252Z"
   },
   {
    "duration": 11,
    "start_time": "2024-08-08T21:00:09.273Z"
   },
   {
    "duration": 54,
    "start_time": "2024-08-08T21:00:09.287Z"
   },
   {
    "duration": 10,
    "start_time": "2024-08-08T21:00:09.344Z"
   },
   {
    "duration": 7,
    "start_time": "2024-08-08T21:00:09.357Z"
   },
   {
    "duration": 78,
    "start_time": "2024-08-08T21:00:09.367Z"
   },
   {
    "duration": 32,
    "start_time": "2024-08-08T21:00:09.451Z"
   },
   {
    "duration": 50,
    "start_time": "2024-08-08T21:00:09.486Z"
   },
   {
    "duration": 45,
    "start_time": "2024-08-08T21:00:09.539Z"
   },
   {
    "duration": 56,
    "start_time": "2024-08-08T21:00:09.591Z"
   },
   {
    "duration": 16,
    "start_time": "2024-08-08T21:00:09.650Z"
   },
   {
    "duration": 183,
    "start_time": "2024-08-08T21:00:09.671Z"
   },
   {
    "duration": 357,
    "start_time": "2024-08-08T21:00:09.858Z"
   },
   {
    "duration": 326,
    "start_time": "2024-08-08T21:00:10.218Z"
   },
   {
    "duration": 8,
    "start_time": "2024-08-08T21:00:10.547Z"
   },
   {
    "duration": 238,
    "start_time": "2024-08-08T21:00:10.558Z"
   },
   {
    "duration": 349,
    "start_time": "2024-08-08T21:00:10.801Z"
   },
   {
    "duration": 317,
    "start_time": "2024-08-08T21:00:11.153Z"
   },
   {
    "duration": 4,
    "start_time": "2024-08-08T21:00:11.473Z"
   },
   {
    "duration": 15,
    "start_time": "2024-08-08T21:00:11.480Z"
   },
   {
    "duration": 3,
    "start_time": "2024-08-08T21:00:11.498Z"
   },
   {
    "duration": 32,
    "start_time": "2024-08-08T21:00:11.504Z"
   },
   {
    "duration": 1192,
    "start_time": "2024-08-08T21:08:20.652Z"
   },
   {
    "duration": 304,
    "start_time": "2024-08-08T21:08:45.575Z"
   },
   {
    "duration": 8,
    "start_time": "2024-08-08T21:08:50.115Z"
   },
   {
    "duration": 693,
    "start_time": "2024-08-08T21:16:51.117Z"
   },
   {
    "duration": 320,
    "start_time": "2024-08-08T21:16:51.814Z"
   },
   {
    "duration": 16,
    "start_time": "2024-08-08T21:16:52.137Z"
   },
   {
    "duration": 16,
    "start_time": "2024-08-08T21:16:52.158Z"
   },
   {
    "duration": 5,
    "start_time": "2024-08-08T21:16:52.176Z"
   },
   {
    "duration": 3,
    "start_time": "2024-08-08T21:16:52.184Z"
   },
   {
    "duration": 15,
    "start_time": "2024-08-08T21:16:52.233Z"
   },
   {
    "duration": 16,
    "start_time": "2024-08-08T21:16:52.251Z"
   },
   {
    "duration": 8,
    "start_time": "2024-08-08T21:16:52.270Z"
   },
   {
    "duration": 1104,
    "start_time": "2024-08-08T21:16:52.284Z"
   },
   {
    "duration": 0,
    "start_time": "2024-08-08T21:16:53.392Z"
   },
   {
    "duration": 0,
    "start_time": "2024-08-08T21:16:53.394Z"
   },
   {
    "duration": 0,
    "start_time": "2024-08-08T21:16:53.397Z"
   },
   {
    "duration": 0,
    "start_time": "2024-08-08T21:16:53.399Z"
   },
   {
    "duration": 0,
    "start_time": "2024-08-08T21:16:53.401Z"
   },
   {
    "duration": 0,
    "start_time": "2024-08-08T21:16:53.404Z"
   },
   {
    "duration": 0,
    "start_time": "2024-08-08T21:16:53.406Z"
   },
   {
    "duration": 0,
    "start_time": "2024-08-08T21:16:53.408Z"
   },
   {
    "duration": 0,
    "start_time": "2024-08-08T21:16:53.434Z"
   },
   {
    "duration": 0,
    "start_time": "2024-08-08T21:16:53.436Z"
   },
   {
    "duration": 0,
    "start_time": "2024-08-08T21:16:53.438Z"
   },
   {
    "duration": 0,
    "start_time": "2024-08-08T21:16:53.440Z"
   },
   {
    "duration": 0,
    "start_time": "2024-08-08T21:16:53.442Z"
   },
   {
    "duration": 0,
    "start_time": "2024-08-08T21:16:53.443Z"
   },
   {
    "duration": 0,
    "start_time": "2024-08-08T21:16:53.445Z"
   },
   {
    "duration": 0,
    "start_time": "2024-08-08T21:16:53.447Z"
   },
   {
    "duration": 0,
    "start_time": "2024-08-08T21:16:53.449Z"
   },
   {
    "duration": 0,
    "start_time": "2024-08-08T21:16:53.452Z"
   },
   {
    "duration": 0,
    "start_time": "2024-08-08T21:16:53.454Z"
   },
   {
    "duration": 0,
    "start_time": "2024-08-08T21:16:53.456Z"
   },
   {
    "duration": 0,
    "start_time": "2024-08-08T21:16:53.463Z"
   },
   {
    "duration": 0,
    "start_time": "2024-08-08T21:16:53.465Z"
   },
   {
    "duration": 0,
    "start_time": "2024-08-08T21:16:53.467Z"
   },
   {
    "duration": 0,
    "start_time": "2024-08-08T21:16:53.475Z"
   },
   {
    "duration": 0,
    "start_time": "2024-08-08T21:16:53.476Z"
   },
   {
    "duration": 0,
    "start_time": "2024-08-08T21:16:53.535Z"
   },
   {
    "duration": 0,
    "start_time": "2024-08-08T21:16:53.537Z"
   },
   {
    "duration": 0,
    "start_time": "2024-08-08T21:16:53.539Z"
   },
   {
    "duration": 0,
    "start_time": "2024-08-08T21:16:53.542Z"
   },
   {
    "duration": 0,
    "start_time": "2024-08-08T21:16:53.544Z"
   },
   {
    "duration": 0,
    "start_time": "2024-08-08T21:16:53.546Z"
   },
   {
    "duration": 0,
    "start_time": "2024-08-08T21:16:53.548Z"
   },
   {
    "duration": 0,
    "start_time": "2024-08-08T21:16:53.549Z"
   },
   {
    "duration": 683,
    "start_time": "2024-08-08T21:17:34.146Z"
   },
   {
    "duration": 318,
    "start_time": "2024-08-08T21:17:34.832Z"
   },
   {
    "duration": 16,
    "start_time": "2024-08-08T21:17:35.153Z"
   },
   {
    "duration": 17,
    "start_time": "2024-08-08T21:17:35.172Z"
   },
   {
    "duration": 3,
    "start_time": "2024-08-08T21:17:35.195Z"
   },
   {
    "duration": 5,
    "start_time": "2024-08-08T21:17:35.234Z"
   },
   {
    "duration": 16,
    "start_time": "2024-08-08T21:17:35.243Z"
   },
   {
    "duration": 16,
    "start_time": "2024-08-08T21:17:35.263Z"
   },
   {
    "duration": 5,
    "start_time": "2024-08-08T21:17:35.282Z"
   },
   {
    "duration": 60,
    "start_time": "2024-08-08T21:17:35.290Z"
   },
   {
    "duration": 26,
    "start_time": "2024-08-08T21:17:35.353Z"
   },
   {
    "duration": 52,
    "start_time": "2024-08-08T21:17:35.382Z"
   },
   {
    "duration": 14,
    "start_time": "2024-08-08T21:17:35.437Z"
   },
   {
    "duration": 25,
    "start_time": "2024-08-08T21:17:35.458Z"
   },
   {
    "duration": 117,
    "start_time": "2024-08-08T21:17:35.485Z"
   },
   {
    "duration": 32,
    "start_time": "2024-08-08T21:17:35.605Z"
   },
   {
    "duration": 14,
    "start_time": "2024-08-08T21:17:35.639Z"
   },
   {
    "duration": 18,
    "start_time": "2024-08-08T21:17:35.656Z"
   },
   {
    "duration": 10,
    "start_time": "2024-08-08T21:17:35.677Z"
   },
   {
    "duration": 53,
    "start_time": "2024-08-08T21:17:35.690Z"
   },
   {
    "duration": 16,
    "start_time": "2024-08-08T21:17:35.746Z"
   },
   {
    "duration": 11,
    "start_time": "2024-08-08T21:17:35.765Z"
   },
   {
    "duration": 57,
    "start_time": "2024-08-08T21:17:35.778Z"
   },
   {
    "duration": 11,
    "start_time": "2024-08-08T21:17:35.838Z"
   },
   {
    "duration": 7,
    "start_time": "2024-08-08T21:17:35.852Z"
   },
   {
    "duration": 38,
    "start_time": "2024-08-08T21:17:35.862Z"
   },
   {
    "duration": 38,
    "start_time": "2024-08-08T21:17:35.935Z"
   },
   {
    "duration": 34,
    "start_time": "2024-08-08T21:17:35.976Z"
   },
   {
    "duration": 37,
    "start_time": "2024-08-08T21:17:36.033Z"
   },
   {
    "duration": 34,
    "start_time": "2024-08-08T21:17:36.073Z"
   },
   {
    "duration": 37,
    "start_time": "2024-08-08T21:17:36.110Z"
   },
   {
    "duration": 203,
    "start_time": "2024-08-08T21:17:36.150Z"
   },
   {
    "duration": 353,
    "start_time": "2024-08-08T21:17:36.356Z"
   },
   {
    "duration": 329,
    "start_time": "2024-08-08T21:17:36.712Z"
   },
   {
    "duration": 8,
    "start_time": "2024-08-08T21:17:37.045Z"
   },
   {
    "duration": 238,
    "start_time": "2024-08-08T21:17:37.057Z"
   },
   {
    "duration": 355,
    "start_time": "2024-08-08T21:17:37.298Z"
   },
   {
    "duration": 319,
    "start_time": "2024-08-08T21:17:37.657Z"
   },
   {
    "duration": 9,
    "start_time": "2024-08-08T21:17:37.979Z"
   },
   {
    "duration": 4,
    "start_time": "2024-08-08T21:17:37.991Z"
   },
   {
    "duration": 44,
    "start_time": "2024-08-08T21:17:38.003Z"
   },
   {
    "duration": 4,
    "start_time": "2024-08-08T21:17:38.050Z"
   },
   {
    "duration": 4,
    "start_time": "2024-08-08T21:17:38.058Z"
   },
   {
    "duration": 4249,
    "start_time": "2024-08-08T22:24:45.134Z"
   },
   {
    "duration": 332,
    "start_time": "2024-08-08T22:24:49.387Z"
   },
   {
    "duration": 15,
    "start_time": "2024-08-08T22:24:49.722Z"
   },
   {
    "duration": 17,
    "start_time": "2024-08-08T22:24:49.742Z"
   },
   {
    "duration": 4,
    "start_time": "2024-08-08T22:24:49.762Z"
   },
   {
    "duration": 3,
    "start_time": "2024-08-08T22:24:49.769Z"
   },
   {
    "duration": 58,
    "start_time": "2024-08-08T22:24:49.774Z"
   },
   {
    "duration": 16,
    "start_time": "2024-08-08T22:24:49.835Z"
   },
   {
    "duration": 5,
    "start_time": "2024-08-08T22:24:49.855Z"
   },
   {
    "duration": 18,
    "start_time": "2024-08-08T22:24:49.868Z"
   },
   {
    "duration": 61,
    "start_time": "2024-08-08T22:24:49.889Z"
   },
   {
    "duration": 17,
    "start_time": "2024-08-08T22:24:49.953Z"
   },
   {
    "duration": 14,
    "start_time": "2024-08-08T22:24:49.973Z"
   },
   {
    "duration": 59,
    "start_time": "2024-08-08T22:24:49.991Z"
   },
   {
    "duration": 105,
    "start_time": "2024-08-08T22:24:50.052Z"
   },
   {
    "duration": 19,
    "start_time": "2024-08-08T22:24:50.160Z"
   },
   {
    "duration": 15,
    "start_time": "2024-08-08T22:24:50.182Z"
   },
   {
    "duration": 46,
    "start_time": "2024-08-08T22:24:50.199Z"
   },
   {
    "duration": 10,
    "start_time": "2024-08-08T22:24:50.248Z"
   },
   {
    "duration": 23,
    "start_time": "2024-08-08T22:24:50.261Z"
   },
   {
    "duration": 49,
    "start_time": "2024-08-08T22:24:50.287Z"
   },
   {
    "duration": 13,
    "start_time": "2024-08-08T22:24:50.338Z"
   },
   {
    "duration": 21,
    "start_time": "2024-08-08T22:24:50.353Z"
   },
   {
    "duration": 11,
    "start_time": "2024-08-08T22:24:50.377Z"
   },
   {
    "duration": 42,
    "start_time": "2024-08-08T22:24:50.391Z"
   },
   {
    "duration": 38,
    "start_time": "2024-08-08T22:24:50.436Z"
   },
   {
    "duration": 63,
    "start_time": "2024-08-08T22:24:50.478Z"
   },
   {
    "duration": 27,
    "start_time": "2024-08-08T22:24:50.548Z"
   },
   {
    "duration": 58,
    "start_time": "2024-08-08T22:24:50.577Z"
   },
   {
    "duration": 33,
    "start_time": "2024-08-08T22:24:50.638Z"
   },
   {
    "duration": 16,
    "start_time": "2024-08-08T22:24:50.675Z"
   },
   {
    "duration": 194,
    "start_time": "2024-08-08T22:24:50.694Z"
   },
   {
    "duration": 360,
    "start_time": "2024-08-08T22:24:50.892Z"
   },
   {
    "duration": 352,
    "start_time": "2024-08-08T22:24:51.255Z"
   },
   {
    "duration": 9,
    "start_time": "2024-08-08T22:24:51.610Z"
   },
   {
    "duration": 284,
    "start_time": "2024-08-08T22:24:51.636Z"
   },
   {
    "duration": 352,
    "start_time": "2024-08-08T22:24:51.924Z"
   },
   {
    "duration": 328,
    "start_time": "2024-08-08T22:24:52.279Z"
   },
   {
    "duration": 8,
    "start_time": "2024-08-08T22:24:52.611Z"
   },
   {
    "duration": 13,
    "start_time": "2024-08-08T22:24:52.621Z"
   },
   {
    "duration": 18,
    "start_time": "2024-08-08T22:24:52.637Z"
   },
   {
    "duration": 4,
    "start_time": "2024-08-08T22:24:52.658Z"
   },
   {
    "duration": 4,
    "start_time": "2024-08-08T22:24:52.664Z"
   },
   {
    "duration": 26,
    "start_time": "2024-08-08T22:29:06.850Z"
   },
   {
    "duration": 27,
    "start_time": "2024-08-08T22:30:39.113Z"
   },
   {
    "duration": 28,
    "start_time": "2024-08-08T22:31:20.625Z"
   },
   {
    "duration": 338,
    "start_time": "2024-08-08T22:39:28.304Z"
   },
   {
    "duration": 33,
    "start_time": "2024-08-08T22:50:10.803Z"
   },
   {
    "duration": 171,
    "start_time": "2024-08-08T22:53:13.363Z"
   },
   {
    "duration": 44,
    "start_time": "2024-08-08T22:53:31.417Z"
   },
   {
    "duration": 29,
    "start_time": "2024-08-08T22:54:46.768Z"
   },
   {
    "duration": 29,
    "start_time": "2024-08-08T22:55:10.017Z"
   },
   {
    "duration": 27,
    "start_time": "2024-08-08T22:55:26.128Z"
   },
   {
    "duration": 34,
    "start_time": "2024-08-08T22:58:29.484Z"
   },
   {
    "duration": 43,
    "start_time": "2024-08-08T23:00:20.710Z"
   },
   {
    "duration": 337,
    "start_time": "2024-08-08T23:02:07.566Z"
   },
   {
    "duration": 26,
    "start_time": "2024-08-08T23:10:59.242Z"
   },
   {
    "duration": 21,
    "start_time": "2024-08-08T23:33:09.875Z"
   },
   {
    "duration": 24,
    "start_time": "2024-08-08T23:39:47.085Z"
   },
   {
    "duration": 22,
    "start_time": "2024-08-08T23:41:00.223Z"
   },
   {
    "duration": 26,
    "start_time": "2024-08-08T23:41:21.420Z"
   },
   {
    "duration": 23,
    "start_time": "2024-08-08T23:41:48.294Z"
   },
   {
    "duration": 22,
    "start_time": "2024-08-08T23:42:23.092Z"
   },
   {
    "duration": 22,
    "start_time": "2024-08-08T23:42:50.497Z"
   },
   {
    "duration": 26,
    "start_time": "2024-08-08T23:46:33.364Z"
   },
   {
    "duration": 23,
    "start_time": "2024-08-08T23:47:07.782Z"
   },
   {
    "duration": 22,
    "start_time": "2024-08-08T23:47:18.416Z"
   },
   {
    "duration": 337,
    "start_time": "2024-08-08T23:47:49.316Z"
   },
   {
    "duration": 26,
    "start_time": "2024-08-08T23:48:42.801Z"
   },
   {
    "duration": 345,
    "start_time": "2024-08-08T23:50:43.710Z"
   },
   {
    "duration": 343,
    "start_time": "2024-08-08T23:51:24.425Z"
   },
   {
    "duration": 348,
    "start_time": "2024-08-08T23:52:10.762Z"
   },
   {
    "duration": 118,
    "start_time": "2024-08-08T23:55:35.824Z"
   },
   {
    "duration": 29,
    "start_time": "2024-08-08T23:57:36.841Z"
   },
   {
    "duration": 260,
    "start_time": "2024-08-09T00:10:21.400Z"
   },
   {
    "duration": 29,
    "start_time": "2024-08-09T00:10:29.249Z"
   },
   {
    "duration": 28,
    "start_time": "2024-08-09T00:10:48.669Z"
   },
   {
    "duration": 27,
    "start_time": "2024-08-09T00:11:41.897Z"
   },
   {
    "duration": 320,
    "start_time": "2024-08-09T00:12:04.959Z"
   },
   {
    "duration": 339,
    "start_time": "2024-08-09T01:14:11.144Z"
   },
   {
    "duration": 327,
    "start_time": "2024-08-09T01:29:00.376Z"
   },
   {
    "duration": 347,
    "start_time": "2024-08-09T01:30:20.179Z"
   },
   {
    "duration": 8,
    "start_time": "2024-08-09T01:31:14.461Z"
   },
   {
    "duration": 298,
    "start_time": "2024-08-09T01:33:00.281Z"
   },
   {
    "duration": 203,
    "start_time": "2024-08-09T01:43:56.041Z"
   },
   {
    "duration": 1074,
    "start_time": "2024-08-09T01:44:50.955Z"
   },
   {
    "duration": 696,
    "start_time": "2024-08-09T01:45:32.922Z"
   },
   {
    "duration": 325,
    "start_time": "2024-08-09T01:45:33.622Z"
   },
   {
    "duration": 15,
    "start_time": "2024-08-09T01:45:33.950Z"
   },
   {
    "duration": 17,
    "start_time": "2024-08-09T01:45:33.968Z"
   },
   {
    "duration": 3,
    "start_time": "2024-08-09T01:45:33.991Z"
   },
   {
    "duration": 36,
    "start_time": "2024-08-09T01:45:33.997Z"
   },
   {
    "duration": 15,
    "start_time": "2024-08-09T01:45:34.036Z"
   },
   {
    "duration": 16,
    "start_time": "2024-08-09T01:45:34.054Z"
   },
   {
    "duration": 6,
    "start_time": "2024-08-09T01:45:34.074Z"
   },
   {
    "duration": 62,
    "start_time": "2024-08-09T01:45:34.083Z"
   },
   {
    "duration": 26,
    "start_time": "2024-08-09T01:45:34.148Z"
   },
   {
    "duration": 18,
    "start_time": "2024-08-09T01:45:34.176Z"
   },
   {
    "duration": 48,
    "start_time": "2024-08-09T01:45:34.196Z"
   },
   {
    "duration": 24,
    "start_time": "2024-08-09T01:45:34.250Z"
   },
   {
    "duration": 112,
    "start_time": "2024-08-09T01:45:34.277Z"
   },
   {
    "duration": 23,
    "start_time": "2024-08-09T01:45:34.392Z"
   },
   {
    "duration": 13,
    "start_time": "2024-08-09T01:45:34.432Z"
   },
   {
    "duration": 18,
    "start_time": "2024-08-09T01:45:34.448Z"
   },
   {
    "duration": 10,
    "start_time": "2024-08-09T01:45:34.469Z"
   },
   {
    "duration": 55,
    "start_time": "2024-08-09T01:45:34.482Z"
   },
   {
    "duration": 15,
    "start_time": "2024-08-09T01:45:34.540Z"
   },
   {
    "duration": 12,
    "start_time": "2024-08-09T01:45:34.558Z"
   },
   {
    "duration": 21,
    "start_time": "2024-08-09T01:45:34.572Z"
   },
   {
    "duration": 11,
    "start_time": "2024-08-09T01:45:34.633Z"
   },
   {
    "duration": 7,
    "start_time": "2024-08-09T01:45:34.646Z"
   },
   {
    "duration": 38,
    "start_time": "2024-08-09T01:45:34.656Z"
   },
   {
    "duration": 63,
    "start_time": "2024-08-09T01:45:34.697Z"
   },
   {
    "duration": 28,
    "start_time": "2024-08-09T01:45:34.763Z"
   },
   {
    "duration": 60,
    "start_time": "2024-08-09T01:45:34.794Z"
   },
   {
    "duration": 34,
    "start_time": "2024-08-09T01:45:34.857Z"
   },
   {
    "duration": 52,
    "start_time": "2024-08-09T01:45:34.893Z"
   },
   {
    "duration": 165,
    "start_time": "2024-08-09T01:45:34.948Z"
   },
   {
    "duration": 355,
    "start_time": "2024-08-09T01:45:35.116Z"
   },
   {
    "duration": 342,
    "start_time": "2024-08-09T01:45:35.474Z"
   },
   {
    "duration": 17,
    "start_time": "2024-08-09T01:45:35.819Z"
   },
   {
    "duration": 243,
    "start_time": "2024-08-09T01:45:35.839Z"
   },
   {
    "duration": 355,
    "start_time": "2024-08-09T01:45:36.084Z"
   },
   {
    "duration": 343,
    "start_time": "2024-08-09T01:45:36.443Z"
   },
   {
    "duration": 326,
    "start_time": "2024-08-09T01:45:36.789Z"
   },
   {
    "duration": 221,
    "start_time": "2024-08-09T01:45:37.118Z"
   },
   {
    "duration": 9,
    "start_time": "2024-08-09T01:45:37.347Z"
   },
   {
    "duration": 363,
    "start_time": "2024-08-09T01:45:37.359Z"
   },
   {
    "duration": 362,
    "start_time": "2024-08-09T01:45:37.725Z"
   },
   {
    "duration": 401,
    "start_time": "2024-08-09T01:45:38.090Z"
   },
   {
    "duration": 225,
    "start_time": "2024-08-09T01:45:38.494Z"
   },
   {
    "duration": 15,
    "start_time": "2024-08-09T01:45:38.722Z"
   },
   {
    "duration": 14,
    "start_time": "2024-08-09T01:45:38.741Z"
   },
   {
    "duration": 4,
    "start_time": "2024-08-09T01:45:38.758Z"
   },
   {
    "duration": 3,
    "start_time": "2024-08-09T01:45:38.765Z"
   },
   {
    "duration": 331,
    "start_time": "2024-08-09T01:53:18.828Z"
   },
   {
    "duration": 345,
    "start_time": "2024-08-09T01:55:02.153Z"
   },
   {
    "duration": 300,
    "start_time": "2024-08-09T01:56:56.270Z"
   },
   {
    "duration": 8,
    "start_time": "2024-08-09T02:00:20.522Z"
   },
   {
    "duration": 207,
    "start_time": "2024-08-09T02:03:02.094Z"
   },
   {
    "duration": 14,
    "start_time": "2024-08-09T03:28:30.765Z"
   },
   {
    "duration": 353,
    "start_time": "2024-08-09T03:33:00.790Z"
   },
   {
    "duration": 1156,
    "start_time": "2024-08-09T03:33:16.296Z"
   },
   {
    "duration": 278,
    "start_time": "2024-08-09T03:33:17.457Z"
   },
   {
    "duration": 17,
    "start_time": "2024-08-09T03:33:17.738Z"
   },
   {
    "duration": 16,
    "start_time": "2024-08-09T03:33:17.758Z"
   },
   {
    "duration": 4,
    "start_time": "2024-08-09T03:33:17.778Z"
   },
   {
    "duration": 3,
    "start_time": "2024-08-09T03:33:17.785Z"
   },
   {
    "duration": 55,
    "start_time": "2024-08-09T03:33:17.791Z"
   },
   {
    "duration": 17,
    "start_time": "2024-08-09T03:33:17.849Z"
   },
   {
    "duration": 5,
    "start_time": "2024-08-09T03:33:17.869Z"
   },
   {
    "duration": 54,
    "start_time": "2024-08-09T03:33:17.878Z"
   },
   {
    "duration": 33,
    "start_time": "2024-08-09T03:33:17.935Z"
   },
   {
    "duration": 19,
    "start_time": "2024-08-09T03:33:17.971Z"
   },
   {
    "duration": 46,
    "start_time": "2024-08-09T03:33:17.993Z"
   },
   {
    "duration": 23,
    "start_time": "2024-08-09T03:33:18.047Z"
   },
   {
    "duration": 103,
    "start_time": "2024-08-09T03:33:18.074Z"
   },
   {
    "duration": 19,
    "start_time": "2024-08-09T03:33:18.180Z"
   },
   {
    "duration": 30,
    "start_time": "2024-08-09T03:33:18.204Z"
   },
   {
    "duration": 19,
    "start_time": "2024-08-09T03:33:18.237Z"
   },
   {
    "duration": 10,
    "start_time": "2024-08-09T03:33:18.258Z"
   },
   {
    "duration": 24,
    "start_time": "2024-08-09T03:33:18.270Z"
   },
   {
    "duration": 14,
    "start_time": "2024-08-09T03:33:18.334Z"
   },
   {
    "duration": 12,
    "start_time": "2024-08-09T03:33:18.351Z"
   },
   {
    "duration": 22,
    "start_time": "2024-08-09T03:33:18.366Z"
   },
   {
    "duration": 45,
    "start_time": "2024-08-09T03:33:18.390Z"
   },
   {
    "duration": 8,
    "start_time": "2024-08-09T03:33:18.440Z"
   },
   {
    "duration": 39,
    "start_time": "2024-08-09T03:33:18.452Z"
   },
   {
    "duration": 58,
    "start_time": "2024-08-09T03:33:18.494Z"
   },
   {
    "duration": 27,
    "start_time": "2024-08-09T03:33:18.555Z"
   },
   {
    "duration": 65,
    "start_time": "2024-08-09T03:33:18.585Z"
   },
   {
    "duration": 33,
    "start_time": "2024-08-09T03:33:18.653Z"
   },
   {
    "duration": 16,
    "start_time": "2024-08-09T03:33:18.689Z"
   },
   {
    "duration": 191,
    "start_time": "2024-08-09T03:33:18.708Z"
   },
   {
    "duration": 367,
    "start_time": "2024-08-09T03:33:18.903Z"
   },
   {
    "duration": 333,
    "start_time": "2024-08-09T03:33:19.273Z"
   },
   {
    "duration": 9,
    "start_time": "2024-08-09T03:33:19.609Z"
   },
   {
    "duration": 231,
    "start_time": "2024-08-09T03:33:19.620Z"
   },
   {
    "duration": 419,
    "start_time": "2024-08-09T03:33:19.855Z"
   },
   {
    "duration": 339,
    "start_time": "2024-08-09T03:33:20.277Z"
   },
   {
    "duration": 313,
    "start_time": "2024-08-09T03:33:20.619Z"
   },
   {
    "duration": 221,
    "start_time": "2024-08-09T03:33:20.936Z"
   },
   {
    "duration": 8,
    "start_time": "2024-08-09T03:33:21.166Z"
   },
   {
    "duration": 387,
    "start_time": "2024-08-09T03:33:21.177Z"
   },
   {
    "duration": 370,
    "start_time": "2024-08-09T03:33:21.568Z"
   },
   {
    "duration": 333,
    "start_time": "2024-08-09T03:33:21.941Z"
   },
   {
    "duration": 228,
    "start_time": "2024-08-09T03:33:22.277Z"
   },
   {
    "duration": 8,
    "start_time": "2024-08-09T03:33:22.507Z"
   },
   {
    "duration": 339,
    "start_time": "2024-08-09T03:33:22.534Z"
   },
   {
    "duration": 357,
    "start_time": "2024-08-09T03:33:22.876Z"
   },
   {
    "duration": 326,
    "start_time": "2024-08-09T03:33:23.236Z"
   },
   {
    "duration": 329,
    "start_time": "2024-08-09T03:33:23.564Z"
   },
   {
    "duration": 9,
    "start_time": "2024-08-09T03:33:23.896Z"
   },
   {
    "duration": 426,
    "start_time": "2024-08-09T03:33:23.908Z"
   },
   {
    "duration": 0,
    "start_time": "2024-08-09T03:33:24.337Z"
   },
   {
    "duration": 7,
    "start_time": "2024-08-09T03:33:35.220Z"
   },
   {
    "duration": 6,
    "start_time": "2024-08-09T03:46:07.490Z"
   },
   {
    "duration": 20,
    "start_time": "2024-08-09T03:49:14.626Z"
   },
   {
    "duration": 27,
    "start_time": "2024-08-09T03:58:22.661Z"
   },
   {
    "duration": 9,
    "start_time": "2024-08-09T03:58:40.614Z"
   },
   {
    "duration": 8,
    "start_time": "2024-08-09T04:02:11.418Z"
   },
   {
    "duration": 14,
    "start_time": "2024-08-09T04:02:22.331Z"
   },
   {
    "duration": 7,
    "start_time": "2024-08-09T04:02:54.141Z"
   },
   {
    "duration": 30,
    "start_time": "2024-08-09T04:03:05.808Z"
   },
   {
    "duration": 11,
    "start_time": "2024-08-09T04:04:13.580Z"
   },
   {
    "duration": 28,
    "start_time": "2024-08-09T04:04:45.407Z"
   },
   {
    "duration": 41,
    "start_time": "2024-08-09T04:24:59.030Z"
   },
   {
    "duration": 677,
    "start_time": "2024-08-09T04:27:53.023Z"
   },
   {
    "duration": 1226,
    "start_time": "2024-08-09T04:29:17.821Z"
   },
   {
    "duration": 273,
    "start_time": "2024-08-09T04:29:19.052Z"
   },
   {
    "duration": 16,
    "start_time": "2024-08-09T04:29:19.328Z"
   },
   {
    "duration": 16,
    "start_time": "2024-08-09T04:29:19.348Z"
   },
   {
    "duration": 3,
    "start_time": "2024-08-09T04:29:19.367Z"
   },
   {
    "duration": 3,
    "start_time": "2024-08-09T04:29:19.374Z"
   },
   {
    "duration": 55,
    "start_time": "2024-08-09T04:29:19.380Z"
   },
   {
    "duration": 16,
    "start_time": "2024-08-09T04:29:19.439Z"
   },
   {
    "duration": 5,
    "start_time": "2024-08-09T04:29:19.458Z"
   },
   {
    "duration": 8,
    "start_time": "2024-08-09T04:29:19.470Z"
   },
   {
    "duration": 57,
    "start_time": "2024-08-09T04:29:19.480Z"
   },
   {
    "duration": 18,
    "start_time": "2024-08-09T04:29:19.540Z"
   },
   {
    "duration": 14,
    "start_time": "2024-08-09T04:29:19.560Z"
   },
   {
    "duration": 61,
    "start_time": "2024-08-09T04:29:19.577Z"
   },
   {
    "duration": 100,
    "start_time": "2024-08-09T04:29:19.641Z"
   },
   {
    "duration": 20,
    "start_time": "2024-08-09T04:29:19.743Z"
   },
   {
    "duration": 13,
    "start_time": "2024-08-09T04:29:19.767Z"
   },
   {
    "duration": 55,
    "start_time": "2024-08-09T04:29:19.784Z"
   },
   {
    "duration": 10,
    "start_time": "2024-08-09T04:29:19.842Z"
   },
   {
    "duration": 23,
    "start_time": "2024-08-09T04:29:19.854Z"
   },
   {
    "duration": 17,
    "start_time": "2024-08-09T04:29:19.879Z"
   },
   {
    "duration": 44,
    "start_time": "2024-08-09T04:29:19.898Z"
   },
   {
    "duration": 20,
    "start_time": "2024-08-09T04:29:19.945Z"
   },
   {
    "duration": 11,
    "start_time": "2024-08-09T04:29:19.968Z"
   },
   {
    "duration": 7,
    "start_time": "2024-08-09T04:29:19.982Z"
   },
   {
    "duration": 79,
    "start_time": "2024-08-09T04:29:19.992Z"
   },
   {
    "duration": 31,
    "start_time": "2024-08-09T04:29:20.074Z"
   },
   {
    "duration": 28,
    "start_time": "2024-08-09T04:29:20.138Z"
   },
   {
    "duration": 33,
    "start_time": "2024-08-09T04:29:20.169Z"
   },
   {
    "duration": 63,
    "start_time": "2024-08-09T04:29:20.205Z"
   },
   {
    "duration": 18,
    "start_time": "2024-08-09T04:29:20.271Z"
   },
   {
    "duration": 190,
    "start_time": "2024-08-09T04:29:20.292Z"
   },
   {
    "duration": 356,
    "start_time": "2024-08-09T04:29:20.485Z"
   },
   {
    "duration": 345,
    "start_time": "2024-08-09T04:29:20.844Z"
   },
   {
    "duration": 11,
    "start_time": "2024-08-09T04:29:21.193Z"
   },
   {
    "duration": 263,
    "start_time": "2024-08-09T04:29:21.208Z"
   },
   {
    "duration": 426,
    "start_time": "2024-08-09T04:29:21.474Z"
   },
   {
    "duration": 348,
    "start_time": "2024-08-09T04:29:21.904Z"
   },
   {
    "duration": 324,
    "start_time": "2024-08-09T04:29:22.255Z"
   },
   {
    "duration": 212,
    "start_time": "2024-08-09T04:29:22.582Z"
   },
   {
    "duration": 9,
    "start_time": "2024-08-09T04:29:22.796Z"
   },
   {
    "duration": 355,
    "start_time": "2024-08-09T04:29:22.808Z"
   },
   {
    "duration": 375,
    "start_time": "2024-08-09T04:29:23.166Z"
   },
   {
    "duration": 311,
    "start_time": "2024-08-09T04:29:23.544Z"
   },
   {
    "duration": 222,
    "start_time": "2024-08-09T04:29:23.858Z"
   },
   {
    "duration": 8,
    "start_time": "2024-08-09T04:29:24.084Z"
   },
   {
    "duration": 350,
    "start_time": "2024-08-09T04:29:24.095Z"
   },
   {
    "duration": 346,
    "start_time": "2024-08-09T04:29:24.449Z"
   },
   {
    "duration": 330,
    "start_time": "2024-08-09T04:29:24.798Z"
   },
   {
    "duration": 327,
    "start_time": "2024-08-09T04:29:25.133Z"
   },
   {
    "duration": 9,
    "start_time": "2024-08-09T04:29:25.463Z"
   },
   {
    "duration": 7,
    "start_time": "2024-08-09T04:29:25.476Z"
   },
   {
    "duration": 1524,
    "start_time": "2024-08-09T04:29:25.487Z"
   },
   {
    "duration": 12,
    "start_time": "2024-08-09T04:30:59.205Z"
   },
   {
    "duration": 17,
    "start_time": "2024-08-09T04:31:06.979Z"
   },
   {
    "duration": 1064,
    "start_time": "2024-08-09T04:32:29.671Z"
   },
   {
    "duration": 17,
    "start_time": "2024-08-09T04:32:49.097Z"
   },
   {
    "duration": 21,
    "start_time": "2024-08-09T04:33:20.880Z"
   },
   {
    "duration": 35,
    "start_time": "2024-08-09T04:36:09.783Z"
   },
   {
    "duration": 99,
    "start_time": "2024-08-09T04:36:24.591Z"
   },
   {
    "duration": 16,
    "start_time": "2024-08-09T04:37:11.427Z"
   },
   {
    "duration": 25,
    "start_time": "2024-08-09T04:38:07.400Z"
   },
   {
    "duration": 26,
    "start_time": "2024-08-09T04:38:26.956Z"
   },
   {
    "duration": 15,
    "start_time": "2024-08-09T04:38:49.255Z"
   },
   {
    "duration": 16,
    "start_time": "2024-08-09T04:40:23.221Z"
   },
   {
    "duration": 14,
    "start_time": "2024-08-09T04:40:43.878Z"
   },
   {
    "duration": 7,
    "start_time": "2024-08-09T04:41:06.591Z"
   },
   {
    "duration": 9,
    "start_time": "2024-08-09T04:41:21.928Z"
   },
   {
    "duration": 4868,
    "start_time": "2024-08-09T16:21:43.577Z"
   },
   {
    "duration": 371,
    "start_time": "2024-08-09T16:21:48.451Z"
   },
   {
    "duration": 18,
    "start_time": "2024-08-09T16:21:48.824Z"
   },
   {
    "duration": 17,
    "start_time": "2024-08-09T16:21:48.847Z"
   },
   {
    "duration": 3,
    "start_time": "2024-08-09T16:21:48.867Z"
   },
   {
    "duration": 5,
    "start_time": "2024-08-09T16:21:48.906Z"
   },
   {
    "duration": 17,
    "start_time": "2024-08-09T16:21:48.916Z"
   },
   {
    "duration": 18,
    "start_time": "2024-08-09T16:21:48.939Z"
   },
   {
    "duration": 7,
    "start_time": "2024-08-09T16:21:48.961Z"
   },
   {
    "duration": 9,
    "start_time": "2024-08-09T16:21:49.011Z"
   },
   {
    "duration": 28,
    "start_time": "2024-08-09T16:21:49.023Z"
   },
   {
    "duration": 51,
    "start_time": "2024-08-09T16:21:49.054Z"
   },
   {
    "duration": 16,
    "start_time": "2024-08-09T16:21:49.110Z"
   },
   {
    "duration": 27,
    "start_time": "2024-08-09T16:21:49.130Z"
   },
   {
    "duration": 116,
    "start_time": "2024-08-09T16:21:49.160Z"
   },
   {
    "duration": 33,
    "start_time": "2024-08-09T16:21:49.278Z"
   },
   {
    "duration": 13,
    "start_time": "2024-08-09T16:21:49.314Z"
   },
   {
    "duration": 19,
    "start_time": "2024-08-09T16:21:49.331Z"
   },
   {
    "duration": 10,
    "start_time": "2024-08-09T16:21:49.353Z"
   },
   {
    "duration": 21,
    "start_time": "2024-08-09T16:21:49.406Z"
   },
   {
    "duration": 16,
    "start_time": "2024-08-09T16:21:49.431Z"
   },
   {
    "duration": 13,
    "start_time": "2024-08-09T16:21:49.450Z"
   },
   {
    "duration": 55,
    "start_time": "2024-08-09T16:21:49.466Z"
   },
   {
    "duration": 11,
    "start_time": "2024-08-09T16:21:49.524Z"
   },
   {
    "duration": 8,
    "start_time": "2024-08-09T16:21:49.538Z"
   },
   {
    "duration": 79,
    "start_time": "2024-08-09T16:21:49.549Z"
   },
   {
    "duration": 30,
    "start_time": "2024-08-09T16:21:49.631Z"
   },
   {
    "duration": 48,
    "start_time": "2024-08-09T16:21:49.669Z"
   },
   {
    "duration": 35,
    "start_time": "2024-08-09T16:21:49.720Z"
   },
   {
    "duration": 64,
    "start_time": "2024-08-09T16:21:49.758Z"
   },
   {
    "duration": 16,
    "start_time": "2024-08-09T16:21:49.827Z"
   },
   {
    "duration": 197,
    "start_time": "2024-08-09T16:21:49.846Z"
   },
   {
    "duration": 371,
    "start_time": "2024-08-09T16:21:50.046Z"
   },
   {
    "duration": 352,
    "start_time": "2024-08-09T16:21:50.420Z"
   },
   {
    "duration": 11,
    "start_time": "2024-08-09T16:21:50.775Z"
   },
   {
    "duration": 221,
    "start_time": "2024-08-09T16:21:50.806Z"
   },
   {
    "duration": 376,
    "start_time": "2024-08-09T16:21:51.030Z"
   },
   {
    "duration": 362,
    "start_time": "2024-08-09T16:21:51.411Z"
   },
   {
    "duration": 328,
    "start_time": "2024-08-09T16:21:51.777Z"
   },
   {
    "duration": 220,
    "start_time": "2024-08-09T16:21:52.109Z"
   },
   {
    "duration": 9,
    "start_time": "2024-08-09T16:21:52.332Z"
   },
   {
    "duration": 449,
    "start_time": "2024-08-09T16:21:52.344Z"
   },
   {
    "duration": 363,
    "start_time": "2024-08-09T16:21:52.796Z"
   },
   {
    "duration": 331,
    "start_time": "2024-08-09T16:21:53.163Z"
   },
   {
    "duration": 229,
    "start_time": "2024-08-09T16:21:53.506Z"
   },
   {
    "duration": 9,
    "start_time": "2024-08-09T16:21:53.738Z"
   },
   {
    "duration": 363,
    "start_time": "2024-08-09T16:21:53.750Z"
   },
   {
    "duration": 373,
    "start_time": "2024-08-09T16:21:54.116Z"
   },
   {
    "duration": 320,
    "start_time": "2024-08-09T16:21:54.492Z"
   },
   {
    "duration": 220,
    "start_time": "2024-08-09T16:21:54.818Z"
   },
   {
    "duration": 9,
    "start_time": "2024-08-09T16:21:55.042Z"
   },
   {
    "duration": 7,
    "start_time": "2024-08-09T16:21:55.054Z"
   },
   {
    "duration": 45,
    "start_time": "2024-08-09T16:21:55.064Z"
   },
   {
    "duration": 22,
    "start_time": "2024-08-09T17:11:20.273Z"
   },
   {
    "duration": 6,
    "start_time": "2024-08-09T17:11:30.796Z"
   },
   {
    "duration": 9,
    "start_time": "2024-08-09T17:17:31.831Z"
   },
   {
    "duration": 23,
    "start_time": "2024-08-09T17:17:43.718Z"
   },
   {
    "duration": 34,
    "start_time": "2024-08-09T17:17:52.425Z"
   },
   {
    "duration": 8,
    "start_time": "2024-08-09T17:18:46.051Z"
   },
   {
    "duration": 1225,
    "start_time": "2024-08-09T17:45:44.623Z"
   },
   {
    "duration": 282,
    "start_time": "2024-08-09T17:45:45.854Z"
   },
   {
    "duration": 17,
    "start_time": "2024-08-09T17:45:46.139Z"
   },
   {
    "duration": 17,
    "start_time": "2024-08-09T17:45:46.161Z"
   },
   {
    "duration": 5,
    "start_time": "2024-08-09T17:45:46.206Z"
   },
   {
    "duration": 5,
    "start_time": "2024-08-09T17:45:46.213Z"
   },
   {
    "duration": 16,
    "start_time": "2024-08-09T17:45:46.221Z"
   },
   {
    "duration": 17,
    "start_time": "2024-08-09T17:45:46.240Z"
   },
   {
    "duration": 49,
    "start_time": "2024-08-09T17:45:46.260Z"
   },
   {
    "duration": 8,
    "start_time": "2024-08-09T17:45:46.315Z"
   },
   {
    "duration": 25,
    "start_time": "2024-08-09T17:45:46.327Z"
   },
   {
    "duration": 59,
    "start_time": "2024-08-09T17:45:46.357Z"
   },
   {
    "duration": 6,
    "start_time": "2024-08-09T17:45:46.419Z"
   },
   {
    "duration": 31,
    "start_time": "2024-08-09T17:45:46.428Z"
   },
   {
    "duration": 145,
    "start_time": "2024-08-09T17:45:46.462Z"
   },
   {
    "duration": 20,
    "start_time": "2024-08-09T17:45:46.610Z"
   },
   {
    "duration": 14,
    "start_time": "2024-08-09T17:45:46.633Z"
   },
   {
    "duration": 56,
    "start_time": "2024-08-09T17:45:46.650Z"
   },
   {
    "duration": 10,
    "start_time": "2024-08-09T17:45:46.709Z"
   },
   {
    "duration": 24,
    "start_time": "2024-08-09T17:45:46.721Z"
   },
   {
    "duration": 17,
    "start_time": "2024-08-09T17:45:46.748Z"
   },
   {
    "duration": 49,
    "start_time": "2024-08-09T17:45:46.768Z"
   },
   {
    "duration": 20,
    "start_time": "2024-08-09T17:45:46.820Z"
   },
   {
    "duration": 11,
    "start_time": "2024-08-09T17:45:46.843Z"
   },
   {
    "duration": 48,
    "start_time": "2024-08-09T17:45:46.858Z"
   },
   {
    "duration": 49,
    "start_time": "2024-08-09T17:45:46.909Z"
   },
   {
    "duration": 57,
    "start_time": "2024-08-09T17:45:46.962Z"
   },
   {
    "duration": 28,
    "start_time": "2024-08-09T17:45:47.028Z"
   },
   {
    "duration": 58,
    "start_time": "2024-08-09T17:45:47.060Z"
   },
   {
    "duration": 39,
    "start_time": "2024-08-09T17:45:47.120Z"
   },
   {
    "duration": 16,
    "start_time": "2024-08-09T17:45:47.162Z"
   },
   {
    "duration": 168,
    "start_time": "2024-08-09T17:45:47.208Z"
   },
   {
    "duration": 387,
    "start_time": "2024-08-09T17:45:47.382Z"
   },
   {
    "duration": 348,
    "start_time": "2024-08-09T17:45:47.772Z"
   },
   {
    "duration": 10,
    "start_time": "2024-08-09T17:45:48.124Z"
   },
   {
    "duration": 249,
    "start_time": "2024-08-09T17:45:48.137Z"
   },
   {
    "duration": 433,
    "start_time": "2024-08-09T17:45:48.390Z"
   },
   {
    "duration": 355,
    "start_time": "2024-08-09T17:45:48.826Z"
   },
   {
    "duration": 326,
    "start_time": "2024-08-09T17:45:49.184Z"
   },
   {
    "duration": 228,
    "start_time": "2024-08-09T17:45:49.513Z"
   },
   {
    "duration": 9,
    "start_time": "2024-08-09T17:45:49.743Z"
   },
   {
    "duration": 366,
    "start_time": "2024-08-09T17:45:49.755Z"
   },
   {
    "duration": 367,
    "start_time": "2024-08-09T17:45:50.125Z"
   },
   {
    "duration": 351,
    "start_time": "2024-08-09T17:45:50.495Z"
   },
   {
    "duration": 228,
    "start_time": "2024-08-09T17:45:50.849Z"
   },
   {
    "duration": 25,
    "start_time": "2024-08-09T17:45:51.081Z"
   },
   {
    "duration": 346,
    "start_time": "2024-08-09T17:45:51.110Z"
   },
   {
    "duration": 367,
    "start_time": "2024-08-09T17:45:51.459Z"
   },
   {
    "duration": 323,
    "start_time": "2024-08-09T17:45:51.830Z"
   },
   {
    "duration": 323,
    "start_time": "2024-08-09T17:45:52.156Z"
   },
   {
    "duration": 9,
    "start_time": "2024-08-09T17:45:52.482Z"
   },
   {
    "duration": 8,
    "start_time": "2024-08-09T17:45:52.507Z"
   },
   {
    "duration": 17,
    "start_time": "2024-08-09T17:45:52.519Z"
   },
   {
    "duration": 1232,
    "start_time": "2024-08-09T17:52:08.925Z"
   },
   {
    "duration": 282,
    "start_time": "2024-08-09T17:52:10.162Z"
   },
   {
    "duration": 17,
    "start_time": "2024-08-09T17:52:10.447Z"
   },
   {
    "duration": 17,
    "start_time": "2024-08-09T17:52:10.468Z"
   },
   {
    "duration": 4,
    "start_time": "2024-08-09T17:52:10.508Z"
   },
   {
    "duration": 3,
    "start_time": "2024-08-09T17:52:10.519Z"
   },
   {
    "duration": 17,
    "start_time": "2024-08-09T17:52:10.526Z"
   },
   {
    "duration": 59,
    "start_time": "2024-08-09T17:52:10.547Z"
   },
   {
    "duration": 8,
    "start_time": "2024-08-09T17:52:10.609Z"
   },
   {
    "duration": 7,
    "start_time": "2024-08-09T17:52:10.624Z"
   },
   {
    "duration": 25,
    "start_time": "2024-08-09T17:52:10.635Z"
   },
   {
    "duration": 55,
    "start_time": "2024-08-09T17:52:10.662Z"
   },
   {
    "duration": 16,
    "start_time": "2024-08-09T17:52:10.722Z"
   },
   {
    "duration": 24,
    "start_time": "2024-08-09T17:52:10.742Z"
   },
   {
    "duration": 88,
    "start_time": "2024-08-09T17:52:10.806Z"
   },
   {
    "duration": 29,
    "start_time": "2024-08-09T17:52:10.897Z"
   },
   {
    "duration": 15,
    "start_time": "2024-08-09T17:52:10.930Z"
   },
   {
    "duration": 57,
    "start_time": "2024-08-09T17:52:10.949Z"
   },
   {
    "duration": 10,
    "start_time": "2024-08-09T17:52:11.009Z"
   },
   {
    "duration": 23,
    "start_time": "2024-08-09T17:52:11.022Z"
   },
   {
    "duration": 17,
    "start_time": "2024-08-09T17:52:11.049Z"
   },
   {
    "duration": 12,
    "start_time": "2024-08-09T17:52:11.105Z"
   },
   {
    "duration": 22,
    "start_time": "2024-08-09T17:52:11.119Z"
   },
   {
    "duration": 11,
    "start_time": "2024-08-09T17:52:11.144Z"
   },
   {
    "duration": 7,
    "start_time": "2024-08-09T17:52:11.158Z"
   },
   {
    "duration": 40,
    "start_time": "2024-08-09T17:52:11.207Z"
   },
   {
    "duration": 56,
    "start_time": "2024-08-09T17:52:11.251Z"
   },
   {
    "duration": 30,
    "start_time": "2024-08-09T17:52:11.316Z"
   },
   {
    "duration": 62,
    "start_time": "2024-08-09T17:52:11.349Z"
   },
   {
    "duration": 36,
    "start_time": "2024-08-09T17:52:11.413Z"
   },
   {
    "duration": 18,
    "start_time": "2024-08-09T17:52:11.452Z"
   },
   {
    "duration": 200,
    "start_time": "2024-08-09T17:52:11.473Z"
   },
   {
    "duration": 367,
    "start_time": "2024-08-09T17:52:11.676Z"
   },
   {
    "duration": 348,
    "start_time": "2024-08-09T17:52:12.046Z"
   },
   {
    "duration": 12,
    "start_time": "2024-08-09T17:52:12.398Z"
   },
   {
    "duration": 238,
    "start_time": "2024-08-09T17:52:12.414Z"
   },
   {
    "duration": 449,
    "start_time": "2024-08-09T17:52:12.657Z"
   },
   {
    "duration": 349,
    "start_time": "2024-08-09T17:52:13.109Z"
   },
   {
    "duration": 325,
    "start_time": "2024-08-09T17:52:13.461Z"
   },
   {
    "duration": 216,
    "start_time": "2024-08-09T17:52:13.790Z"
   },
   {
    "duration": 9,
    "start_time": "2024-08-09T17:52:14.009Z"
   },
   {
    "duration": 373,
    "start_time": "2024-08-09T17:52:14.021Z"
   },
   {
    "duration": 375,
    "start_time": "2024-08-09T17:52:14.397Z"
   },
   {
    "duration": 326,
    "start_time": "2024-08-09T17:52:14.776Z"
   },
   {
    "duration": 227,
    "start_time": "2024-08-09T17:52:15.107Z"
   },
   {
    "duration": 8,
    "start_time": "2024-08-09T17:52:15.337Z"
   },
   {
    "duration": 362,
    "start_time": "2024-08-09T17:52:15.348Z"
   },
   {
    "duration": 366,
    "start_time": "2024-08-09T17:52:15.714Z"
   },
   {
    "duration": 316,
    "start_time": "2024-08-09T17:52:16.083Z"
   },
   {
    "duration": 353,
    "start_time": "2024-08-09T17:52:16.407Z"
   },
   {
    "duration": 8,
    "start_time": "2024-08-09T17:52:16.764Z"
   },
   {
    "duration": 34,
    "start_time": "2024-08-09T17:52:16.776Z"
   },
   {
    "duration": 14,
    "start_time": "2024-08-09T17:52:16.814Z"
   },
   {
    "duration": 1216,
    "start_time": "2024-08-09T17:53:34.046Z"
   },
   {
    "duration": 281,
    "start_time": "2024-08-09T17:53:35.267Z"
   },
   {
    "duration": 17,
    "start_time": "2024-08-09T17:53:35.552Z"
   },
   {
    "duration": 38,
    "start_time": "2024-08-09T17:53:35.572Z"
   },
   {
    "duration": 4,
    "start_time": "2024-08-09T17:53:35.614Z"
   },
   {
    "duration": 4,
    "start_time": "2024-08-09T17:53:35.621Z"
   },
   {
    "duration": 15,
    "start_time": "2024-08-09T17:53:35.629Z"
   },
   {
    "duration": 58,
    "start_time": "2024-08-09T17:53:35.648Z"
   },
   {
    "duration": 9,
    "start_time": "2024-08-09T17:53:35.709Z"
   },
   {
    "duration": 9,
    "start_time": "2024-08-09T17:53:35.721Z"
   },
   {
    "duration": 23,
    "start_time": "2024-08-09T17:53:35.734Z"
   },
   {
    "duration": 53,
    "start_time": "2024-08-09T17:53:35.761Z"
   },
   {
    "duration": 17,
    "start_time": "2024-08-09T17:53:35.818Z"
   },
   {
    "duration": 26,
    "start_time": "2024-08-09T17:53:35.843Z"
   },
   {
    "duration": 98,
    "start_time": "2024-08-09T17:53:35.908Z"
   },
   {
    "duration": 21,
    "start_time": "2024-08-09T17:53:36.009Z"
   },
   {
    "duration": 14,
    "start_time": "2024-08-09T17:53:36.033Z"
   },
   {
    "duration": 56,
    "start_time": "2024-08-09T17:53:36.050Z"
   },
   {
    "duration": 11,
    "start_time": "2024-08-09T17:53:36.109Z"
   },
   {
    "duration": 24,
    "start_time": "2024-08-09T17:53:36.124Z"
   },
   {
    "duration": 16,
    "start_time": "2024-08-09T17:53:36.151Z"
   },
   {
    "duration": 37,
    "start_time": "2024-08-09T17:53:36.170Z"
   },
   {
    "duration": 26,
    "start_time": "2024-08-09T17:53:36.211Z"
   },
   {
    "duration": 13,
    "start_time": "2024-08-09T17:53:36.239Z"
   },
   {
    "duration": 7,
    "start_time": "2024-08-09T17:53:36.255Z"
   },
   {
    "duration": 79,
    "start_time": "2024-08-09T17:53:36.266Z"
   },
   {
    "duration": 59,
    "start_time": "2024-08-09T17:53:36.348Z"
   },
   {
    "duration": 30,
    "start_time": "2024-08-09T17:53:36.410Z"
   },
   {
    "duration": 33,
    "start_time": "2024-08-09T17:53:36.443Z"
   },
   {
    "duration": 63,
    "start_time": "2024-08-09T17:53:36.478Z"
   },
   {
    "duration": 17,
    "start_time": "2024-08-09T17:53:36.544Z"
   },
   {
    "duration": 200,
    "start_time": "2024-08-09T17:53:36.564Z"
   },
   {
    "duration": 388,
    "start_time": "2024-08-09T17:53:36.768Z"
   },
   {
    "duration": 343,
    "start_time": "2024-08-09T17:53:37.159Z"
   },
   {
    "duration": 11,
    "start_time": "2024-08-09T17:53:37.504Z"
   },
   {
    "duration": 241,
    "start_time": "2024-08-09T17:53:37.518Z"
   },
   {
    "duration": 462,
    "start_time": "2024-08-09T17:53:37.763Z"
   },
   {
    "duration": 382,
    "start_time": "2024-08-09T17:53:38.231Z"
   },
   {
    "duration": 331,
    "start_time": "2024-08-09T17:53:38.616Z"
   },
   {
    "duration": 224,
    "start_time": "2024-08-09T17:53:38.951Z"
   },
   {
    "duration": 8,
    "start_time": "2024-08-09T17:53:39.183Z"
   },
   {
    "duration": 370,
    "start_time": "2024-08-09T17:53:39.208Z"
   },
   {
    "duration": 365,
    "start_time": "2024-08-09T17:53:39.582Z"
   },
   {
    "duration": 337,
    "start_time": "2024-08-09T17:53:39.951Z"
   },
   {
    "duration": 232,
    "start_time": "2024-08-09T17:53:40.291Z"
   },
   {
    "duration": 8,
    "start_time": "2024-08-09T17:53:40.526Z"
   },
   {
    "duration": 364,
    "start_time": "2024-08-09T17:53:40.537Z"
   },
   {
    "duration": 378,
    "start_time": "2024-08-09T17:53:40.907Z"
   },
   {
    "duration": 321,
    "start_time": "2024-08-09T17:53:41.288Z"
   },
   {
    "duration": 338,
    "start_time": "2024-08-09T17:53:41.612Z"
   },
   {
    "duration": 10,
    "start_time": "2024-08-09T17:53:41.953Z"
   },
   {
    "duration": 7,
    "start_time": "2024-08-09T17:53:41.967Z"
   },
   {
    "duration": 15,
    "start_time": "2024-08-09T17:53:42.005Z"
   },
   {
    "duration": 487,
    "start_time": "2024-08-09T17:55:56.854Z"
   },
   {
    "duration": 1197,
    "start_time": "2024-08-09T17:56:09.158Z"
   },
   {
    "duration": 286,
    "start_time": "2024-08-09T17:56:10.360Z"
   },
   {
    "duration": 16,
    "start_time": "2024-08-09T17:56:10.649Z"
   },
   {
    "duration": 40,
    "start_time": "2024-08-09T17:56:10.668Z"
   },
   {
    "duration": 4,
    "start_time": "2024-08-09T17:56:10.712Z"
   },
   {
    "duration": 4,
    "start_time": "2024-08-09T17:56:10.719Z"
   },
   {
    "duration": 15,
    "start_time": "2024-08-09T17:56:10.727Z"
   },
   {
    "duration": 17,
    "start_time": "2024-08-09T17:56:10.745Z"
   },
   {
    "duration": 9,
    "start_time": "2024-08-09T17:56:10.808Z"
   },
   {
    "duration": 8,
    "start_time": "2024-08-09T17:56:10.820Z"
   },
   {
    "duration": 26,
    "start_time": "2024-08-09T17:56:10.831Z"
   },
   {
    "duration": 59,
    "start_time": "2024-08-09T17:56:10.860Z"
   },
   {
    "duration": 18,
    "start_time": "2024-08-09T17:56:10.922Z"
   },
   {
    "duration": 26,
    "start_time": "2024-08-09T17:56:10.948Z"
   },
   {
    "duration": 103,
    "start_time": "2024-08-09T17:56:11.005Z"
   },
   {
    "duration": 21,
    "start_time": "2024-08-09T17:56:11.112Z"
   },
   {
    "duration": 14,
    "start_time": "2024-08-09T17:56:11.137Z"
   },
   {
    "duration": 55,
    "start_time": "2024-08-09T17:56:11.155Z"
   },
   {
    "duration": 10,
    "start_time": "2024-08-09T17:56:11.213Z"
   },
   {
    "duration": 23,
    "start_time": "2024-08-09T17:56:11.226Z"
   },
   {
    "duration": 16,
    "start_time": "2024-08-09T17:56:11.252Z"
   },
   {
    "duration": 4,
    "start_time": "2024-08-09T17:56:11.307Z"
   },
   {
    "duration": 25,
    "start_time": "2024-08-09T17:56:11.316Z"
   },
   {
    "duration": 13,
    "start_time": "2024-08-09T17:56:11.343Z"
   },
   {
    "duration": 47,
    "start_time": "2024-08-09T17:56:11.358Z"
   },
   {
    "duration": 40,
    "start_time": "2024-08-09T17:56:11.408Z"
   },
   {
    "duration": 60,
    "start_time": "2024-08-09T17:56:11.451Z"
   },
   {
    "duration": 29,
    "start_time": "2024-08-09T17:56:11.514Z"
   },
   {
    "duration": 33,
    "start_time": "2024-08-09T17:56:11.546Z"
   },
   {
    "duration": 37,
    "start_time": "2024-08-09T17:56:11.607Z"
   },
   {
    "duration": 17,
    "start_time": "2024-08-09T17:56:11.647Z"
   },
   {
    "duration": 200,
    "start_time": "2024-08-09T17:56:11.666Z"
   },
   {
    "duration": 367,
    "start_time": "2024-08-09T17:56:11.869Z"
   },
   {
    "duration": 339,
    "start_time": "2024-08-09T17:56:12.239Z"
   },
   {
    "duration": 9,
    "start_time": "2024-08-09T17:56:12.581Z"
   },
   {
    "duration": 225,
    "start_time": "2024-08-09T17:56:12.607Z"
   },
   {
    "duration": 435,
    "start_time": "2024-08-09T17:56:12.835Z"
   },
   {
    "duration": 351,
    "start_time": "2024-08-09T17:56:13.273Z"
   },
   {
    "duration": 331,
    "start_time": "2024-08-09T17:56:13.628Z"
   },
   {
    "duration": 212,
    "start_time": "2024-08-09T17:56:13.963Z"
   },
   {
    "duration": 8,
    "start_time": "2024-08-09T17:56:14.183Z"
   },
   {
    "duration": 401,
    "start_time": "2024-08-09T17:56:14.194Z"
   },
   {
    "duration": 358,
    "start_time": "2024-08-09T17:56:14.607Z"
   },
   {
    "duration": 338,
    "start_time": "2024-08-09T17:56:14.968Z"
   },
   {
    "duration": 226,
    "start_time": "2024-08-09T17:56:15.309Z"
   },
   {
    "duration": 8,
    "start_time": "2024-08-09T17:56:15.539Z"
   },
   {
    "duration": 360,
    "start_time": "2024-08-09T17:56:15.550Z"
   },
   {
    "duration": 358,
    "start_time": "2024-08-09T17:56:15.913Z"
   },
   {
    "duration": 331,
    "start_time": "2024-08-09T17:56:16.275Z"
   },
   {
    "duration": 332,
    "start_time": "2024-08-09T17:56:16.609Z"
   },
   {
    "duration": 11,
    "start_time": "2024-08-09T17:56:16.944Z"
   },
   {
    "duration": 12,
    "start_time": "2024-08-09T17:56:16.958Z"
   },
   {
    "duration": 45,
    "start_time": "2024-08-09T17:56:16.974Z"
   },
   {
    "duration": 7,
    "start_time": "2024-08-09T18:38:22.507Z"
   },
   {
    "duration": 7,
    "start_time": "2024-08-09T18:40:46.164Z"
   },
   {
    "duration": 8,
    "start_time": "2024-08-09T18:41:04.170Z"
   },
   {
    "duration": 7,
    "start_time": "2024-08-09T18:41:27.471Z"
   },
   {
    "duration": 7,
    "start_time": "2024-08-09T18:42:47.022Z"
   },
   {
    "duration": 11,
    "start_time": "2024-08-09T19:22:46.283Z"
   },
   {
    "duration": 15,
    "start_time": "2024-08-09T19:33:43.865Z"
   },
   {
    "duration": 16,
    "start_time": "2024-08-09T19:34:57.595Z"
   },
   {
    "duration": 1570,
    "start_time": "2024-08-09T19:48:05.581Z"
   },
   {
    "duration": 13,
    "start_time": "2024-08-09T19:48:28.339Z"
   },
   {
    "duration": 88,
    "start_time": "2024-08-09T19:48:32.493Z"
   },
   {
    "duration": 4515,
    "start_time": "2024-08-09T19:48:48.658Z"
   },
   {
    "duration": 1440,
    "start_time": "2024-08-09T20:03:03.021Z"
   },
   {
    "duration": 300,
    "start_time": "2024-08-09T20:03:04.466Z"
   },
   {
    "duration": 19,
    "start_time": "2024-08-09T20:03:04.769Z"
   },
   {
    "duration": 30,
    "start_time": "2024-08-09T20:03:04.792Z"
   },
   {
    "duration": 3,
    "start_time": "2024-08-09T20:03:04.825Z"
   },
   {
    "duration": 4,
    "start_time": "2024-08-09T20:03:04.831Z"
   },
   {
    "duration": 15,
    "start_time": "2024-08-09T20:03:04.839Z"
   },
   {
    "duration": 58,
    "start_time": "2024-08-09T20:03:04.856Z"
   },
   {
    "duration": 9,
    "start_time": "2024-08-09T20:03:04.917Z"
   },
   {
    "duration": 7,
    "start_time": "2024-08-09T20:03:04.934Z"
   },
   {
    "duration": 63,
    "start_time": "2024-08-09T20:03:04.944Z"
   },
   {
    "duration": 17,
    "start_time": "2024-08-09T20:03:05.010Z"
   },
   {
    "duration": 16,
    "start_time": "2024-08-09T20:03:05.030Z"
   },
   {
    "duration": 24,
    "start_time": "2024-08-09T20:03:05.049Z"
   },
   {
    "duration": 98,
    "start_time": "2024-08-09T20:03:05.108Z"
   },
   {
    "duration": 24,
    "start_time": "2024-08-09T20:03:05.210Z"
   },
   {
    "duration": 17,
    "start_time": "2024-08-09T20:03:05.236Z"
   },
   {
    "duration": 50,
    "start_time": "2024-08-09T20:03:05.256Z"
   },
   {
    "duration": 10,
    "start_time": "2024-08-09T20:03:05.308Z"
   },
   {
    "duration": 25,
    "start_time": "2024-08-09T20:03:05.321Z"
   },
   {
    "duration": 17,
    "start_time": "2024-08-09T20:03:05.349Z"
   },
   {
    "duration": 39,
    "start_time": "2024-08-09T20:03:05.407Z"
   },
   {
    "duration": 23,
    "start_time": "2024-08-09T20:03:05.448Z"
   },
   {
    "duration": 40,
    "start_time": "2024-08-09T20:03:05.474Z"
   },
   {
    "duration": 8,
    "start_time": "2024-08-09T20:03:05.516Z"
   },
   {
    "duration": 41,
    "start_time": "2024-08-09T20:03:05.528Z"
   },
   {
    "duration": 61,
    "start_time": "2024-08-09T20:03:05.572Z"
   },
   {
    "duration": 30,
    "start_time": "2024-08-09T20:03:05.642Z"
   },
   {
    "duration": 1471,
    "start_time": "2024-08-09T20:03:05.676Z"
   },
   {
    "duration": 0,
    "start_time": "2024-08-09T20:03:07.150Z"
   },
   {
    "duration": 0,
    "start_time": "2024-08-09T20:03:07.152Z"
   },
   {
    "duration": 0,
    "start_time": "2024-08-09T20:03:07.153Z"
   },
   {
    "duration": 0,
    "start_time": "2024-08-09T20:03:07.156Z"
   },
   {
    "duration": 0,
    "start_time": "2024-08-09T20:03:07.157Z"
   },
   {
    "duration": 0,
    "start_time": "2024-08-09T20:03:07.159Z"
   },
   {
    "duration": 0,
    "start_time": "2024-08-09T20:03:07.162Z"
   },
   {
    "duration": 0,
    "start_time": "2024-08-09T20:03:07.164Z"
   },
   {
    "duration": 0,
    "start_time": "2024-08-09T20:03:07.166Z"
   },
   {
    "duration": 0,
    "start_time": "2024-08-09T20:03:07.167Z"
   },
   {
    "duration": 0,
    "start_time": "2024-08-09T20:03:07.169Z"
   },
   {
    "duration": 0,
    "start_time": "2024-08-09T20:03:07.207Z"
   },
   {
    "duration": 0,
    "start_time": "2024-08-09T20:03:07.212Z"
   },
   {
    "duration": 0,
    "start_time": "2024-08-09T20:03:07.214Z"
   },
   {
    "duration": 0,
    "start_time": "2024-08-09T20:03:07.216Z"
   },
   {
    "duration": 0,
    "start_time": "2024-08-09T20:03:07.217Z"
   },
   {
    "duration": 0,
    "start_time": "2024-08-09T20:03:07.219Z"
   },
   {
    "duration": 0,
    "start_time": "2024-08-09T20:03:07.220Z"
   },
   {
    "duration": 0,
    "start_time": "2024-08-09T20:03:07.223Z"
   },
   {
    "duration": 0,
    "start_time": "2024-08-09T20:03:07.225Z"
   },
   {
    "duration": 0,
    "start_time": "2024-08-09T20:03:07.227Z"
   },
   {
    "duration": 0,
    "start_time": "2024-08-09T20:03:07.230Z"
   },
   {
    "duration": 0,
    "start_time": "2024-08-09T20:03:07.232Z"
   },
   {
    "duration": 0,
    "start_time": "2024-08-09T20:03:07.233Z"
   },
   {
    "duration": 30,
    "start_time": "2024-08-09T20:03:17.597Z"
   },
   {
    "duration": 424,
    "start_time": "2024-08-09T20:08:12.165Z"
   },
   {
    "duration": 437,
    "start_time": "2024-08-09T20:08:43.097Z"
   },
   {
    "duration": 14,
    "start_time": "2024-08-09T20:09:07.261Z"
   },
   {
    "duration": 18,
    "start_time": "2024-08-09T20:10:12.436Z"
   },
   {
    "duration": 1253,
    "start_time": "2024-08-09T20:10:49.410Z"
   },
   {
    "duration": 282,
    "start_time": "2024-08-09T20:10:50.668Z"
   },
   {
    "duration": 16,
    "start_time": "2024-08-09T20:10:50.953Z"
   },
   {
    "duration": 37,
    "start_time": "2024-08-09T20:10:50.975Z"
   },
   {
    "duration": 5,
    "start_time": "2024-08-09T20:10:51.015Z"
   },
   {
    "duration": 3,
    "start_time": "2024-08-09T20:10:51.024Z"
   },
   {
    "duration": 15,
    "start_time": "2024-08-09T20:10:51.030Z"
   },
   {
    "duration": 58,
    "start_time": "2024-08-09T20:10:51.050Z"
   },
   {
    "duration": 8,
    "start_time": "2024-08-09T20:10:51.111Z"
   },
   {
    "duration": 8,
    "start_time": "2024-08-09T20:10:51.126Z"
   },
   {
    "duration": 25,
    "start_time": "2024-08-09T20:10:51.137Z"
   },
   {
    "duration": 57,
    "start_time": "2024-08-09T20:10:51.165Z"
   },
   {
    "duration": 14,
    "start_time": "2024-08-09T20:10:51.226Z"
   },
   {
    "duration": 24,
    "start_time": "2024-08-09T20:10:51.243Z"
   },
   {
    "duration": 138,
    "start_time": "2024-08-09T20:10:51.270Z"
   },
   {
    "duration": 22,
    "start_time": "2024-08-09T20:10:51.411Z"
   },
   {
    "duration": 13,
    "start_time": "2024-08-09T20:10:51.437Z"
   },
   {
    "duration": 56,
    "start_time": "2024-08-09T20:10:51.454Z"
   },
   {
    "duration": 11,
    "start_time": "2024-08-09T20:10:51.513Z"
   },
   {
    "duration": 23,
    "start_time": "2024-08-09T20:10:51.527Z"
   },
   {
    "duration": 17,
    "start_time": "2024-08-09T20:10:51.553Z"
   },
   {
    "duration": 40,
    "start_time": "2024-08-09T20:10:51.608Z"
   },
   {
    "duration": 23,
    "start_time": "2024-08-09T20:10:51.650Z"
   },
   {
    "duration": 37,
    "start_time": "2024-08-09T20:10:51.676Z"
   },
   {
    "duration": 8,
    "start_time": "2024-08-09T20:10:51.716Z"
   },
   {
    "duration": 42,
    "start_time": "2024-08-09T20:10:51.729Z"
   },
   {
    "duration": 62,
    "start_time": "2024-08-09T20:10:51.774Z"
   },
   {
    "duration": 27,
    "start_time": "2024-08-09T20:10:51.845Z"
   },
   {
    "duration": 1493,
    "start_time": "2024-08-09T20:10:51.875Z"
   },
   {
    "duration": 0,
    "start_time": "2024-08-09T20:10:53.371Z"
   },
   {
    "duration": 0,
    "start_time": "2024-08-09T20:10:53.378Z"
   },
   {
    "duration": 0,
    "start_time": "2024-08-09T20:10:53.380Z"
   },
   {
    "duration": 0,
    "start_time": "2024-08-09T20:10:53.382Z"
   },
   {
    "duration": 0,
    "start_time": "2024-08-09T20:10:53.384Z"
   },
   {
    "duration": 0,
    "start_time": "2024-08-09T20:10:53.387Z"
   },
   {
    "duration": 0,
    "start_time": "2024-08-09T20:10:53.408Z"
   },
   {
    "duration": 0,
    "start_time": "2024-08-09T20:10:53.411Z"
   },
   {
    "duration": 0,
    "start_time": "2024-08-09T20:10:53.413Z"
   },
   {
    "duration": 0,
    "start_time": "2024-08-09T20:10:53.415Z"
   },
   {
    "duration": 0,
    "start_time": "2024-08-09T20:10:53.418Z"
   },
   {
    "duration": 0,
    "start_time": "2024-08-09T20:10:53.420Z"
   },
   {
    "duration": 0,
    "start_time": "2024-08-09T20:10:53.422Z"
   },
   {
    "duration": 0,
    "start_time": "2024-08-09T20:10:53.424Z"
   },
   {
    "duration": 0,
    "start_time": "2024-08-09T20:10:53.426Z"
   },
   {
    "duration": 0,
    "start_time": "2024-08-09T20:10:53.428Z"
   },
   {
    "duration": 0,
    "start_time": "2024-08-09T20:10:53.431Z"
   },
   {
    "duration": 0,
    "start_time": "2024-08-09T20:10:53.433Z"
   },
   {
    "duration": 0,
    "start_time": "2024-08-09T20:10:53.436Z"
   },
   {
    "duration": 0,
    "start_time": "2024-08-09T20:10:53.439Z"
   },
   {
    "duration": 0,
    "start_time": "2024-08-09T20:10:53.441Z"
   },
   {
    "duration": 0,
    "start_time": "2024-08-09T20:10:53.443Z"
   },
   {
    "duration": 0,
    "start_time": "2024-08-09T20:10:53.445Z"
   },
   {
    "duration": 0,
    "start_time": "2024-08-09T20:10:53.448Z"
   },
   {
    "duration": 1195,
    "start_time": "2024-08-09T20:11:55.058Z"
   },
   {
    "duration": 281,
    "start_time": "2024-08-09T20:11:56.257Z"
   },
   {
    "duration": 19,
    "start_time": "2024-08-09T20:11:56.542Z"
   },
   {
    "duration": 17,
    "start_time": "2024-08-09T20:11:56.565Z"
   },
   {
    "duration": 4,
    "start_time": "2024-08-09T20:11:56.607Z"
   },
   {
    "duration": 4,
    "start_time": "2024-08-09T20:11:56.615Z"
   },
   {
    "duration": 15,
    "start_time": "2024-08-09T20:11:56.622Z"
   },
   {
    "duration": 17,
    "start_time": "2024-08-09T20:11:56.639Z"
   },
   {
    "duration": 48,
    "start_time": "2024-08-09T20:11:56.660Z"
   },
   {
    "duration": 9,
    "start_time": "2024-08-09T20:11:56.716Z"
   },
   {
    "duration": 25,
    "start_time": "2024-08-09T20:11:56.728Z"
   },
   {
    "duration": 55,
    "start_time": "2024-08-09T20:11:56.757Z"
   },
   {
    "duration": 15,
    "start_time": "2024-08-09T20:11:56.815Z"
   },
   {
    "duration": 26,
    "start_time": "2024-08-09T20:11:56.834Z"
   },
   {
    "duration": 129,
    "start_time": "2024-08-09T20:11:56.863Z"
   },
   {
    "duration": 29,
    "start_time": "2024-08-09T20:11:56.996Z"
   },
   {
    "duration": 13,
    "start_time": "2024-08-09T20:11:57.029Z"
   },
   {
    "duration": 18,
    "start_time": "2024-08-09T20:11:57.046Z"
   },
   {
    "duration": 42,
    "start_time": "2024-08-09T20:11:57.067Z"
   },
   {
    "duration": 23,
    "start_time": "2024-08-09T20:11:57.113Z"
   },
   {
    "duration": 17,
    "start_time": "2024-08-09T20:11:57.139Z"
   },
   {
    "duration": 78,
    "start_time": "2024-08-09T20:11:57.158Z"
   },
   {
    "duration": 23,
    "start_time": "2024-08-09T20:11:57.240Z"
   },
   {
    "duration": 12,
    "start_time": "2024-08-09T20:11:57.265Z"
   },
   {
    "duration": 8,
    "start_time": "2024-08-09T20:11:57.306Z"
   },
   {
    "duration": 41,
    "start_time": "2024-08-09T20:11:57.317Z"
   },
   {
    "duration": 64,
    "start_time": "2024-08-09T20:11:57.362Z"
   },
   {
    "duration": 28,
    "start_time": "2024-08-09T20:11:57.435Z"
   },
   {
    "duration": 1717,
    "start_time": "2024-08-09T20:11:57.466Z"
   },
   {
    "duration": 0,
    "start_time": "2024-08-09T20:11:59.186Z"
   },
   {
    "duration": 0,
    "start_time": "2024-08-09T20:11:59.188Z"
   },
   {
    "duration": 0,
    "start_time": "2024-08-09T20:11:59.191Z"
   },
   {
    "duration": 0,
    "start_time": "2024-08-09T20:11:59.206Z"
   },
   {
    "duration": 0,
    "start_time": "2024-08-09T20:11:59.209Z"
   },
   {
    "duration": 0,
    "start_time": "2024-08-09T20:11:59.212Z"
   },
   {
    "duration": 0,
    "start_time": "2024-08-09T20:11:59.215Z"
   },
   {
    "duration": 0,
    "start_time": "2024-08-09T20:11:59.218Z"
   },
   {
    "duration": 0,
    "start_time": "2024-08-09T20:11:59.220Z"
   },
   {
    "duration": 0,
    "start_time": "2024-08-09T20:11:59.222Z"
   },
   {
    "duration": 0,
    "start_time": "2024-08-09T20:11:59.225Z"
   },
   {
    "duration": 0,
    "start_time": "2024-08-09T20:11:59.227Z"
   },
   {
    "duration": 0,
    "start_time": "2024-08-09T20:11:59.243Z"
   },
   {
    "duration": 0,
    "start_time": "2024-08-09T20:11:59.246Z"
   },
   {
    "duration": 0,
    "start_time": "2024-08-09T20:11:59.249Z"
   },
   {
    "duration": 0,
    "start_time": "2024-08-09T20:11:59.250Z"
   },
   {
    "duration": 0,
    "start_time": "2024-08-09T20:11:59.306Z"
   },
   {
    "duration": 0,
    "start_time": "2024-08-09T20:11:59.309Z"
   },
   {
    "duration": 0,
    "start_time": "2024-08-09T20:11:59.312Z"
   },
   {
    "duration": 0,
    "start_time": "2024-08-09T20:11:59.314Z"
   },
   {
    "duration": 0,
    "start_time": "2024-08-09T20:11:59.315Z"
   },
   {
    "duration": 0,
    "start_time": "2024-08-09T20:11:59.317Z"
   },
   {
    "duration": 0,
    "start_time": "2024-08-09T20:11:59.320Z"
   },
   {
    "duration": 0,
    "start_time": "2024-08-09T20:11:59.322Z"
   },
   {
    "duration": 25,
    "start_time": "2024-08-09T20:13:24.079Z"
   },
   {
    "duration": 682,
    "start_time": "2024-08-09T20:14:17.371Z"
   },
   {
    "duration": 1233,
    "start_time": "2024-08-09T20:14:33.326Z"
   },
   {
    "duration": 288,
    "start_time": "2024-08-09T20:14:34.564Z"
   },
   {
    "duration": 18,
    "start_time": "2024-08-09T20:14:34.854Z"
   },
   {
    "duration": 34,
    "start_time": "2024-08-09T20:14:34.875Z"
   },
   {
    "duration": 3,
    "start_time": "2024-08-09T20:14:34.914Z"
   },
   {
    "duration": 5,
    "start_time": "2024-08-09T20:14:34.920Z"
   },
   {
    "duration": 15,
    "start_time": "2024-08-09T20:14:34.930Z"
   },
   {
    "duration": 57,
    "start_time": "2024-08-09T20:14:34.948Z"
   },
   {
    "duration": 9,
    "start_time": "2024-08-09T20:14:35.008Z"
   },
   {
    "duration": 8,
    "start_time": "2024-08-09T20:14:35.020Z"
   },
   {
    "duration": 26,
    "start_time": "2024-08-09T20:14:35.031Z"
   },
   {
    "duration": 59,
    "start_time": "2024-08-09T20:14:35.060Z"
   },
   {
    "duration": 16,
    "start_time": "2024-08-09T20:14:35.122Z"
   },
   {
    "duration": 24,
    "start_time": "2024-08-09T20:14:35.147Z"
   },
   {
    "duration": 99,
    "start_time": "2024-08-09T20:14:35.207Z"
   },
   {
    "duration": 22,
    "start_time": "2024-08-09T20:14:35.309Z"
   },
   {
    "duration": 15,
    "start_time": "2024-08-09T20:14:35.334Z"
   },
   {
    "duration": 18,
    "start_time": "2024-08-09T20:14:35.352Z"
   },
   {
    "duration": 37,
    "start_time": "2024-08-09T20:14:35.373Z"
   },
   {
    "duration": 24,
    "start_time": "2024-08-09T20:14:35.413Z"
   },
   {
    "duration": 19,
    "start_time": "2024-08-09T20:14:35.440Z"
   },
   {
    "duration": 85,
    "start_time": "2024-08-09T20:14:35.461Z"
   },
   {
    "duration": 23,
    "start_time": "2024-08-09T20:14:35.550Z"
   },
   {
    "duration": 37,
    "start_time": "2024-08-09T20:14:35.575Z"
   },
   {
    "duration": 8,
    "start_time": "2024-08-09T20:14:35.615Z"
   },
   {
    "duration": 39,
    "start_time": "2024-08-09T20:14:35.627Z"
   },
   {
    "duration": 65,
    "start_time": "2024-08-09T20:14:35.669Z"
   },
   {
    "duration": 30,
    "start_time": "2024-08-09T20:14:35.736Z"
   },
   {
    "duration": 1689,
    "start_time": "2024-08-09T20:14:35.768Z"
   },
   {
    "duration": 0,
    "start_time": "2024-08-09T20:14:37.461Z"
   },
   {
    "duration": 0,
    "start_time": "2024-08-09T20:14:37.464Z"
   },
   {
    "duration": 0,
    "start_time": "2024-08-09T20:14:37.467Z"
   },
   {
    "duration": 0,
    "start_time": "2024-08-09T20:14:37.469Z"
   },
   {
    "duration": 0,
    "start_time": "2024-08-09T20:14:37.471Z"
   },
   {
    "duration": 0,
    "start_time": "2024-08-09T20:14:37.473Z"
   },
   {
    "duration": 0,
    "start_time": "2024-08-09T20:14:37.475Z"
   },
   {
    "duration": 0,
    "start_time": "2024-08-09T20:14:37.506Z"
   },
   {
    "duration": 0,
    "start_time": "2024-08-09T20:14:37.508Z"
   },
   {
    "duration": 0,
    "start_time": "2024-08-09T20:14:37.510Z"
   },
   {
    "duration": 0,
    "start_time": "2024-08-09T20:14:37.511Z"
   },
   {
    "duration": 0,
    "start_time": "2024-08-09T20:14:37.513Z"
   },
   {
    "duration": 0,
    "start_time": "2024-08-09T20:14:37.516Z"
   },
   {
    "duration": 0,
    "start_time": "2024-08-09T20:14:37.518Z"
   },
   {
    "duration": 0,
    "start_time": "2024-08-09T20:14:37.520Z"
   },
   {
    "duration": 0,
    "start_time": "2024-08-09T20:14:37.523Z"
   },
   {
    "duration": 0,
    "start_time": "2024-08-09T20:14:37.525Z"
   },
   {
    "duration": 0,
    "start_time": "2024-08-09T20:14:37.527Z"
   },
   {
    "duration": 0,
    "start_time": "2024-08-09T20:14:37.528Z"
   },
   {
    "duration": 0,
    "start_time": "2024-08-09T20:14:37.530Z"
   },
   {
    "duration": 0,
    "start_time": "2024-08-09T20:14:37.533Z"
   },
   {
    "duration": 0,
    "start_time": "2024-08-09T20:14:37.535Z"
   },
   {
    "duration": 0,
    "start_time": "2024-08-09T20:14:37.536Z"
   },
   {
    "duration": 0,
    "start_time": "2024-08-09T20:14:37.539Z"
   },
   {
    "duration": 1187,
    "start_time": "2024-08-09T20:16:13.971Z"
   },
   {
    "duration": 295,
    "start_time": "2024-08-09T20:16:15.162Z"
   },
   {
    "duration": 17,
    "start_time": "2024-08-09T20:16:15.459Z"
   },
   {
    "duration": 37,
    "start_time": "2024-08-09T20:16:15.479Z"
   },
   {
    "duration": 5,
    "start_time": "2024-08-09T20:16:15.522Z"
   },
   {
    "duration": 4,
    "start_time": "2024-08-09T20:16:15.530Z"
   },
   {
    "duration": 17,
    "start_time": "2024-08-09T20:16:15.537Z"
   },
   {
    "duration": 60,
    "start_time": "2024-08-09T20:16:15.557Z"
   },
   {
    "duration": 8,
    "start_time": "2024-08-09T20:16:15.620Z"
   },
   {
    "duration": 7,
    "start_time": "2024-08-09T20:16:15.632Z"
   },
   {
    "duration": 25,
    "start_time": "2024-08-09T20:16:15.643Z"
   },
   {
    "duration": 18,
    "start_time": "2024-08-09T20:16:15.707Z"
   },
   {
    "duration": 17,
    "start_time": "2024-08-09T20:16:15.728Z"
   },
   {
    "duration": 60,
    "start_time": "2024-08-09T20:16:15.754Z"
   },
   {
    "duration": 95,
    "start_time": "2024-08-09T20:16:15.817Z"
   },
   {
    "duration": 19,
    "start_time": "2024-08-09T20:16:15.915Z"
   },
   {
    "duration": 15,
    "start_time": "2024-08-09T20:16:15.937Z"
   },
   {
    "duration": 53,
    "start_time": "2024-08-09T20:16:15.956Z"
   },
   {
    "duration": 11,
    "start_time": "2024-08-09T20:16:16.011Z"
   },
   {
    "duration": 23,
    "start_time": "2024-08-09T20:16:16.025Z"
   },
   {
    "duration": 16,
    "start_time": "2024-08-09T20:16:16.051Z"
   },
   {
    "duration": 17,
    "start_time": "2024-08-09T20:16:16.108Z"
   },
   {
    "duration": 26,
    "start_time": "2024-08-09T20:16:16.128Z"
   },
   {
    "duration": 12,
    "start_time": "2024-08-09T20:16:16.157Z"
   },
   {
    "duration": 8,
    "start_time": "2024-08-09T20:16:16.205Z"
   },
   {
    "duration": 40,
    "start_time": "2024-08-09T20:16:16.216Z"
   },
   {
    "duration": 61,
    "start_time": "2024-08-09T20:16:16.259Z"
   },
   {
    "duration": 29,
    "start_time": "2024-08-09T20:16:16.323Z"
   },
   {
    "duration": 1320,
    "start_time": "2024-08-09T20:16:16.355Z"
   },
   {
    "duration": 0,
    "start_time": "2024-08-09T20:16:17.679Z"
   },
   {
    "duration": 0,
    "start_time": "2024-08-09T20:16:17.682Z"
   },
   {
    "duration": 0,
    "start_time": "2024-08-09T20:16:17.685Z"
   },
   {
    "duration": 0,
    "start_time": "2024-08-09T20:16:17.687Z"
   },
   {
    "duration": 0,
    "start_time": "2024-08-09T20:16:17.706Z"
   },
   {
    "duration": 0,
    "start_time": "2024-08-09T20:16:17.708Z"
   },
   {
    "duration": 0,
    "start_time": "2024-08-09T20:16:17.711Z"
   },
   {
    "duration": 0,
    "start_time": "2024-08-09T20:16:17.715Z"
   },
   {
    "duration": 0,
    "start_time": "2024-08-09T20:16:17.717Z"
   },
   {
    "duration": 1,
    "start_time": "2024-08-09T20:16:17.720Z"
   },
   {
    "duration": 0,
    "start_time": "2024-08-09T20:16:17.722Z"
   },
   {
    "duration": 0,
    "start_time": "2024-08-09T20:16:17.724Z"
   },
   {
    "duration": 1,
    "start_time": "2024-08-09T20:16:17.727Z"
   },
   {
    "duration": 0,
    "start_time": "2024-08-09T20:16:17.730Z"
   },
   {
    "duration": 0,
    "start_time": "2024-08-09T20:16:17.732Z"
   },
   {
    "duration": 0,
    "start_time": "2024-08-09T20:16:17.734Z"
   },
   {
    "duration": 0,
    "start_time": "2024-08-09T20:16:17.740Z"
   },
   {
    "duration": 0,
    "start_time": "2024-08-09T20:16:17.742Z"
   },
   {
    "duration": 0,
    "start_time": "2024-08-09T20:16:17.744Z"
   },
   {
    "duration": 0,
    "start_time": "2024-08-09T20:16:17.748Z"
   },
   {
    "duration": 0,
    "start_time": "2024-08-09T20:16:17.808Z"
   },
   {
    "duration": 0,
    "start_time": "2024-08-09T20:16:17.810Z"
   },
   {
    "duration": 0,
    "start_time": "2024-08-09T20:16:17.813Z"
   },
   {
    "duration": 0,
    "start_time": "2024-08-09T20:16:17.817Z"
   },
   {
    "duration": 35,
    "start_time": "2024-08-09T20:17:18.564Z"
   },
   {
    "duration": 1239,
    "start_time": "2024-08-09T20:36:11.117Z"
   },
   {
    "duration": 288,
    "start_time": "2024-08-09T20:36:12.361Z"
   },
   {
    "duration": 20,
    "start_time": "2024-08-09T20:36:12.651Z"
   },
   {
    "duration": 35,
    "start_time": "2024-08-09T20:36:12.675Z"
   },
   {
    "duration": 4,
    "start_time": "2024-08-09T20:36:12.715Z"
   },
   {
    "duration": 5,
    "start_time": "2024-08-09T20:36:12.723Z"
   },
   {
    "duration": 18,
    "start_time": "2024-08-09T20:36:12.732Z"
   },
   {
    "duration": 58,
    "start_time": "2024-08-09T20:36:12.753Z"
   },
   {
    "duration": 8,
    "start_time": "2024-08-09T20:36:12.815Z"
   },
   {
    "duration": 7,
    "start_time": "2024-08-09T20:36:12.831Z"
   },
   {
    "duration": 64,
    "start_time": "2024-08-09T20:36:12.841Z"
   },
   {
    "duration": 18,
    "start_time": "2024-08-09T20:36:12.908Z"
   },
   {
    "duration": 16,
    "start_time": "2024-08-09T20:36:12.930Z"
   },
   {
    "duration": 60,
    "start_time": "2024-08-09T20:36:12.950Z"
   },
   {
    "duration": 96,
    "start_time": "2024-08-09T20:36:13.013Z"
   },
   {
    "duration": 20,
    "start_time": "2024-08-09T20:36:13.112Z"
   },
   {
    "duration": 15,
    "start_time": "2024-08-09T20:36:13.135Z"
   },
   {
    "duration": 56,
    "start_time": "2024-08-09T20:36:13.154Z"
   },
   {
    "duration": 11,
    "start_time": "2024-08-09T20:36:13.213Z"
   },
   {
    "duration": 24,
    "start_time": "2024-08-09T20:36:13.226Z"
   },
   {
    "duration": 54,
    "start_time": "2024-08-09T20:36:13.253Z"
   },
   {
    "duration": 27,
    "start_time": "2024-08-09T20:36:13.310Z"
   },
   {
    "duration": 21,
    "start_time": "2024-08-09T20:36:13.340Z"
   },
   {
    "duration": 43,
    "start_time": "2024-08-09T20:36:13.364Z"
   },
   {
    "duration": 8,
    "start_time": "2024-08-09T20:36:13.409Z"
   },
   {
    "duration": 42,
    "start_time": "2024-08-09T20:36:13.420Z"
   },
   {
    "duration": 63,
    "start_time": "2024-08-09T20:36:13.465Z"
   },
   {
    "duration": 30,
    "start_time": "2024-08-09T20:36:13.539Z"
   },
   {
    "duration": 56,
    "start_time": "2024-08-09T20:36:13.572Z"
   },
   {
    "duration": 39,
    "start_time": "2024-08-09T20:36:13.631Z"
   },
   {
    "duration": 33,
    "start_time": "2024-08-09T20:36:13.673Z"
   },
   {
    "duration": 1016,
    "start_time": "2024-08-09T20:36:13.709Z"
   },
   {
    "duration": 0,
    "start_time": "2024-08-09T20:36:14.728Z"
   },
   {
    "duration": 0,
    "start_time": "2024-08-09T20:36:14.731Z"
   },
   {
    "duration": 0,
    "start_time": "2024-08-09T20:36:14.733Z"
   },
   {
    "duration": 0,
    "start_time": "2024-08-09T20:36:14.736Z"
   },
   {
    "duration": 0,
    "start_time": "2024-08-09T20:36:14.739Z"
   },
   {
    "duration": 0,
    "start_time": "2024-08-09T20:36:14.741Z"
   },
   {
    "duration": 0,
    "start_time": "2024-08-09T20:36:14.743Z"
   },
   {
    "duration": 0,
    "start_time": "2024-08-09T20:36:14.746Z"
   },
   {
    "duration": 0,
    "start_time": "2024-08-09T20:36:14.747Z"
   },
   {
    "duration": 0,
    "start_time": "2024-08-09T20:36:14.749Z"
   },
   {
    "duration": 0,
    "start_time": "2024-08-09T20:36:14.752Z"
   },
   {
    "duration": 0,
    "start_time": "2024-08-09T20:36:14.755Z"
   },
   {
    "duration": 0,
    "start_time": "2024-08-09T20:36:14.758Z"
   },
   {
    "duration": 0,
    "start_time": "2024-08-09T20:36:14.807Z"
   },
   {
    "duration": 0,
    "start_time": "2024-08-09T20:36:14.809Z"
   },
   {
    "duration": 0,
    "start_time": "2024-08-09T20:36:14.812Z"
   },
   {
    "duration": 0,
    "start_time": "2024-08-09T20:36:14.815Z"
   },
   {
    "duration": 0,
    "start_time": "2024-08-09T20:36:14.817Z"
   },
   {
    "duration": 0,
    "start_time": "2024-08-09T20:36:14.819Z"
   },
   {
    "duration": 0,
    "start_time": "2024-08-09T20:36:14.822Z"
   },
   {
    "duration": 0,
    "start_time": "2024-08-09T20:36:14.824Z"
   },
   {
    "duration": 89,
    "start_time": "2024-08-09T20:40:30.309Z"
   },
   {
    "duration": 98,
    "start_time": "2024-08-09T20:41:06.077Z"
   },
   {
    "duration": 94,
    "start_time": "2024-08-09T20:42:56.499Z"
   },
   {
    "duration": 89,
    "start_time": "2024-08-09T20:44:49.243Z"
   },
   {
    "duration": 13,
    "start_time": "2024-08-09T20:45:44.497Z"
   },
   {
    "duration": 94,
    "start_time": "2024-08-09T20:46:46.394Z"
   },
   {
    "duration": 91,
    "start_time": "2024-08-09T20:49:57.248Z"
   },
   {
    "duration": 105,
    "start_time": "2024-08-09T20:53:02.187Z"
   },
   {
    "duration": 48,
    "start_time": "2024-08-09T20:53:47.799Z"
   },
   {
    "duration": 42,
    "start_time": "2024-08-09T20:56:56.054Z"
   },
   {
    "duration": 370,
    "start_time": "2024-08-09T20:58:02.567Z"
   },
   {
    "duration": 46,
    "start_time": "2024-08-09T20:58:34.307Z"
   },
   {
    "duration": 4297,
    "start_time": "2024-08-09T20:59:54.748Z"
   },
   {
    "duration": 46,
    "start_time": "2024-08-09T21:02:32.231Z"
   },
   {
    "duration": 1255,
    "start_time": "2024-08-09T21:02:50.307Z"
   },
   {
    "duration": 274,
    "start_time": "2024-08-09T21:02:51.566Z"
   },
   {
    "duration": 17,
    "start_time": "2024-08-09T21:02:51.843Z"
   },
   {
    "duration": 16,
    "start_time": "2024-08-09T21:02:51.865Z"
   },
   {
    "duration": 4,
    "start_time": "2024-08-09T21:02:51.907Z"
   },
   {
    "duration": 4,
    "start_time": "2024-08-09T21:02:51.914Z"
   },
   {
    "duration": 17,
    "start_time": "2024-08-09T21:02:51.921Z"
   },
   {
    "duration": 17,
    "start_time": "2024-08-09T21:02:51.942Z"
   },
   {
    "duration": 49,
    "start_time": "2024-08-09T21:02:51.963Z"
   },
   {
    "duration": 11,
    "start_time": "2024-08-09T21:02:52.018Z"
   },
   {
    "duration": 32,
    "start_time": "2024-08-09T21:02:52.032Z"
   },
   {
    "duration": 53,
    "start_time": "2024-08-09T21:02:52.067Z"
   },
   {
    "duration": 15,
    "start_time": "2024-08-09T21:02:52.123Z"
   },
   {
    "duration": 24,
    "start_time": "2024-08-09T21:02:52.142Z"
   },
   {
    "duration": 119,
    "start_time": "2024-08-09T21:02:52.169Z"
   },
   {
    "duration": 32,
    "start_time": "2024-08-09T21:02:52.291Z"
   },
   {
    "duration": 15,
    "start_time": "2024-08-09T21:02:52.326Z"
   },
   {
    "duration": 21,
    "start_time": "2024-08-09T21:02:52.344Z"
   },
   {
    "duration": 42,
    "start_time": "2024-08-09T21:02:52.368Z"
   },
   {
    "duration": 23,
    "start_time": "2024-08-09T21:02:52.413Z"
   },
   {
    "duration": 16,
    "start_time": "2024-08-09T21:02:52.440Z"
   },
   {
    "duration": 13,
    "start_time": "2024-08-09T21:02:52.505Z"
   },
   {
    "duration": 24,
    "start_time": "2024-08-09T21:02:52.521Z"
   },
   {
    "duration": 11,
    "start_time": "2024-08-09T21:02:52.547Z"
   },
   {
    "duration": 8,
    "start_time": "2024-08-09T21:02:52.561Z"
   },
   {
    "duration": 39,
    "start_time": "2024-08-09T21:02:52.607Z"
   },
   {
    "duration": 58,
    "start_time": "2024-08-09T21:02:52.649Z"
   },
   {
    "duration": 28,
    "start_time": "2024-08-09T21:02:52.716Z"
   },
   {
    "duration": 61,
    "start_time": "2024-08-09T21:02:52.746Z"
   },
   {
    "duration": 36,
    "start_time": "2024-08-09T21:02:52.811Z"
   },
   {
    "duration": 17,
    "start_time": "2024-08-09T21:02:52.850Z"
   },
   {
    "duration": 202,
    "start_time": "2024-08-09T21:02:52.870Z"
   },
   {
    "duration": 379,
    "start_time": "2024-08-09T21:02:53.076Z"
   },
   {
    "duration": 353,
    "start_time": "2024-08-09T21:02:53.458Z"
   },
   {
    "duration": 8,
    "start_time": "2024-08-09T21:02:53.815Z"
   },
   {
    "duration": 245,
    "start_time": "2024-08-09T21:02:53.826Z"
   },
   {
    "duration": 437,
    "start_time": "2024-08-09T21:02:54.075Z"
   },
   {
    "duration": 362,
    "start_time": "2024-08-09T21:02:54.515Z"
   },
   {
    "duration": 342,
    "start_time": "2024-08-09T21:02:54.880Z"
   },
   {
    "duration": 229,
    "start_time": "2024-08-09T21:02:55.226Z"
   },
   {
    "duration": 10,
    "start_time": "2024-08-09T21:02:55.459Z"
   },
   {
    "duration": 366,
    "start_time": "2024-08-09T21:02:55.474Z"
   },
   {
    "duration": 370,
    "start_time": "2024-08-09T21:02:55.844Z"
   },
   {
    "duration": 333,
    "start_time": "2024-08-09T21:02:56.218Z"
   },
   {
    "duration": 229,
    "start_time": "2024-08-09T21:02:56.554Z"
   },
   {
    "duration": 9,
    "start_time": "2024-08-09T21:02:56.786Z"
   },
   {
    "duration": 359,
    "start_time": "2024-08-09T21:02:56.808Z"
   },
   {
    "duration": 366,
    "start_time": "2024-08-09T21:02:57.170Z"
   },
   {
    "duration": 316,
    "start_time": "2024-08-09T21:02:57.539Z"
   },
   {
    "duration": 349,
    "start_time": "2024-08-09T21:02:57.858Z"
   },
   {
    "duration": 13,
    "start_time": "2024-08-09T21:02:58.214Z"
   },
   {
    "duration": 8,
    "start_time": "2024-08-09T21:02:58.230Z"
   },
   {
    "duration": 15,
    "start_time": "2024-08-09T21:02:58.242Z"
   },
   {
    "duration": 7,
    "start_time": "2024-08-09T21:13:44.445Z"
   },
   {
    "duration": 40,
    "start_time": "2024-08-09T21:13:51.159Z"
   },
   {
    "duration": 1603,
    "start_time": "2024-08-09T21:14:08.370Z"
   },
   {
    "duration": 1220,
    "start_time": "2024-08-09T21:14:46.545Z"
   },
   {
    "duration": 306,
    "start_time": "2024-08-09T21:14:47.770Z"
   },
   {
    "duration": 27,
    "start_time": "2024-08-09T21:14:48.079Z"
   },
   {
    "duration": 19,
    "start_time": "2024-08-09T21:14:48.113Z"
   },
   {
    "duration": 4,
    "start_time": "2024-08-09T21:14:48.134Z"
   },
   {
    "duration": 3,
    "start_time": "2024-08-09T21:14:48.142Z"
   },
   {
    "duration": 16,
    "start_time": "2024-08-09T21:14:48.148Z"
   },
   {
    "duration": 20,
    "start_time": "2024-08-09T21:14:48.206Z"
   },
   {
    "duration": 8,
    "start_time": "2024-08-09T21:14:48.229Z"
   },
   {
    "duration": 8,
    "start_time": "2024-08-09T21:14:48.243Z"
   },
   {
    "duration": 68,
    "start_time": "2024-08-09T21:14:48.254Z"
   },
   {
    "duration": 18,
    "start_time": "2024-08-09T21:14:48.325Z"
   },
   {
    "duration": 16,
    "start_time": "2024-08-09T21:14:48.346Z"
   },
   {
    "duration": 58,
    "start_time": "2024-08-09T21:14:48.365Z"
   },
   {
    "duration": 113,
    "start_time": "2024-08-09T21:14:48.426Z"
   },
   {
    "duration": 24,
    "start_time": "2024-08-09T21:14:48.542Z"
   },
   {
    "duration": 14,
    "start_time": "2024-08-09T21:14:48.569Z"
   },
   {
    "duration": 23,
    "start_time": "2024-08-09T21:14:48.607Z"
   },
   {
    "duration": 10,
    "start_time": "2024-08-09T21:14:48.632Z"
   },
   {
    "duration": 23,
    "start_time": "2024-08-09T21:14:48.646Z"
   },
   {
    "duration": 20,
    "start_time": "2024-08-09T21:14:48.707Z"
   },
   {
    "duration": 13,
    "start_time": "2024-08-09T21:14:48.730Z"
   },
   {
    "duration": 22,
    "start_time": "2024-08-09T21:14:48.745Z"
   },
   {
    "duration": 40,
    "start_time": "2024-08-09T21:14:48.771Z"
   },
   {
    "duration": 8,
    "start_time": "2024-08-09T21:14:48.816Z"
   },
   {
    "duration": 38,
    "start_time": "2024-08-09T21:14:48.828Z"
   },
   {
    "duration": 70,
    "start_time": "2024-08-09T21:14:48.869Z"
   },
   {
    "duration": 29,
    "start_time": "2024-08-09T21:14:48.950Z"
   },
   {
    "duration": 34,
    "start_time": "2024-08-09T21:14:49.007Z"
   },
   {
    "duration": 34,
    "start_time": "2024-08-09T21:14:49.044Z"
   },
   {
    "duration": 16,
    "start_time": "2024-08-09T21:14:49.106Z"
   },
   {
    "duration": 1018,
    "start_time": "2024-08-09T21:14:49.125Z"
   },
   {
    "duration": 0,
    "start_time": "2024-08-09T21:14:50.146Z"
   },
   {
    "duration": 0,
    "start_time": "2024-08-09T21:14:50.147Z"
   },
   {
    "duration": 0,
    "start_time": "2024-08-09T21:14:50.149Z"
   },
   {
    "duration": 0,
    "start_time": "2024-08-09T21:14:50.152Z"
   },
   {
    "duration": 0,
    "start_time": "2024-08-09T21:14:50.154Z"
   },
   {
    "duration": 0,
    "start_time": "2024-08-09T21:14:50.157Z"
   },
   {
    "duration": 0,
    "start_time": "2024-08-09T21:14:50.160Z"
   },
   {
    "duration": 0,
    "start_time": "2024-08-09T21:14:50.162Z"
   },
   {
    "duration": 0,
    "start_time": "2024-08-09T21:14:50.165Z"
   },
   {
    "duration": 0,
    "start_time": "2024-08-09T21:14:50.167Z"
   },
   {
    "duration": 0,
    "start_time": "2024-08-09T21:14:50.207Z"
   },
   {
    "duration": 1,
    "start_time": "2024-08-09T21:14:50.209Z"
   },
   {
    "duration": 0,
    "start_time": "2024-08-09T21:14:50.213Z"
   },
   {
    "duration": 0,
    "start_time": "2024-08-09T21:14:50.216Z"
   },
   {
    "duration": 0,
    "start_time": "2024-08-09T21:14:50.221Z"
   },
   {
    "duration": 0,
    "start_time": "2024-08-09T21:14:50.224Z"
   },
   {
    "duration": 0,
    "start_time": "2024-08-09T21:14:50.226Z"
   },
   {
    "duration": 0,
    "start_time": "2024-08-09T21:14:50.232Z"
   },
   {
    "duration": 0,
    "start_time": "2024-08-09T21:14:50.235Z"
   },
   {
    "duration": 0,
    "start_time": "2024-08-09T21:14:50.238Z"
   },
   {
    "duration": 0,
    "start_time": "2024-08-09T21:14:50.241Z"
   },
   {
    "duration": 95,
    "start_time": "2024-08-09T21:15:41.817Z"
   },
   {
    "duration": 104,
    "start_time": "2024-08-09T21:16:31.602Z"
   },
   {
    "duration": 94,
    "start_time": "2024-08-09T21:17:33.361Z"
   },
   {
    "duration": 103,
    "start_time": "2024-08-09T21:17:42.876Z"
   },
   {
    "duration": 799,
    "start_time": "2024-08-09T21:18:15.227Z"
   },
   {
    "duration": 4707,
    "start_time": "2024-08-09T21:20:46.383Z"
   },
   {
    "duration": 1284,
    "start_time": "2024-08-09T21:21:39.183Z"
   },
   {
    "duration": 306,
    "start_time": "2024-08-09T21:21:40.471Z"
   },
   {
    "duration": 18,
    "start_time": "2024-08-09T21:21:40.780Z"
   },
   {
    "duration": 18,
    "start_time": "2024-08-09T21:21:40.809Z"
   },
   {
    "duration": 4,
    "start_time": "2024-08-09T21:21:40.830Z"
   },
   {
    "duration": 4,
    "start_time": "2024-08-09T21:21:40.837Z"
   },
   {
    "duration": 63,
    "start_time": "2024-08-09T21:21:40.844Z"
   },
   {
    "duration": 17,
    "start_time": "2024-08-09T21:21:40.911Z"
   },
   {
    "duration": 9,
    "start_time": "2024-08-09T21:21:40.931Z"
   },
   {
    "duration": 7,
    "start_time": "2024-08-09T21:21:40.948Z"
   },
   {
    "duration": 66,
    "start_time": "2024-08-09T21:21:40.958Z"
   },
   {
    "duration": 17,
    "start_time": "2024-08-09T21:21:41.027Z"
   },
   {
    "duration": 15,
    "start_time": "2024-08-09T21:21:41.047Z"
   },
   {
    "duration": 61,
    "start_time": "2024-08-09T21:21:41.065Z"
   },
   {
    "duration": 105,
    "start_time": "2024-08-09T21:21:41.130Z"
   },
   {
    "duration": 20,
    "start_time": "2024-08-09T21:21:41.238Z"
   },
   {
    "duration": 15,
    "start_time": "2024-08-09T21:21:41.261Z"
   },
   {
    "duration": 45,
    "start_time": "2024-08-09T21:21:41.278Z"
   },
   {
    "duration": 10,
    "start_time": "2024-08-09T21:21:41.326Z"
   },
   {
    "duration": 24,
    "start_time": "2024-08-09T21:21:41.338Z"
   },
   {
    "duration": 52,
    "start_time": "2024-08-09T21:21:41.365Z"
   },
   {
    "duration": 13,
    "start_time": "2024-08-09T21:21:41.420Z"
   },
   {
    "duration": 21,
    "start_time": "2024-08-09T21:21:41.436Z"
   },
   {
    "duration": 49,
    "start_time": "2024-08-09T21:21:41.460Z"
   },
   {
    "duration": 10,
    "start_time": "2024-08-09T21:21:41.513Z"
   },
   {
    "duration": 42,
    "start_time": "2024-08-09T21:21:41.527Z"
   },
   {
    "duration": 64,
    "start_time": "2024-08-09T21:21:41.572Z"
   },
   {
    "duration": 27,
    "start_time": "2024-08-09T21:21:41.646Z"
   },
   {
    "duration": 34,
    "start_time": "2024-08-09T21:21:41.706Z"
   },
   {
    "duration": 36,
    "start_time": "2024-08-09T21:21:41.743Z"
   },
   {
    "duration": 14,
    "start_time": "2024-08-09T21:21:41.805Z"
   },
   {
    "duration": 4546,
    "start_time": "2024-08-09T21:21:41.822Z"
   },
   {
    "duration": 1112,
    "start_time": "2024-08-09T21:21:46.371Z"
   },
   {
    "duration": 0,
    "start_time": "2024-08-09T21:21:47.486Z"
   },
   {
    "duration": 0,
    "start_time": "2024-08-09T21:21:47.489Z"
   },
   {
    "duration": 0,
    "start_time": "2024-08-09T21:21:47.491Z"
   },
   {
    "duration": 0,
    "start_time": "2024-08-09T21:21:47.506Z"
   },
   {
    "duration": 0,
    "start_time": "2024-08-09T21:21:47.509Z"
   },
   {
    "duration": 0,
    "start_time": "2024-08-09T21:21:47.512Z"
   },
   {
    "duration": 0,
    "start_time": "2024-08-09T21:21:47.515Z"
   },
   {
    "duration": 0,
    "start_time": "2024-08-09T21:21:47.518Z"
   },
   {
    "duration": 0,
    "start_time": "2024-08-09T21:21:47.519Z"
   },
   {
    "duration": 0,
    "start_time": "2024-08-09T21:21:47.522Z"
   },
   {
    "duration": 0,
    "start_time": "2024-08-09T21:21:47.524Z"
   },
   {
    "duration": 0,
    "start_time": "2024-08-09T21:21:47.527Z"
   },
   {
    "duration": 0,
    "start_time": "2024-08-09T21:21:47.529Z"
   },
   {
    "duration": 0,
    "start_time": "2024-08-09T21:21:47.531Z"
   },
   {
    "duration": 0,
    "start_time": "2024-08-09T21:21:47.533Z"
   },
   {
    "duration": 0,
    "start_time": "2024-08-09T21:21:47.536Z"
   },
   {
    "duration": 0,
    "start_time": "2024-08-09T21:21:47.540Z"
   },
   {
    "duration": 0,
    "start_time": "2024-08-09T21:21:47.542Z"
   },
   {
    "duration": 0,
    "start_time": "2024-08-09T21:21:47.543Z"
   },
   {
    "duration": 0,
    "start_time": "2024-08-09T21:21:47.545Z"
   },
   {
    "duration": 1219,
    "start_time": "2024-08-09T21:29:09.627Z"
   },
   {
    "duration": 279,
    "start_time": "2024-08-09T21:29:10.852Z"
   },
   {
    "duration": 17,
    "start_time": "2024-08-09T21:29:11.133Z"
   },
   {
    "duration": 17,
    "start_time": "2024-08-09T21:29:11.154Z"
   },
   {
    "duration": 31,
    "start_time": "2024-08-09T21:29:11.176Z"
   },
   {
    "duration": 4,
    "start_time": "2024-08-09T21:29:11.211Z"
   },
   {
    "duration": 14,
    "start_time": "2024-08-09T21:29:11.219Z"
   },
   {
    "duration": 17,
    "start_time": "2024-08-09T21:29:11.236Z"
   },
   {
    "duration": 53,
    "start_time": "2024-08-09T21:29:11.257Z"
   },
   {
    "duration": 8,
    "start_time": "2024-08-09T21:29:11.313Z"
   },
   {
    "duration": 28,
    "start_time": "2024-08-09T21:29:11.324Z"
   },
   {
    "duration": 53,
    "start_time": "2024-08-09T21:29:11.355Z"
   },
   {
    "duration": 17,
    "start_time": "2024-08-09T21:29:11.411Z"
   },
   {
    "duration": 26,
    "start_time": "2024-08-09T21:29:11.436Z"
   },
   {
    "duration": 122,
    "start_time": "2024-08-09T21:29:11.465Z"
   },
   {
    "duration": 27,
    "start_time": "2024-08-09T21:29:11.590Z"
   },
   {
    "duration": 13,
    "start_time": "2024-08-09T21:29:11.621Z"
   },
   {
    "duration": 19,
    "start_time": "2024-08-09T21:29:11.637Z"
   },
   {
    "duration": 47,
    "start_time": "2024-08-09T21:29:11.659Z"
   },
   {
    "duration": 26,
    "start_time": "2024-08-09T21:29:11.709Z"
   },
   {
    "duration": 18,
    "start_time": "2024-08-09T21:29:11.738Z"
   },
   {
    "duration": 49,
    "start_time": "2024-08-09T21:29:11.758Z"
   },
   {
    "duration": 22,
    "start_time": "2024-08-09T21:29:11.810Z"
   },
   {
    "duration": 12,
    "start_time": "2024-08-09T21:29:11.835Z"
   },
   {
    "duration": 8,
    "start_time": "2024-08-09T21:29:11.850Z"
   },
   {
    "duration": 72,
    "start_time": "2024-08-09T21:29:11.861Z"
   },
   {
    "duration": 34,
    "start_time": "2024-08-09T21:29:11.935Z"
   },
   {
    "duration": 58,
    "start_time": "2024-08-09T21:29:11.972Z"
   },
   {
    "duration": 35,
    "start_time": "2024-08-09T21:29:12.033Z"
   },
   {
    "duration": 60,
    "start_time": "2024-08-09T21:29:12.071Z"
   },
   {
    "duration": 12,
    "start_time": "2024-08-09T21:29:12.134Z"
   },
   {
    "duration": 4546,
    "start_time": "2024-08-09T21:29:12.150Z"
   },
   {
    "duration": 378,
    "start_time": "2024-08-09T21:29:16.707Z"
   },
   {
    "duration": 339,
    "start_time": "2024-08-09T21:29:17.089Z"
   },
   {
    "duration": 9,
    "start_time": "2024-08-09T21:29:17.431Z"
   },
   {
    "duration": 243,
    "start_time": "2024-08-09T21:29:17.443Z"
   },
   {
    "duration": 448,
    "start_time": "2024-08-09T21:29:17.689Z"
   },
   {
    "duration": 344,
    "start_time": "2024-08-09T21:29:18.141Z"
   },
   {
    "duration": 332,
    "start_time": "2024-08-09T21:29:18.488Z"
   },
   {
    "duration": 236,
    "start_time": "2024-08-09T21:29:18.823Z"
   },
   {
    "duration": 7,
    "start_time": "2024-08-09T21:29:19.068Z"
   },
   {
    "duration": 367,
    "start_time": "2024-08-09T21:29:19.081Z"
   },
   {
    "duration": 366,
    "start_time": "2024-08-09T21:29:19.451Z"
   },
   {
    "duration": 331,
    "start_time": "2024-08-09T21:29:19.820Z"
   },
   {
    "duration": 222,
    "start_time": "2024-08-09T21:29:20.154Z"
   },
   {
    "duration": 9,
    "start_time": "2024-08-09T21:29:20.379Z"
   },
   {
    "duration": 366,
    "start_time": "2024-08-09T21:29:20.390Z"
   },
   {
    "duration": 367,
    "start_time": "2024-08-09T21:29:20.759Z"
   },
   {
    "duration": 311,
    "start_time": "2024-08-09T21:29:21.129Z"
   },
   {
    "duration": 339,
    "start_time": "2024-08-09T21:29:21.443Z"
   },
   {
    "duration": 21,
    "start_time": "2024-08-09T21:29:21.785Z"
   },
   {
    "duration": 7,
    "start_time": "2024-08-09T21:29:21.809Z"
   },
   {
    "duration": 16,
    "start_time": "2024-08-09T21:29:21.819Z"
   },
   {
    "duration": 323,
    "start_time": "2024-08-09T21:34:51.913Z"
   },
   {
    "duration": 322,
    "start_time": "2024-08-09T21:35:20.576Z"
   },
   {
    "duration": 325,
    "start_time": "2024-08-09T21:38:16.952Z"
   },
   {
    "duration": 330,
    "start_time": "2024-08-09T21:44:15.877Z"
   },
   {
    "duration": 331,
    "start_time": "2024-08-09T21:44:41.613Z"
   },
   {
    "duration": 334,
    "start_time": "2024-08-09T21:48:37.351Z"
   },
   {
    "duration": 339,
    "start_time": "2024-08-09T21:48:48.682Z"
   },
   {
    "duration": 330,
    "start_time": "2024-08-09T21:49:23.246Z"
   },
   {
    "duration": 328,
    "start_time": "2024-08-09T21:49:43.096Z"
   },
   {
    "duration": 313,
    "start_time": "2024-08-09T21:49:49.865Z"
   },
   {
    "duration": 451,
    "start_time": "2024-08-09T21:50:06.846Z"
   },
   {
    "duration": 358,
    "start_time": "2024-08-09T21:59:00.504Z"
   },
   {
    "duration": 338,
    "start_time": "2024-08-09T22:00:00.100Z"
   },
   {
    "duration": 343,
    "start_time": "2024-08-09T22:00:24.895Z"
   },
   {
    "duration": 341,
    "start_time": "2024-08-09T22:01:08.848Z"
   },
   {
    "duration": 344,
    "start_time": "2024-08-09T22:20:54.493Z"
   },
   {
    "duration": 321,
    "start_time": "2024-08-09T22:38:14.629Z"
   },
   {
    "duration": 337,
    "start_time": "2024-08-09T22:55:27.329Z"
   },
   {
    "duration": 352,
    "start_time": "2024-08-09T22:56:58.570Z"
   },
   {
    "duration": 356,
    "start_time": "2024-08-09T22:57:11.654Z"
   },
   {
    "duration": 327,
    "start_time": "2024-08-09T23:02:29.457Z"
   },
   {
    "duration": 464,
    "start_time": "2024-08-09T23:04:02.361Z"
   },
   {
    "duration": 356,
    "start_time": "2024-08-09T23:10:54.370Z"
   },
   {
    "duration": 323,
    "start_time": "2024-08-09T23:33:03.215Z"
   },
   {
    "duration": 204,
    "start_time": "2024-08-09T23:34:06.694Z"
   },
   {
    "duration": 344,
    "start_time": "2024-08-09T23:43:52.274Z"
   },
   {
    "duration": 380,
    "start_time": "2024-08-09T23:45:23.790Z"
   },
   {
    "duration": 335,
    "start_time": "2024-08-10T00:01:25.979Z"
   },
   {
    "duration": 329,
    "start_time": "2024-08-10T00:03:25.210Z"
   },
   {
    "duration": 4,
    "start_time": "2024-08-10T00:03:55.980Z"
   },
   {
    "duration": 3,
    "start_time": "2024-08-10T00:04:38.061Z"
   },
   {
    "duration": 325,
    "start_time": "2024-08-10T00:04:48.396Z"
   },
   {
    "duration": 338,
    "start_time": "2024-08-10T00:05:00.469Z"
   },
   {
    "duration": 222,
    "start_time": "2024-08-10T00:05:27.797Z"
   },
   {
    "duration": 6,
    "start_time": "2024-08-10T00:07:33.283Z"
   },
   {
    "duration": 441,
    "start_time": "2024-08-10T00:14:45.123Z"
   },
   {
    "duration": 4,
    "start_time": "2024-08-10T00:18:27.673Z"
   },
   {
    "duration": 361,
    "start_time": "2024-08-10T00:21:44.109Z"
   },
   {
    "duration": 4,
    "start_time": "2024-08-10T00:28:31.259Z"
   },
   {
    "duration": 4,
    "start_time": "2024-08-10T00:28:52.424Z"
   },
   {
    "duration": 8,
    "start_time": "2024-08-10T00:32:11.796Z"
   },
   {
    "duration": 1136,
    "start_time": "2024-08-10T00:44:05.759Z"
   },
   {
    "duration": 99,
    "start_time": "2024-08-10T00:45:14.242Z"
   },
   {
    "duration": 91,
    "start_time": "2024-08-10T00:45:45.270Z"
   },
   {
    "duration": 21,
    "start_time": "2024-08-10T00:46:06.054Z"
   },
   {
    "duration": 22,
    "start_time": "2024-08-10T00:46:12.516Z"
   },
   {
    "duration": 22,
    "start_time": "2024-08-10T00:47:22.723Z"
   },
   {
    "duration": 29,
    "start_time": "2024-08-10T00:47:35.710Z"
   },
   {
    "duration": 25,
    "start_time": "2024-08-10T00:47:50.718Z"
   },
   {
    "duration": 9,
    "start_time": "2024-08-10T00:48:59.957Z"
   },
   {
    "duration": 14,
    "start_time": "2024-08-10T00:49:08.091Z"
   },
   {
    "duration": 205,
    "start_time": "2024-08-10T00:50:06.575Z"
   },
   {
    "duration": 219,
    "start_time": "2024-08-10T00:53:15.934Z"
   },
   {
    "duration": 207,
    "start_time": "2024-08-10T00:53:30.332Z"
   },
   {
    "duration": 204,
    "start_time": "2024-08-10T00:55:03.952Z"
   },
   {
    "duration": 210,
    "start_time": "2024-08-10T00:55:18.996Z"
   },
   {
    "duration": 211,
    "start_time": "2024-08-10T00:55:39.408Z"
   },
   {
    "duration": 227,
    "start_time": "2024-08-10T00:56:26.451Z"
   },
   {
    "duration": 223,
    "start_time": "2024-08-10T00:56:41.066Z"
   },
   {
    "duration": 1112,
    "start_time": "2024-08-10T00:56:53.883Z"
   },
   {
    "duration": 197,
    "start_time": "2024-08-10T00:57:49.709Z"
   },
   {
    "duration": 8,
    "start_time": "2024-08-10T01:00:51.023Z"
   },
   {
    "duration": 370,
    "start_time": "2024-08-10T01:01:04.167Z"
   },
   {
    "duration": 8,
    "start_time": "2024-08-10T01:01:08.159Z"
   },
   {
    "duration": 1203,
    "start_time": "2024-08-10T01:01:37.672Z"
   },
   {
    "duration": 348,
    "start_time": "2024-08-10T01:01:38.880Z"
   },
   {
    "duration": 20,
    "start_time": "2024-08-10T01:01:39.230Z"
   },
   {
    "duration": 17,
    "start_time": "2024-08-10T01:01:39.255Z"
   },
   {
    "duration": 31,
    "start_time": "2024-08-10T01:01:39.275Z"
   },
   {
    "duration": 3,
    "start_time": "2024-08-10T01:01:39.310Z"
   },
   {
    "duration": 16,
    "start_time": "2024-08-10T01:01:39.316Z"
   },
   {
    "duration": 21,
    "start_time": "2024-08-10T01:01:39.335Z"
   },
   {
    "duration": 50,
    "start_time": "2024-08-10T01:01:39.360Z"
   },
   {
    "duration": 9,
    "start_time": "2024-08-10T01:01:39.416Z"
   },
   {
    "duration": 33,
    "start_time": "2024-08-10T01:01:39.428Z"
   },
   {
    "duration": 55,
    "start_time": "2024-08-10T01:01:39.464Z"
   },
   {
    "duration": 16,
    "start_time": "2024-08-10T01:01:39.522Z"
   },
   {
    "duration": 25,
    "start_time": "2024-08-10T01:01:39.541Z"
   },
   {
    "duration": 117,
    "start_time": "2024-08-10T01:01:39.569Z"
   },
   {
    "duration": 22,
    "start_time": "2024-08-10T01:01:39.706Z"
   },
   {
    "duration": 16,
    "start_time": "2024-08-10T01:01:39.731Z"
   },
   {
    "duration": 19,
    "start_time": "2024-08-10T01:01:39.750Z"
   },
   {
    "duration": 42,
    "start_time": "2024-08-10T01:01:39.772Z"
   },
   {
    "duration": 29,
    "start_time": "2024-08-10T01:01:39.817Z"
   },
   {
    "duration": 20,
    "start_time": "2024-08-10T01:01:39.849Z"
   },
   {
    "duration": 46,
    "start_time": "2024-08-10T01:01:39.872Z"
   },
   {
    "duration": 27,
    "start_time": "2024-08-10T01:01:39.922Z"
   },
   {
    "duration": 12,
    "start_time": "2024-08-10T01:01:39.953Z"
   },
   {
    "duration": 41,
    "start_time": "2024-08-10T01:01:39.968Z"
   },
   {
    "duration": 51,
    "start_time": "2024-08-10T01:01:40.012Z"
   },
   {
    "duration": 59,
    "start_time": "2024-08-10T01:01:40.066Z"
   },
   {
    "duration": 30,
    "start_time": "2024-08-10T01:01:40.135Z"
   },
   {
    "duration": 65,
    "start_time": "2024-08-10T01:01:40.168Z"
   },
   {
    "duration": 37,
    "start_time": "2024-08-10T01:01:40.236Z"
   },
   {
    "duration": 34,
    "start_time": "2024-08-10T01:01:40.277Z"
   },
   {
    "duration": 4587,
    "start_time": "2024-08-10T01:01:40.314Z"
   },
   {
    "duration": 402,
    "start_time": "2024-08-10T01:01:44.908Z"
   },
   {
    "duration": 356,
    "start_time": "2024-08-10T01:01:45.313Z"
   },
   {
    "duration": 10,
    "start_time": "2024-08-10T01:01:45.672Z"
   },
   {
    "duration": 290,
    "start_time": "2024-08-10T01:01:45.686Z"
   },
   {
    "duration": 433,
    "start_time": "2024-08-10T01:01:45.978Z"
   },
   {
    "duration": 6,
    "start_time": "2024-08-10T01:01:46.414Z"
   },
   {
    "duration": 342,
    "start_time": "2024-08-10T01:01:46.423Z"
   },
   {
    "duration": 244,
    "start_time": "2024-08-10T01:01:46.769Z"
   },
   {
    "duration": 10,
    "start_time": "2024-08-10T01:01:47.017Z"
   },
   {
    "duration": 384,
    "start_time": "2024-08-10T01:01:47.032Z"
   },
   {
    "duration": 4,
    "start_time": "2024-08-10T01:01:47.422Z"
   },
   {
    "duration": 350,
    "start_time": "2024-08-10T01:01:47.430Z"
   },
   {
    "duration": 261,
    "start_time": "2024-08-10T01:01:47.783Z"
   },
   {
    "duration": 9,
    "start_time": "2024-08-10T01:01:48.048Z"
   },
   {
    "duration": 399,
    "start_time": "2024-08-10T01:01:48.060Z"
   },
   {
    "duration": 10,
    "start_time": "2024-08-10T01:01:48.462Z"
   },
   {
    "duration": 270,
    "start_time": "2024-08-10T01:01:48.476Z"
   },
   {
    "duration": 8,
    "start_time": "2024-08-10T01:01:48.749Z"
   },
   {
    "duration": 20,
    "start_time": "2024-08-10T01:01:48.762Z"
   },
   {
    "duration": 191,
    "start_time": "2024-08-10T02:14:37.494Z"
   },
   {
    "duration": 22,
    "start_time": "2024-08-10T02:17:17.106Z"
   },
   {
    "duration": 1184,
    "start_time": "2024-08-10T02:18:04.954Z"
   },
   {
    "duration": 21,
    "start_time": "2024-08-10T02:18:16.885Z"
   },
   {
    "duration": 21,
    "start_time": "2024-08-10T02:19:27.248Z"
   },
   {
    "duration": 1164,
    "start_time": "2024-08-10T02:19:36.449Z"
   },
   {
    "duration": 284,
    "start_time": "2024-08-10T02:19:37.619Z"
   },
   {
    "duration": 28,
    "start_time": "2024-08-10T02:19:37.907Z"
   },
   {
    "duration": 17,
    "start_time": "2024-08-10T02:19:37.938Z"
   },
   {
    "duration": 3,
    "start_time": "2024-08-10T02:19:37.959Z"
   },
   {
    "duration": 3,
    "start_time": "2024-08-10T02:19:37.966Z"
   },
   {
    "duration": 49,
    "start_time": "2024-08-10T02:19:37.972Z"
   },
   {
    "duration": 16,
    "start_time": "2024-08-10T02:19:38.024Z"
   },
   {
    "duration": 9,
    "start_time": "2024-08-10T02:19:38.044Z"
   },
   {
    "duration": 7,
    "start_time": "2024-08-10T02:19:38.056Z"
   },
   {
    "duration": 65,
    "start_time": "2024-08-10T02:19:38.066Z"
   },
   {
    "duration": 17,
    "start_time": "2024-08-10T02:19:38.134Z"
   },
   {
    "duration": 14,
    "start_time": "2024-08-10T02:19:38.154Z"
   },
   {
    "duration": 28,
    "start_time": "2024-08-10T02:19:38.211Z"
   },
   {
    "duration": 111,
    "start_time": "2024-08-10T02:19:38.241Z"
   },
   {
    "duration": 20,
    "start_time": "2024-08-10T02:19:38.354Z"
   },
   {
    "duration": 32,
    "start_time": "2024-08-10T02:19:38.377Z"
   },
   {
    "duration": 20,
    "start_time": "2024-08-10T02:19:38.411Z"
   },
   {
    "duration": 10,
    "start_time": "2024-08-10T02:19:38.433Z"
   },
   {
    "duration": 59,
    "start_time": "2024-08-10T02:19:38.446Z"
   },
   {
    "duration": 18,
    "start_time": "2024-08-10T02:19:38.509Z"
   },
   {
    "duration": 13,
    "start_time": "2024-08-10T02:19:38.531Z"
   },
   {
    "duration": 21,
    "start_time": "2024-08-10T02:19:38.547Z"
   },
   {
    "duration": 44,
    "start_time": "2024-08-10T02:19:38.571Z"
   },
   {
    "duration": 8,
    "start_time": "2024-08-10T02:19:38.618Z"
   },
   {
    "duration": 37,
    "start_time": "2024-08-10T02:19:38.629Z"
   },
   {
    "duration": 66,
    "start_time": "2024-08-10T02:19:38.669Z"
   },
   {
    "duration": 27,
    "start_time": "2024-08-10T02:19:38.737Z"
   },
   {
    "duration": 58,
    "start_time": "2024-08-10T02:19:38.767Z"
   },
   {
    "duration": 34,
    "start_time": "2024-08-10T02:19:38.828Z"
   },
   {
    "duration": 11,
    "start_time": "2024-08-10T02:19:38.865Z"
   },
   {
    "duration": 4374,
    "start_time": "2024-08-10T02:19:38.878Z"
   },
   {
    "duration": 377,
    "start_time": "2024-08-10T02:19:43.255Z"
   },
   {
    "duration": 335,
    "start_time": "2024-08-10T02:19:43.635Z"
   },
   {
    "duration": 8,
    "start_time": "2024-08-10T02:19:43.973Z"
   },
   {
    "duration": 231,
    "start_time": "2024-08-10T02:19:43.984Z"
   },
   {
    "duration": 428,
    "start_time": "2024-08-10T02:19:44.219Z"
   },
   {
    "duration": 332,
    "start_time": "2024-08-10T02:19:44.650Z"
   },
   {
    "duration": 210,
    "start_time": "2024-08-10T02:19:44.985Z"
   },
   {
    "duration": 13,
    "start_time": "2024-08-10T02:19:45.198Z"
   },
   {
    "duration": 381,
    "start_time": "2024-08-10T02:19:45.219Z"
   },
   {
    "duration": 323,
    "start_time": "2024-08-10T02:19:45.605Z"
   },
   {
    "duration": 221,
    "start_time": "2024-08-10T02:19:45.931Z"
   },
   {
    "duration": 8,
    "start_time": "2024-08-10T02:19:46.155Z"
   },
   {
    "duration": 366,
    "start_time": "2024-08-10T02:19:46.166Z"
   },
   {
    "duration": 8,
    "start_time": "2024-08-10T02:19:46.540Z"
   },
   {
    "duration": 217,
    "start_time": "2024-08-10T02:19:46.551Z"
   },
   {
    "duration": 37,
    "start_time": "2024-08-10T02:19:46.772Z"
   },
   {
    "duration": 16,
    "start_time": "2024-08-10T02:19:46.812Z"
   }
  ],
  "colab": {
   "provenance": []
  },
  "kernelspec": {
   "display_name": "Python [conda env:base] *",
   "language": "python",
   "name": "conda-base-py"
  },
  "language_info": {
   "codemirror_mode": {
    "name": "ipython",
    "version": 3
   },
   "file_extension": ".py",
   "mimetype": "text/x-python",
   "name": "python",
   "nbconvert_exporter": "python",
   "pygments_lexer": "ipython3",
   "version": "3.11.7"
  },
  "toc": {
   "base_numbering": 1,
   "nav_menu": {},
   "number_sections": true,
   "sideBar": true,
   "skip_h1_title": false,
   "title_cell": "Table of Contents",
   "title_sidebar": "Contents",
   "toc_cell": false,
   "toc_position": {
    "height": "calc(100% - 180px)",
    "left": "10px",
    "top": "150px",
    "width": "189.705px"
   },
   "toc_section_display": true,
   "toc_window_display": true
  }
 },
 "nbformat": 4,
 "nbformat_minor": 4
}
